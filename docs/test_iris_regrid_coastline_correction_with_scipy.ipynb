{
 "cells": [
  {
   "cell_type": "markdown",
   "metadata": {},
   "source": [
    "# This note book will illustrate the Iris regridding algorithms used. For a small sampling combined land-sea area, the temperature phenomena are regridded from APS3 grids to APS2 grids for testing."
   ]
  },
  {
   "cell_type": "markdown",
   "metadata": {},
   "source": [
    "## The idea to be tested:\n",
    "## a) Does Scipy Interpolation differ by applying coastline correction?\n",
    "## b) How about Iris Regrid algorithm?"
   ]
  },
  {
   "cell_type": "code",
   "execution_count": 1,
   "metadata": {
    "collapsed": true
   },
   "outputs": [],
   "source": [
    "import iris\n",
    "import sys"
   ]
  },
  {
   "cell_type": "markdown",
   "metadata": {},
   "source": [
    "### This is loading metadata from a sample testing area retrieving from APS3 UM files."
   ]
  },
  {
   "cell_type": "code",
   "execution_count": 2,
   "metadata": {
    "collapsed": true
   },
   "outputs": [],
   "source": [
    "from machine_learning_regrid.tools.iris_tools import *"
   ]
  },
  {
   "cell_type": "code",
   "execution_count": 3,
   "metadata": {
    "collapsed": true
   },
   "outputs": [],
   "source": [
    "topo_aps2 = empty_3d_cube_aps2(\n",
    "    surface_alt_aps2_data, 'surface_altitude', 'm', 'm01s00i033')\n",
    "topo_aps3 = empty_3d_cube_aps3(\n",
    "    surface_alt_aps3_data, 'surface_altitude', 'm', 'm01s00i033')\n",
    "lsm_aps2 = empty_3d_cube_aps2(\n",
    "    lsm_aps2_data, 'land_area_fraction', '1', )\n",
    "lsm_aps3 = empty_3d_cube_aps3(\n",
    "    lsm_aps3_data, 'land_area_fraction', '1')\n",
    "t_scn_aps3 = empty_3d_cube_aps3(\n",
    "    t_scn_aps3_data, 'air_temperature', 'K')\n",
    "dpt_scn_aps3 = empty_3d_cube_aps3(\n",
    "    dpt_scn_aps3_data, 'dew_point_temperature', 'K', 'm01s03i250')\n",
    "sfc_prs_aps3 = empty_3d_cube_aps3(\n",
    "    sfc_prs_aps3_data, 'air_pressure_at_sea_level', 'Pa')"
   ]
  },
  {
   "cell_type": "code",
   "execution_count": 4,
   "metadata": {},
   "outputs": [
    {
     "name": "stdout",
     "output_type": "stream",
     "text": [
      "[[1 1 0 0 0 0]\n",
      " [1 1 1 0 0 0]\n",
      " [1 1 1 1 0 0]\n",
      " [1 1 1 1 0 0]\n",
      " [1 1 1 1 0 0]\n",
      " [1 1 1 1 0 0]]\n"
     ]
    }
   ],
   "source": [
    "print(lsm_aps3.data)"
   ]
  },
  {
   "cell_type": "code",
   "execution_count": 5,
   "metadata": {},
   "outputs": [
    {
     "name": "stdout",
     "output_type": "stream",
     "text": [
      "[[ 1.  0.  0.]\n",
      " [ 1.  1.  0.]\n",
      " [ 1.  1.  0.]]\n"
     ]
    }
   ],
   "source": [
    "print(lsm_aps2.data)"
   ]
  },
  {
   "cell_type": "code",
   "execution_count": 6,
   "metadata": {},
   "outputs": [
    {
     "name": "stdout",
     "output_type": "stream",
     "text": [
      "[[  30.79901695   24.64077759    0.            0.            0.            0.        ]\n",
      " [  40.51713181   57.62937927   44.1620636     0.            0.            0.        ]\n",
      " [  61.04179001   77.5438385    68.0868454    27.50967216    0.            0.        ]\n",
      " [ 197.31484985  109.88461304   81.08721161   47.29803085    0.            0.        ]\n",
      " [ 500.52633667  204.61886597   96.57264709   57.00541687    0.            0.        ]\n",
      " [ 801.8571167   337.81097412  131.99372864   66.28527832    0.            0.        ]]\n"
     ]
    }
   ],
   "source": [
    "print(topo_aps3.data)"
   ]
  },
  {
   "cell_type": "markdown",
   "metadata": {},
   "source": [
    "### What the regrid points look like, ie. APS3 to APS2?"
   ]
  },
  {
   "cell_type": "code",
   "execution_count": 7,
   "metadata": {},
   "outputs": [
    {
     "name": "stdout",
     "output_type": "stream",
     "text": [
      "[ 6.328125  6.5625    6.796875]\n",
      "[ 81.211053  81.562616  81.914179]\n"
     ]
    }
   ],
   "source": [
    "print(lsm_aps2.coord('latitude').points)\n",
    "print(lsm_aps2.coord('longitude').points)"
   ]
  },
  {
   "cell_type": "code",
   "execution_count": 8,
   "metadata": {},
   "outputs": [
    {
     "name": "stdout",
     "output_type": "stream",
     "text": [
      "[ 6.26953125  6.38671875  6.50390625  6.62109375  6.73828125  6.85546875]\n",
      "[ 81.12304688  81.29882812  81.47460938  81.65039062  81.82617188\n",
      "  82.00195312]\n"
     ]
    }
   ],
   "source": [
    "print(lsm_aps3.coord('latitude').points)\n",
    "print(lsm_aps3.coord('longitude').points)"
   ]
  },
  {
   "cell_type": "code",
   "execution_count": 9,
   "metadata": {
    "collapsed": true
   },
   "outputs": [],
   "source": [
    "import numpy as np\n",
    "def product(*iterables):\n",
    "    \"\"\" Equivalent of itertools.product for versions < 2.6,\n",
    "        which does NOT build intermediate results.\n",
    "        Omitted 'repeat' option.\n",
    "        product('ABCD', 'xy') --> Ax Ay Bx By Cx Cy Dx Dy\n",
    "    \"\"\"\n",
    "    nIters = len(iterables)\n",
    "    lstLenths = []\n",
    "    lstRemaining = [1]\n",
    "    for i in xrange(nIters-1,-1,-1):\n",
    "        m = len(iterables[i])\n",
    "        lstLenths.insert(0, m)\n",
    "        lstRemaining.insert(0, m * lstRemaining[0])\n",
    "    nProducts = lstRemaining.pop(0)\n",
    "\n",
    "    for p in xrange(nProducts):\n",
    "        lstVals = []\n",
    "\n",
    "        for i in xrange(nIters):\n",
    "            j = p/lstRemaining[i]%lstLenths[i]\n",
    "            lstVals.append(iterables[i][j])\n",
    "        yield tuple(lstVals)\n",
    "        \n",
    "def calc_cube_point_product(cube):\n",
    "    x = cube.coord('longitude').points[:]\n",
    "    y = cube.coord('latitude').points[:]\n",
    "    cube_points = np.array(list(product(x,y)))\n",
    "    return cube_points"
   ]
  },
  {
   "cell_type": "code",
   "execution_count": 10,
   "metadata": {
    "collapsed": true
   },
   "outputs": [],
   "source": [
    "aps2_points = calc_cube_point_product(topo_aps2)\n",
    "aps3_points = calc_cube_point_product(topo_aps3)"
   ]
  },
  {
   "cell_type": "code",
   "execution_count": 11,
   "metadata": {},
   "outputs": [
    {
     "data": {
      "text/plain": [
       "array([ 81.211053,  81.562616,  81.914179])"
      ]
     },
     "execution_count": 11,
     "metadata": {},
     "output_type": "execute_result"
    }
   ],
   "source": [
    "topo_aps2.coord('longitude').points[:]"
   ]
  },
  {
   "cell_type": "code",
   "execution_count": 12,
   "metadata": {},
   "outputs": [
    {
     "name": "stdout",
     "output_type": "stream",
     "text": [
      "[[ 81.211053   6.328125]\n",
      " [ 81.211053   6.5625  ]\n",
      " [ 81.211053   6.796875]\n",
      " [ 81.562616   6.328125]\n",
      " [ 81.562616   6.5625  ]\n",
      " [ 81.562616   6.796875]\n",
      " [ 81.914179   6.328125]\n",
      " [ 81.914179   6.5625  ]\n",
      " [ 81.914179   6.796875]]\n"
     ]
    }
   ],
   "source": [
    "print(aps2_points)"
   ]
  },
  {
   "cell_type": "code",
   "execution_count": 13,
   "metadata": {},
   "outputs": [
    {
     "name": "stdout",
     "output_type": "stream",
     "text": [
      "(0.35156299999999874, 0.234375)\n"
     ]
    }
   ],
   "source": [
    "x_interval = topo_aps2.coord('longitude').points[1] - topo_aps2.coord('longitude').points[0]\n",
    "y_interval = topo_aps2.coord('latitude').points[1] - topo_aps2.coord('latitude').points[0]\n",
    "print(x_interval, y_interval)"
   ]
  },
  {
   "cell_type": "code",
   "execution_count": 14,
   "metadata": {},
   "outputs": [
    {
     "data": {
      "image/png": "[encoded data removed]",
      "text/plain": [
       "<matplotlib.figure.Figure at 0x7f2286c5d290>"
      ]
     },
     "metadata": {},
     "output_type": "display_data"
    }
   ],
   "source": [
    "import matplotlib.pyplot as plt\n",
    "import matplotlib.ticker as plticker\n",
    "\n",
    "fig, ax=plt.subplots()\n",
    "#fig = plt.figure()\n",
    "\n",
    "loc_x = plticker.MultipleLocator(base=x_interval)\n",
    "loc_y = plticker.MultipleLocator(base=y_interval)\n",
    "\n",
    "ax.xaxis.set_major_locator(loc_x)\n",
    "ax.yaxis.set_major_locator(loc_y)\n",
    "\n",
    "# Add the grid\n",
    "ax.grid(which='major', axis='both', linestyle='-')\n",
    "\n",
    "aps2 = plt.scatter(*zip(*aps2_points), marker='o', s=30, color='red')\n",
    "aps3 = plt.scatter(*zip(*aps3_points), marker='*', s=30, color='blue')\n",
    "\n",
    "#plt.grid()\n",
    "plt.legend((aps2, aps3), ('APS2', 'APS3'), loc=2)\n",
    "fig.set_size_inches(15, 10)\n",
    "plt.show()"
   ]
  },
  {
   "cell_type": "markdown",
   "metadata": {},
   "source": [
    "# 1. Now Regrid Linear with Coastline Correction using the available algorithms, i.e. Iris & Scipy"
   ]
  },
  {
   "cell_type": "code",
   "execution_count": 15,
   "metadata": {
    "collapsed": true
   },
   "outputs": [],
   "source": [
    "from iris.cube import CubeList"
   ]
  },
  {
   "cell_type": "code",
   "execution_count": 16,
   "metadata": {
    "collapsed": true
   },
   "outputs": [],
   "source": [
    "# inputs\n",
    "input_cubes = CubeList([])\n",
    "input_cubes.append(t_scn_aps3)\n",
    "input_cubes.append(dpt_scn_aps3)\n",
    "# in_grids\n",
    "in_grids = CubeList([])\n",
    "in_grids.append(topo_aps3)\n",
    "in_grids.append(lsm_aps3)\n",
    "# out_grids\n",
    "out_grids = CubeList([])\n",
    "out_grids.append(topo_aps2)\n",
    "out_grids.append(lsm_aps2)"
   ]
  },
  {
   "cell_type": "code",
   "execution_count": 17,
   "metadata": {
    "collapsed": true
   },
   "outputs": [],
   "source": [
    "from machine_learning_regrid.ml_regrid import (\n",
    "    regrid_cube_by_iris_scheme)"
   ]
  },
  {
   "cell_type": "code",
   "execution_count": 18,
   "metadata": {
    "collapsed": true
   },
   "outputs": [],
   "source": [
    "def plot_two_cubes_in_same_scale(origin_cube, derived_cube, label_origin='Origin_UM', label_derived='Regridded_Data'):\n",
    "    import matplotlib.pyplot as plt\n",
    "    import iris.quickplot as qplt\n",
    "    \n",
    "    fig = plt.figure(figsize=(18, 12))\n",
    "\n",
    "    fig.add_subplot(221)\n",
    "    cm = qplt.pcolormesh(origin_cube)    \n",
    "    plt.gca().coastlines()\n",
    "\n",
    "    fig.add_subplot(222)\n",
    "    qplt.pcolormesh(derived_cube, cmap=cm.cmap, norm=cm.norm)\n",
    "    plt.gca().coastlines()\n",
    "\n",
    "    print(\"             {}                                           {}\".format(label_origin, label_derived))\n",
    "\n",
    "    plt.show()"
   ]
  },
  {
   "cell_type": "code",
   "execution_count": 51,
   "metadata": {},
   "outputs": [
    {
     "name": "stderr",
     "output_type": "stream",
     "text": [
      "/data/hwang/conda/miniconda3/envs/pre-proc-py2/lib/python2.7/site-packages/iris/coords.py:821: UserWarning: Coordinate 'longitude' is not bounded, guessing contiguous bounds.\n",
      "  'contiguous bounds.'.format(self.name()))\n",
      "/data/hwang/conda/miniconda3/envs/pre-proc-py2/lib/python2.7/site-packages/iris/coords.py:821: UserWarning: Coordinate 'latitude' is not bounded, guessing contiguous bounds.\n",
      "  'contiguous bounds.'.format(self.name()))\n"
     ]
    },
    {
     "name": "stdout",
     "output_type": "stream",
     "text": [
      "             LSM_APS3                                           LSM_APS2\n"
     ]
    },
    {
     "data": {
      "image/png": "[encoded data removed]",
      "text/plain": [
       "<matplotlib.figure.Figure at 0x7f22782dc7d0>"
      ]
     },
     "metadata": {},
     "output_type": "display_data"
    }
   ],
   "source": [
    "plot_two_cubes_in_same_scale(lsm_aps3, lsm_aps2, label_origin='LSM_APS3', label_derived='LSM_APS2')"
   ]
  },
  {
   "cell_type": "markdown",
   "metadata": {},
   "source": [
    "## 1.1 Air-temperature "
   ]
  },
  {
   "cell_type": "markdown",
   "metadata": {},
   "source": [
    "### 1.1.1 Iris Regridding"
   ]
  },
  {
   "cell_type": "code",
   "execution_count": 19,
   "metadata": {},
   "outputs": [
    {
     "name": "stdout",
     "output_type": "stream",
     "text": [
      "Processing air_temperature\n",
      "Processing dew_point_temperature\n"
     ]
    }
   ],
   "source": [
    "drv_t_scn_iris = regrid_cube_by_iris_scheme(t_scn_aps3, topo_aps2, scheme='linear')"
   ]
  },
  {
   "cell_type": "code",
   "execution_count": 21,
   "metadata": {},
   "outputs": [
    {
     "name": "stdout",
     "output_type": "stream",
     "text": [
      "             Origin_UM                                           Regridded_Data\n"
     ]
    },
    {
     "data": {
      "image/png": "[encoded data removed]",
      "text/plain": [
       "<matplotlib.figure.Figure at 0x7f2278e7a1d0>"
      ]
     },
     "metadata": {},
     "output_type": "display_data"
    }
   ],
   "source": [
    "plot_two_cubes_in_same_scale(t_scn_aps3, drv_t_scn_iris)"
   ]
  },
  {
   "cell_type": "code",
   "execution_count": 22,
   "metadata": {},
   "outputs": [
    {
     "name": "stdout",
     "output_type": "stream",
     "text": [
      "[[ 300.88344903  300.66382534  300.70716069]\n",
      " [ 300.95641012  300.08969424  300.68359893]\n",
      " [ 297.48944652  299.26620242  300.67580714]]\n"
     ]
    }
   ],
   "source": [
    "print(drv_t_scn_iris.data)"
   ]
  },
  {
   "cell_type": "markdown",
   "metadata": {},
   "source": [
    "### Conclusion Remarks 1.1.1: Iris regridding algorithm 'regrid_linear_iris_coastline' is also doing a reasonable job."
   ]
  },
  {
   "cell_type": "markdown",
   "metadata": {},
   "source": [
    "### 1.1.2 Scipy all interpolation (no coastline correction)"
   ]
  },
  {
   "cell_type": "code",
   "execution_count": 23,
   "metadata": {
    "collapsed": true
   },
   "outputs": [],
   "source": [
    "def get_grid_vector(lat, lon):\n",
    "    \"\"\"\n",
    "    Convert input lat, lon (nparray) into grid_mesh for scipy interpolate;\n",
    "    First step to prepare for scipy interpolation.\n",
    "    \"\"\"\n",
    "    import numpy as np\n",
    "    lat_mesh, lon_mesh = np.meshgrid(lat, lon)\n",
    "    lat_vec = np.ravel(lat_mesh)\n",
    "    lon_vec = np.ravel(lon_mesh)\n",
    "    return lat_vec, lon_vec\n",
    "\n",
    "def get_grid_points(lat, lon):\n",
    "    \"\"\"\n",
    "    Convert input lat, lon (nparray) into grid_points for scipy interpolate.\n",
    "    \"\"\"\n",
    "    lat_vec, lon_vec = get_grid_vector(lat, lon)\n",
    "    grid_points = np.vstack((lat_vec, lon_vec)).T\n",
    "    return grid_points\n",
    "\n",
    "def interpolate_by_scipy(src_data, lat_src, lon_src, lat_tgt, lon_tgt, method='linear'):\n",
    "    \"\"\"\n",
    "    Use Scipy to interpolate input source data to target grid.\n",
    "    ------\n",
    "    Input:\n",
    "        src_data: the metadata on src_grids\n",
    "        lat_src or lat_tgt: the latitude 1d np.array from source or target grids\n",
    "        lon_src or lon_tgt: the longitude 1d np.array from source or target grids\n",
    "        method: the interpolate method used by scipy RegularGridInterpolator\n",
    "                only available \"linear\" & \"nearest\"\n",
    "    Output:\n",
    "        tgt_data: the interpolated data on target grids.\n",
    "    \"\"\"\n",
    "    import scipy.interpolate as interpolator\n",
    "\n",
    "    # Need prepare grid_points and vestor for scipy interpolator\n",
    "    src_data_vec = np.ravel(src_data)\n",
    "    grid_points_src = get_grid_points(lat_src, lon_src)\n",
    "    lat_tgt_vec, lon_tgt_vec = get_grid_vector(lat_tgt, lon_tgt)\n",
    "    \n",
    "    # Define the interpolator\n",
    "    if method == 'linear':\n",
    "        scipy_interp = interpolator.LinearNDInterpolator(grid_points_src, src_data_vec)\n",
    "    elif method == 'nearest':\n",
    "        scipy_interp = interpolator.NearestNDInterpolator(grid_points_src, src_data_vec)\n",
    "    else:\n",
    "        raise ValueError(\"Only linear and nearest interpolations are available!\")\n",
    "    # Derive\n",
    "    tgt_data = scipy_interp(lat_tgt_vec, lon_tgt_vec)\n",
    "    # Need reshape back to 2d\n",
    "    tgt_data = tgt_data.reshape(len(lat_tgt), len(lon_tgt))\n",
    "    return tgt_data"
   ]
  },
  {
   "cell_type": "code",
   "execution_count": 25,
   "metadata": {
    "collapsed": true
   },
   "outputs": [],
   "source": [
    "from machine_learning_regrid.tools.iris_tools import *"
   ]
  },
  {
   "cell_type": "code",
   "execution_count": 26,
   "metadata": {
    "collapsed": true
   },
   "outputs": [],
   "source": [
    "def interpolate_cube_by_scipy(src_cube, src_grid_cube, tgt_grid_cube, method='linear'):\n",
    "    \"\"\"\n",
    "    Use Scipy to interpolate input cube (source data) to target grid.\n",
    "    ------\n",
    "    Input:\n",
    "        src_cube: the metadata cube on src_grids\n",
    "        src_grid_cube: a cube with source grids\n",
    "        tgt_grid_cube: a cube with target grids\n",
    "        method: the interpolate method used by scipy RegularGridInterpolator\n",
    "                only available \"linear\" & \"nearest\"\n",
    "    Output:\n",
    "        tgt_data: the interpolated data on target grids.\n",
    "    \"\"\"\n",
    "    import scipy.interpolate as interpolator\n",
    "\n",
    "    # Need prepare grid_points and vestor for scipy interpolator\n",
    "    src_data = src_cube.data\n",
    "    src_data_vec = np.ravel(src_data)\n",
    "    \n",
    "    # lat_src or lat_tgt: the latitude 1d np.array from source or target grids\n",
    "    # lon_src or lon_tgt: the longitude 1d np.array from source or target grids\n",
    "    lat_src = src_grid_cube.coord('latitude').points\n",
    "    lon_src = src_grid_cube.coord('longitude').points\n",
    "    \n",
    "    lat_tgt = tgt_grid_cube.coord('latitude').points\n",
    "    lon_tgt = tgt_grid_cube.coord('longitude').points\n",
    "    \n",
    "    grid_points_src = get_grid_points(lat_src, lon_src)\n",
    "    lat_tgt_vec, lon_tgt_vec = get_grid_vector(lat_tgt, lon_tgt)\n",
    "    \n",
    "    # Define the interpolator\n",
    "    if method == 'linear':\n",
    "        scipy_interp = interpolator.LinearNDInterpolator(grid_points_src, src_data_vec)\n",
    "    elif method == 'nearest':\n",
    "        scipy_interp = interpolator.NearestNDInterpolator(grid_points_src, src_data_vec)\n",
    "    else:\n",
    "        raise ValueError(\"Only linear and nearest interpolations are available!\")\n",
    "    # Derive\n",
    "    tgt_data = scipy_interp(lat_tgt_vec, lon_tgt_vec)\n",
    "    # Need reshape back to 2d\n",
    "    tgt_data = tgt_data.reshape(len(lat_tgt), len(lon_tgt))\n",
    "    \n",
    "    tgt_cube = create_derive_cube(src_cube, tgt_grid_cube)\n",
    "    tgt_cube.data = tgt_data\n",
    "    return tgt_cube"
   ]
  },
  {
   "cell_type": "code",
   "execution_count": 27,
   "metadata": {},
   "outputs": [],
   "source": [
    "drv_t_scn_scipy_one = interpolate_cube_by_scipy(t_scn_aps3, topo_aps3, topo_aps2)"
   ]
  },
  {
   "cell_type": "code",
   "execution_count": 28,
   "metadata": {},
   "outputs": [
    {
     "name": "stdout",
     "output_type": "stream",
     "text": [
      "             Origin_UM                                           Regridded_Data\n"
     ]
    },
    {
     "data": {
      "image/png": "[encoded data removed]",
      "text/plain": [
       "<matplotlib.figure.Figure at 0x7f2278e5f9d0>"
      ]
     },
     "metadata": {},
     "output_type": "display_data"
    }
   ],
   "source": [
    "plot_two_cubes_in_same_scale(t_scn_aps3, drv_t_scn_scipy_one)"
   ]
  },
  {
   "cell_type": "code",
   "execution_count": 29,
   "metadata": {},
   "outputs": [
    {
     "data": {
      "text/plain": [
       "array([[ 301.80512897,  300.69529197,  300.69530223],\n",
       "       [ 300.9757273 ,  300.37434009,  300.64848906],\n",
       "       [ 297.47593081,  299.21058541,  300.62505178]])"
      ]
     },
     "execution_count": 29,
     "metadata": {},
     "output_type": "execute_result"
    }
   ],
   "source": [
    "drv_t_scn_scipy_one.data"
   ]
  },
  {
   "cell_type": "code",
   "execution_count": 30,
   "metadata": {},
   "outputs": [
    {
     "data": {
      "text/plain": [
       "array([[ 300.88344903,  300.66382534,  300.70716069],\n",
       "       [ 300.95641012,  300.08969424,  300.68359893],\n",
       "       [ 297.48944652,  299.26620242,  300.67580714]])"
      ]
     },
     "execution_count": 30,
     "metadata": {},
     "output_type": "execute_result"
    }
   ],
   "source": [
    "drv_t_scn_iris.data"
   ]
  },
  {
   "cell_type": "markdown",
   "metadata": {},
   "source": [
    "### 1.1.3 Scipy two stage interpolate (use coastline correction)"
   ]
  },
  {
   "cell_type": "code",
   "execution_count": 31,
   "metadata": {
    "collapsed": true
   },
   "outputs": [],
   "source": [
    "def get_land_sea_index(lsm_cube):\n",
    "    \"\"\"\n",
    "    Return the land_indx and sea_indx from a given lsm_cube.\n",
    "    \"\"\"\n",
    "    sea_index = (lsm_cube.data == 0)\n",
    "    land_index = (lsm_cube.data != 0)\n",
    "    return land_index, sea_index\n",
    "\n",
    "def transform_cube_by_masked_index(cube, masked_indx):\n",
    "    \"\"\"\n",
    "    Transform the input cube based the land or sea mark given\n",
    "    \"\"\"\n",
    "    new_cube_data = np.ma.masked_array(cube.data, mask=masked_indx)\n",
    "    new_cube = cube.copy()\n",
    "    new_cube.data = new_cube_data\n",
    "    return new_cube"
   ]
  },
  {
   "cell_type": "code",
   "execution_count": 32,
   "metadata": {
    "collapsed": true
   },
   "outputs": [],
   "source": [
    "def two_stage_interp_cube(cube_src, topo_tgt, lsm_src, lsm_tgt, method='linear'):\n",
    "    \"\"\"\n",
    "    Do two stages interpolation (land & sea) seperately and then\n",
    "    integrate the results together by using Scipy Interpolate.\n",
    "    ------\n",
    "    Input:\n",
    "        cube_src: the phenomenon cube with the source grid;\n",
    "        topo_tgt: the topography cube with the target grid;\n",
    "        lsm_src: land sea mask for the source grid;\n",
    "        lsm_tgt: land sea mask for the target grid;\n",
    "        method: the interpolate method used by scipy RegularGridInterpolator\n",
    "                only available \"linear\" & \"nearest\"\n",
    "    Output:\n",
    "        drv_cube: the regridded cube on the target grid\n",
    "                  with integrated data of both land and sea.\n",
    "    \"\"\"\n",
    "    # Get the land and sea index for both grids\n",
    "    land_indx_src, sea_indx_src = get_land_sea_index(lsm_src)\n",
    "    land_indx_tgt, sea_indx_tgt = get_land_sea_index(lsm_tgt)\n",
    "\n",
    "    # Mask the src sea points for land cube\n",
    "    cube_land_src = transform_cube_by_masked_index(cube_src, sea_indx_src)\n",
    "    # Mask the src land points\n",
    "    cube_sea_src = transform_cube_by_masked_index(cube_src, land_indx_src)\n",
    "    # Mask the tgt sea points\n",
    "    topo_land_tgt = transform_cube_by_masked_index(topo_tgt, sea_indx_tgt)\n",
    "    # Mask the tgt land points\n",
    "    topo_sea_tgt = transform_cube_by_masked_index(topo_tgt, land_indx_tgt)\n",
    "\n",
    "    # Get the grids for both source and target\n",
    "    land_grids_src = get_cube_grid_points(cube_land_src)\n",
    "    sea_grids_src = get_cube_grid_points(cube_sea_src)\n",
    "\n",
    "    land_grids_tgt = get_cube_grid_points(topo_land_tgt)\n",
    "    sea_grids_tgt = get_cube_grid_points(topo_sea_tgt)\n",
    "\n",
    "    # Derive the cube_aps2 from aps3\n",
    "    drv_cube_land_data = interp_by_scipy(\n",
    "        cube_land_src.data, land_grids_src, land_grids_tgt, method=method)\n",
    "\n",
    "    drv_cube_sea_data = interp_by_scipy(\n",
    "        cube_sea_src.data, sea_grids_src, sea_grids_tgt, method=method)    \n",
    "    \n",
    "    # Combine the land & sea data together\n",
    "    drv_cube_tgt = create_derive_cube(cube_src, topo_tgt)\n",
    "    # Update with land data\n",
    "    combined_data = np.where(land_indx_tgt,\n",
    "                             drv_cube_land_data, drv_cube_tgt.data)\n",
    "    # Update with sea data\n",
    "    combined_data = np.where(sea_indx_tgt,\n",
    "                             drv_cube_sea_data, combined_data)\n",
    "    # update the cube with integrated data\n",
    "    drv_cube = update_cube_with_new_data(drv_cube_tgt, combined_data)\n",
    "    return drv_cube"
   ]
  },
  {
   "cell_type": "code",
   "execution_count": 33,
   "metadata": {
    "collapsed": true
   },
   "outputs": [],
   "source": [
    "drv_t_scn_scipy_two_stage = two_stage_interp(\n",
    "            t_scn_aps3, topo_aps2, lsm_aps3, lsm_aps2)"
   ]
  },
  {
   "cell_type": "code",
   "execution_count": 34,
   "metadata": {
    "scrolled": false
   },
   "outputs": [
    {
     "name": "stdout",
     "output_type": "stream",
     "text": [
      "             Origin_UM                                           Regridded_Data\n"
     ]
    },
    {
     "data": {
      "image/png": "[encoded data removed]",
      "text/plain": [
       "<matplotlib.figure.Figure at 0x7f2278960510>"
      ]
     },
     "metadata": {},
     "output_type": "display_data"
    }
   ],
   "source": [
    "plot_two_cubes_in_same_scale(t_scn_aps3, drv_t_scn_scipy_two_stage)"
   ]
  },
  {
   "cell_type": "code",
   "execution_count": 35,
   "metadata": {},
   "outputs": [
    {
     "data": {
      "text/plain": [
       "array([[ 301.80512897,  300.69529197,  300.69530223],\n",
       "       [ 300.9757273 ,  300.37434009,  300.64848906],\n",
       "       [ 297.47593081,  299.21058541,  300.62505178]])"
      ]
     },
     "execution_count": 35,
     "metadata": {},
     "output_type": "execute_result"
    }
   ],
   "source": [
    "drv_t_scn_scipy_one.data"
   ]
  },
  {
   "cell_type": "code",
   "execution_count": 36,
   "metadata": {},
   "outputs": [
    {
     "data": {
      "text/plain": [
       "array([[ 300.88446543,  300.66408303,  300.70700558],\n",
       "       [ 300.95622183,  300.08956019,  300.68359891],\n",
       "       [ 297.48763403,  299.26520042,  300.67576572]])"
      ]
     },
     "execution_count": 36,
     "metadata": {},
     "output_type": "execute_result"
    }
   ],
   "source": [
    "drv_t_scn_scipy_two_stage.data"
   ]
  },
  {
   "cell_type": "code",
   "execution_count": 52,
   "metadata": {},
   "outputs": [
    {
     "name": "stdout",
     "output_type": "stream",
     "text": [
      "             Scipy_regridded_one_step                                           Scipy_two_step_regrid\n"
     ]
    },
    {
     "data": {
      "image/png": "[encoded data removed]",
      "text/plain": [
       "<matplotlib.figure.Figure at 0x7f2277c16510>"
      ]
     },
     "metadata": {},
     "output_type": "display_data"
    }
   ],
   "source": [
    "plot_two_cubes_in_same_scale(drv_t_scn_scipy_one, drv_t_scn_scipy_two_stage, \"Scipy_regridded_one_step\", \"Scipy_two_step_regrid\")"
   ]
  },
  {
   "cell_type": "code",
   "execution_count": 42,
   "metadata": {
    "collapsed": true
   },
   "outputs": [],
   "source": [
    "def show_difference(cube_a, cube_b, accuracy=None, entropy=None):\n",
    "    import numpy as np\n",
    "    from numpy.testing import assert_array_less\n",
    "    \n",
    "    result = cube_a.data.flatten()\n",
    "    expected = cube_b.data.flatten()\n",
    "    \n",
    "    if accuracy is None:\n",
    "        accuracy = np.repeat(0.0001, len(result))\n",
    "    if entropy is None:\n",
    "        entropy = 0.02\n",
    "    # Now assert the data is as expected.\n",
    "    delta = np.abs(result - expected)\n",
    "    msg = ('\\nEntropy: {}\\nExpected entropy: {}\\n'\n",
    "           'Index  -/x   Delta     Target   Expected value   Actual Value'\n",
    "           ''.format(delta.sum(), entropy))\n",
    "    template = '\\n{0:3}     {1:2}  {2:6f}  {3:6f}    {4:6f}      {5:6f}'\n",
    "\n",
    "    for i, (r_del, t_del, r, t) in enumerate(zip(delta, accuracy,\n",
    "                                                 result, expected)):\n",
    "        msg += template.format(i, '-' if r_del < t_del else 'x',\n",
    "                               r_del, t_del,\n",
    "                               t, r)\n",
    "    # Ensure each accuracy component falls below the target.\n",
    "    assert_array_less(delta, accuracy, msg)\n",
    "    # Ensure that our entropy is close to the expected one.\n",
    "    # If this fails because the result is now smaller than expected, good!\n",
    "    # It means we can tighten the expected entropy *AND* the target delta.\n",
    "    if np.abs(entropy - delta.sum()) > 0.001:\n",
    "        print(msg)"
   ]
  },
  {
   "cell_type": "code",
   "execution_count": 44,
   "metadata": {
    "scrolled": false
   },
   "outputs": [
    {
     "ename": "AssertionError",
     "evalue": "\nArrays are not less-ordered\n\nEntropy: 1.42000319989\nExpected entropy: 0.02\nIndex  -/x   Delta     Target   Expected value   Actual Value\n  0     x   0.920664  0.000100    300.884465      301.805129\n  1     x   0.031209  0.000100    300.664083      300.695292\n  2     x   0.011703  0.000100    300.707006      300.695302\n  3     x   0.019505  0.000100    300.956222      300.975727\n  4     x   0.284780  0.000100    300.089560      300.374340\n  5     x   0.035110  0.000100    300.683599      300.648489\n  6     x   0.011703  0.000100    297.487634      297.475931\n  7     x   0.054615  0.000100    299.265200      299.210585\n  8     x   0.050714  0.000100    300.675766      300.625052\n(mismatch 100.0%)\n x: array([ 0.920664,  0.031209,  0.011703,  0.019505,  0.28478 ,  0.03511 ,\n        0.011703,  0.054615,  0.050714])\n y: array([ 0.0001,  0.0001,  0.0001,  0.0001,  0.0001,  0.0001,  0.0001,\n        0.0001,  0.0001])",
     "traceback": [
      "\u001b[0;31m---------------------------------------------------------------------------\u001b[0m",
      "\u001b[0;31mAssertionError\u001b[0m                            Traceback (most recent call last)",
      "\u001b[0;32m<ipython-input-44-713c14bd452d>\u001b[0m in \u001b[0;36m<module>\u001b[0;34m()\u001b[0m\n\u001b[0;32m----> 1\u001b[0;31m \u001b[0mshow_difference\u001b[0m\u001b[0;34m(\u001b[0m\u001b[0mdrv_t_scn_scipy_one\u001b[0m\u001b[0;34m,\u001b[0m \u001b[0mdrv_t_scn_scipy_two_stage\u001b[0m\u001b[0;34m)\u001b[0m\u001b[0;34m\u001b[0m\u001b[0m\n\u001b[0m",
      "\u001b[0;32m<ipython-input-42-a3851a602802>\u001b[0m in \u001b[0;36mshow_difference\u001b[0;34m(cube_a, cube_b, accuracy, entropy)\u001b[0m\n\u001b[1;32m     23\u001b[0m                                t, r)\n\u001b[1;32m     24\u001b[0m     \u001b[0;31m# Ensure each accuracy component falls below the target.\u001b[0m\u001b[0;34m\u001b[0m\u001b[0;34m\u001b[0m\u001b[0m\n\u001b[0;32m---> 25\u001b[0;31m     \u001b[0massert_array_less\u001b[0m\u001b[0;34m(\u001b[0m\u001b[0mdelta\u001b[0m\u001b[0;34m,\u001b[0m \u001b[0maccuracy\u001b[0m\u001b[0;34m,\u001b[0m \u001b[0mmsg\u001b[0m\u001b[0;34m)\u001b[0m\u001b[0;34m\u001b[0m\u001b[0m\n\u001b[0m\u001b[1;32m     26\u001b[0m     \u001b[0;31m# Ensure that our entropy is close to the expected one.\u001b[0m\u001b[0;34m\u001b[0m\u001b[0;34m\u001b[0m\u001b[0m\n\u001b[1;32m     27\u001b[0m     \u001b[0;31m# If this fails because the result is now smaller than expected, good!\u001b[0m\u001b[0;34m\u001b[0m\u001b[0;34m\u001b[0m\u001b[0m\n",
      "\u001b[0;32m/data/hwang/conda/miniconda3/envs/pre-proc-py2/lib/python2.7/site-packages/numpy/testing/utils.pyc\u001b[0m in \u001b[0;36massert_array_less\u001b[0;34m(x, y, err_msg, verbose)\u001b[0m\n\u001b[1;32m   1049\u001b[0m     assert_array_compare(operator.__lt__, x, y, err_msg=err_msg,\n\u001b[1;32m   1050\u001b[0m                          \u001b[0mverbose\u001b[0m\u001b[0;34m=\u001b[0m\u001b[0mverbose\u001b[0m\u001b[0;34m,\u001b[0m\u001b[0;34m\u001b[0m\u001b[0m\n\u001b[0;32m-> 1051\u001b[0;31m                          header='Arrays are not less-ordered')\n\u001b[0m\u001b[1;32m   1052\u001b[0m \u001b[0;34m\u001b[0m\u001b[0m\n\u001b[1;32m   1053\u001b[0m \u001b[0;34m\u001b[0m\u001b[0m\n",
      "\u001b[0;32m/data/hwang/conda/miniconda3/envs/pre-proc-py2/lib/python2.7/site-packages/numpy/testing/utils.pyc\u001b[0m in \u001b[0;36massert_array_compare\u001b[0;34m(comparison, x, y, err_msg, verbose, header, precision, equal_nan)\u001b[0m\n\u001b[1;32m    794\u001b[0m                                 names=('x', 'y'), precision=precision)\n\u001b[1;32m    795\u001b[0m             \u001b[0;32mif\u001b[0m \u001b[0;32mnot\u001b[0m \u001b[0mcond\u001b[0m\u001b[0;34m:\u001b[0m\u001b[0;34m\u001b[0m\u001b[0m\n\u001b[0;32m--> 796\u001b[0;31m                 \u001b[0;32mraise\u001b[0m \u001b[0mAssertionError\u001b[0m\u001b[0;34m(\u001b[0m\u001b[0mmsg\u001b[0m\u001b[0;34m)\u001b[0m\u001b[0;34m\u001b[0m\u001b[0m\n\u001b[0m\u001b[1;32m    797\u001b[0m     \u001b[0;32mexcept\u001b[0m \u001b[0mValueError\u001b[0m\u001b[0;34m:\u001b[0m\u001b[0;34m\u001b[0m\u001b[0m\n\u001b[1;32m    798\u001b[0m         \u001b[0;32mimport\u001b[0m \u001b[0mtraceback\u001b[0m\u001b[0;34m\u001b[0m\u001b[0m\n",
      "\u001b[0;31mAssertionError\u001b[0m: \nArrays are not less-ordered\n\nEntropy: 1.42000319989\nExpected entropy: 0.02\nIndex  -/x   Delta     Target   Expected value   Actual Value\n  0     x   0.920664  0.000100    300.884465      301.805129\n  1     x   0.031209  0.000100    300.664083      300.695292\n  2     x   0.011703  0.000100    300.707006      300.695302\n  3     x   0.019505  0.000100    300.956222      300.975727\n  4     x   0.284780  0.000100    300.089560      300.374340\n  5     x   0.035110  0.000100    300.683599      300.648489\n  6     x   0.011703  0.000100    297.487634      297.475931\n  7     x   0.054615  0.000100    299.265200      299.210585\n  8     x   0.050714  0.000100    300.675766      300.625052\n(mismatch 100.0%)\n x: array([ 0.920664,  0.031209,  0.011703,  0.019505,  0.28478 ,  0.03511 ,\n        0.011703,  0.054615,  0.050714])\n y: array([ 0.0001,  0.0001,  0.0001,  0.0001,  0.0001,  0.0001,  0.0001,\n        0.0001,  0.0001])"
     ],
     "output_type": "error"
    }
   ],
   "source": [
    "show_difference(drv_t_scn_scipy_one, drv_t_scn_scipy_two_stage)"
   ]
  },
  {
   "cell_type": "markdown",
   "metadata": {},
   "source": [
    "## 1.2 Air-temperature Regridding Result Comparison"
   ]
  },
  {
   "cell_type": "code",
   "execution_count": 39,
   "metadata": {},
   "outputs": [
    {
     "name": "stdout",
     "output_type": "stream",
     "text": [
      "             Iris_regridded_data                                           Scipy_one_step_regrid\n"
     ]
    },
    {
     "data": {
      "image/png": "[encoded data removed]",
      "text/plain": [
       "<matplotlib.figure.Figure at 0x7f227834fcd0>"
      ]
     },
     "metadata": {},
     "output_type": "display_data"
    }
   ],
   "source": [
    "plot_two_cubes_in_same_scale(drv_t_scn_iris, drv_t_scn_scipy_one, \"Iris_regridded_data\", \"Scipy_one_step_regrid\")"
   ]
  },
  {
   "cell_type": "code",
   "execution_count": 40,
   "metadata": {},
   "outputs": [
    {
     "name": "stdout",
     "output_type": "stream",
     "text": [
      "             Iris_regridded_data                                           Scipy_two_step_regrid\n"
     ]
    },
    {
     "data": {
      "image/png": "[encoded data removed]",
      "text/plain": [
       "<matplotlib.figure.Figure at 0x7f227883be50>"
      ]
     },
     "metadata": {},
     "output_type": "display_data"
    }
   ],
   "source": [
    "plot_two_cubes_in_same_scale(drv_t_scn_iris, drv_t_scn_scipy_two_stage, \"Iris_regridded_data\", \"Scipy_two_step_regrid\")"
   ]
  },
  {
   "cell_type": "code",
   "execution_count": 43,
   "metadata": {
    "scrolled": false
   },
   "outputs": [
    {
     "ename": "AssertionError",
     "evalue": "\nArrays are not less-ordered\n\nEntropy: 1.42396600012\nExpected entropy: 0.02\nIndex  -/x   Delta     Target   Expected value   Actual Value\n  0     x   0.921680  0.000100    301.805129      300.883449\n  1     x   0.031467  0.000100    300.695292      300.663825\n  2     x   0.011858  0.000100    300.695302      300.707161\n  3     x   0.019317  0.000100    300.975727      300.956410\n  4     x   0.284646  0.000100    300.374340      300.089694\n  5     x   0.035110  0.000100    300.648489      300.683599\n  6     x   0.013516  0.000100    297.475931      297.489447\n  7     x   0.055617  0.000100    299.210585      299.266202\n  8     x   0.050755  0.000100    300.625052      300.675807\n(mismatch 100.0%)\n x: array([ 0.92168 ,  0.031467,  0.011858,  0.019317,  0.284646,  0.03511 ,\n        0.013516,  0.055617,  0.050755])\n y: array([ 0.0001,  0.0001,  0.0001,  0.0001,  0.0001,  0.0001,  0.0001,\n        0.0001,  0.0001])",
     "traceback": [
      "\u001b[0;31m---------------------------------------------------------------------------\u001b[0m",
      "\u001b[0;31mAssertionError\u001b[0m                            Traceback (most recent call last)",
      "\u001b[0;32m<ipython-input-43-2eecd40c9f97>\u001b[0m in \u001b[0;36m<module>\u001b[0;34m()\u001b[0m\n\u001b[0;32m----> 1\u001b[0;31m \u001b[0mshow_difference\u001b[0m\u001b[0;34m(\u001b[0m\u001b[0mdrv_t_scn_iris\u001b[0m\u001b[0;34m,\u001b[0m \u001b[0mdrv_t_scn_scipy_one\u001b[0m\u001b[0;34m)\u001b[0m\u001b[0;34m\u001b[0m\u001b[0m\n\u001b[0m",
      "\u001b[0;32m<ipython-input-42-a3851a602802>\u001b[0m in \u001b[0;36mshow_difference\u001b[0;34m(cube_a, cube_b, accuracy, entropy)\u001b[0m\n\u001b[1;32m     23\u001b[0m                                t, r)\n\u001b[1;32m     24\u001b[0m     \u001b[0;31m# Ensure each accuracy component falls below the target.\u001b[0m\u001b[0;34m\u001b[0m\u001b[0;34m\u001b[0m\u001b[0m\n\u001b[0;32m---> 25\u001b[0;31m     \u001b[0massert_array_less\u001b[0m\u001b[0;34m(\u001b[0m\u001b[0mdelta\u001b[0m\u001b[0;34m,\u001b[0m \u001b[0maccuracy\u001b[0m\u001b[0;34m,\u001b[0m \u001b[0mmsg\u001b[0m\u001b[0;34m)\u001b[0m\u001b[0;34m\u001b[0m\u001b[0m\n\u001b[0m\u001b[1;32m     26\u001b[0m     \u001b[0;31m# Ensure that our entropy is close to the expected one.\u001b[0m\u001b[0;34m\u001b[0m\u001b[0;34m\u001b[0m\u001b[0m\n\u001b[1;32m     27\u001b[0m     \u001b[0;31m# If this fails because the result is now smaller than expected, good!\u001b[0m\u001b[0;34m\u001b[0m\u001b[0;34m\u001b[0m\u001b[0m\n",
      "\u001b[0;32m/data/hwang/conda/miniconda3/envs/pre-proc-py2/lib/python2.7/site-packages/numpy/testing/utils.pyc\u001b[0m in \u001b[0;36massert_array_less\u001b[0;34m(x, y, err_msg, verbose)\u001b[0m\n\u001b[1;32m   1049\u001b[0m     assert_array_compare(operator.__lt__, x, y, err_msg=err_msg,\n\u001b[1;32m   1050\u001b[0m                          \u001b[0mverbose\u001b[0m\u001b[0;34m=\u001b[0m\u001b[0mverbose\u001b[0m\u001b[0;34m,\u001b[0m\u001b[0;34m\u001b[0m\u001b[0m\n\u001b[0;32m-> 1051\u001b[0;31m                          header='Arrays are not less-ordered')\n\u001b[0m\u001b[1;32m   1052\u001b[0m \u001b[0;34m\u001b[0m\u001b[0m\n\u001b[1;32m   1053\u001b[0m \u001b[0;34m\u001b[0m\u001b[0m\n",
      "\u001b[0;32m/data/hwang/conda/miniconda3/envs/pre-proc-py2/lib/python2.7/site-packages/numpy/testing/utils.pyc\u001b[0m in \u001b[0;36massert_array_compare\u001b[0;34m(comparison, x, y, err_msg, verbose, header, precision, equal_nan)\u001b[0m\n\u001b[1;32m    794\u001b[0m                                 names=('x', 'y'), precision=precision)\n\u001b[1;32m    795\u001b[0m             \u001b[0;32mif\u001b[0m \u001b[0;32mnot\u001b[0m \u001b[0mcond\u001b[0m\u001b[0;34m:\u001b[0m\u001b[0;34m\u001b[0m\u001b[0m\n\u001b[0;32m--> 796\u001b[0;31m                 \u001b[0;32mraise\u001b[0m \u001b[0mAssertionError\u001b[0m\u001b[0;34m(\u001b[0m\u001b[0mmsg\u001b[0m\u001b[0;34m)\u001b[0m\u001b[0;34m\u001b[0m\u001b[0m\n\u001b[0m\u001b[1;32m    797\u001b[0m     \u001b[0;32mexcept\u001b[0m \u001b[0mValueError\u001b[0m\u001b[0;34m:\u001b[0m\u001b[0;34m\u001b[0m\u001b[0m\n\u001b[1;32m    798\u001b[0m         \u001b[0;32mimport\u001b[0m \u001b[0mtraceback\u001b[0m\u001b[0;34m\u001b[0m\u001b[0m\n",
      "\u001b[0;31mAssertionError\u001b[0m: \nArrays are not less-ordered\n\nEntropy: 1.42396600012\nExpected entropy: 0.02\nIndex  -/x   Delta     Target   Expected value   Actual Value\n  0     x   0.921680  0.000100    301.805129      300.883449\n  1     x   0.031467  0.000100    300.695292      300.663825\n  2     x   0.011858  0.000100    300.695302      300.707161\n  3     x   0.019317  0.000100    300.975727      300.956410\n  4     x   0.284646  0.000100    300.374340      300.089694\n  5     x   0.035110  0.000100    300.648489      300.683599\n  6     x   0.013516  0.000100    297.475931      297.489447\n  7     x   0.055617  0.000100    299.210585      299.266202\n  8     x   0.050755  0.000100    300.625052      300.675807\n(mismatch 100.0%)\n x: array([ 0.92168 ,  0.031467,  0.011858,  0.019317,  0.284646,  0.03511 ,\n        0.013516,  0.055617,  0.050755])\n y: array([ 0.0001,  0.0001,  0.0001,  0.0001,  0.0001,  0.0001,  0.0001,\n        0.0001,  0.0001])"
     ],
     "output_type": "error"
    }
   ],
   "source": [
    "show_difference(drv_t_scn_iris, drv_t_scn_scipy_one)"
   ]
  },
  {
   "cell_type": "code",
   "execution_count": 45,
   "metadata": {
    "scrolled": false
   },
   "outputs": [
    {
     "ename": "AssertionError",
     "evalue": "\nArrays are not less-ordered\n\nEntropy: 0.00460746692903\nExpected entropy: 0.02\nIndex  -/x   Delta     Target   Expected value   Actual Value\n  0     x   0.001016  0.000100    300.884465      300.883449\n  1     x   0.000258  0.000100    300.664083      300.663825\n  2     x   0.000155  0.000100    300.707006      300.707161\n  3     x   0.000188  0.000100    300.956222      300.956410\n  4     x   0.000134  0.000100    300.089560      300.089694\n  5     -   0.000000  0.000100    300.683599      300.683599\n  6     x   0.001812  0.000100    297.487634      297.489447\n  7     x   0.001002  0.000100    299.265200      299.266202\n  8     -   0.000041  0.000100    300.675766      300.675807\n(mismatch 77.7777777778%)\n x: array([  1.016400e-03,   2.576889e-04,   1.551111e-04,   1.882889e-04,\n         1.340445e-04,   2.222225e-08,   1.812489e-03,   1.002000e-03,\n         4.142222e-05])\n y: array([ 0.0001,  0.0001,  0.0001,  0.0001,  0.0001,  0.0001,  0.0001,\n        0.0001,  0.0001])",
     "traceback": [
      "\u001b[0;31m---------------------------------------------------------------------------\u001b[0m",
      "\u001b[0;31mAssertionError\u001b[0m                            Traceback (most recent call last)",
      "\u001b[0;32m<ipython-input-45-709c21e89ccc>\u001b[0m in \u001b[0;36m<module>\u001b[0;34m()\u001b[0m\n\u001b[0;32m----> 1\u001b[0;31m \u001b[0mshow_difference\u001b[0m\u001b[0;34m(\u001b[0m\u001b[0mdrv_t_scn_iris\u001b[0m\u001b[0;34m,\u001b[0m \u001b[0mdrv_t_scn_scipy_two_stage\u001b[0m\u001b[0;34m)\u001b[0m\u001b[0;34m\u001b[0m\u001b[0m\n\u001b[0m",
      "\u001b[0;32m<ipython-input-42-a3851a602802>\u001b[0m in \u001b[0;36mshow_difference\u001b[0;34m(cube_a, cube_b, accuracy, entropy)\u001b[0m\n\u001b[1;32m     23\u001b[0m                                t, r)\n\u001b[1;32m     24\u001b[0m     \u001b[0;31m# Ensure each accuracy component falls below the target.\u001b[0m\u001b[0;34m\u001b[0m\u001b[0;34m\u001b[0m\u001b[0m\n\u001b[0;32m---> 25\u001b[0;31m     \u001b[0massert_array_less\u001b[0m\u001b[0;34m(\u001b[0m\u001b[0mdelta\u001b[0m\u001b[0;34m,\u001b[0m \u001b[0maccuracy\u001b[0m\u001b[0;34m,\u001b[0m \u001b[0mmsg\u001b[0m\u001b[0;34m)\u001b[0m\u001b[0;34m\u001b[0m\u001b[0m\n\u001b[0m\u001b[1;32m     26\u001b[0m     \u001b[0;31m# Ensure that our entropy is close to the expected one.\u001b[0m\u001b[0;34m\u001b[0m\u001b[0;34m\u001b[0m\u001b[0m\n\u001b[1;32m     27\u001b[0m     \u001b[0;31m# If this fails because the result is now smaller than expected, good!\u001b[0m\u001b[0;34m\u001b[0m\u001b[0;34m\u001b[0m\u001b[0m\n",
      "\u001b[0;32m/data/hwang/conda/miniconda3/envs/pre-proc-py2/lib/python2.7/site-packages/numpy/testing/utils.pyc\u001b[0m in \u001b[0;36massert_array_less\u001b[0;34m(x, y, err_msg, verbose)\u001b[0m\n\u001b[1;32m   1049\u001b[0m     assert_array_compare(operator.__lt__, x, y, err_msg=err_msg,\n\u001b[1;32m   1050\u001b[0m                          \u001b[0mverbose\u001b[0m\u001b[0;34m=\u001b[0m\u001b[0mverbose\u001b[0m\u001b[0;34m,\u001b[0m\u001b[0;34m\u001b[0m\u001b[0m\n\u001b[0;32m-> 1051\u001b[0;31m                          header='Arrays are not less-ordered')\n\u001b[0m\u001b[1;32m   1052\u001b[0m \u001b[0;34m\u001b[0m\u001b[0m\n\u001b[1;32m   1053\u001b[0m \u001b[0;34m\u001b[0m\u001b[0m\n",
      "\u001b[0;32m/data/hwang/conda/miniconda3/envs/pre-proc-py2/lib/python2.7/site-packages/numpy/testing/utils.pyc\u001b[0m in \u001b[0;36massert_array_compare\u001b[0;34m(comparison, x, y, err_msg, verbose, header, precision, equal_nan)\u001b[0m\n\u001b[1;32m    794\u001b[0m                                 names=('x', 'y'), precision=precision)\n\u001b[1;32m    795\u001b[0m             \u001b[0;32mif\u001b[0m \u001b[0;32mnot\u001b[0m \u001b[0mcond\u001b[0m\u001b[0;34m:\u001b[0m\u001b[0;34m\u001b[0m\u001b[0m\n\u001b[0;32m--> 796\u001b[0;31m                 \u001b[0;32mraise\u001b[0m \u001b[0mAssertionError\u001b[0m\u001b[0;34m(\u001b[0m\u001b[0mmsg\u001b[0m\u001b[0;34m)\u001b[0m\u001b[0;34m\u001b[0m\u001b[0m\n\u001b[0m\u001b[1;32m    797\u001b[0m     \u001b[0;32mexcept\u001b[0m \u001b[0mValueError\u001b[0m\u001b[0;34m:\u001b[0m\u001b[0;34m\u001b[0m\u001b[0m\n\u001b[1;32m    798\u001b[0m         \u001b[0;32mimport\u001b[0m \u001b[0mtraceback\u001b[0m\u001b[0;34m\u001b[0m\u001b[0m\n",
      "\u001b[0;31mAssertionError\u001b[0m: \nArrays are not less-ordered\n\nEntropy: 0.00460746692903\nExpected entropy: 0.02\nIndex  -/x   Delta     Target   Expected value   Actual Value\n  0     x   0.001016  0.000100    300.884465      300.883449\n  1     x   0.000258  0.000100    300.664083      300.663825\n  2     x   0.000155  0.000100    300.707006      300.707161\n  3     x   0.000188  0.000100    300.956222      300.956410\n  4     x   0.000134  0.000100    300.089560      300.089694\n  5     -   0.000000  0.000100    300.683599      300.683599\n  6     x   0.001812  0.000100    297.487634      297.489447\n  7     x   0.001002  0.000100    299.265200      299.266202\n  8     -   0.000041  0.000100    300.675766      300.675807\n(mismatch 77.7777777778%)\n x: array([  1.016400e-03,   2.576889e-04,   1.551111e-04,   1.882889e-04,\n         1.340445e-04,   2.222225e-08,   1.812489e-03,   1.002000e-03,\n         4.142222e-05])\n y: array([ 0.0001,  0.0001,  0.0001,  0.0001,  0.0001,  0.0001,  0.0001,\n        0.0001,  0.0001])"
     ],
     "output_type": "error"
    }
   ],
   "source": [
    "show_difference(drv_t_scn_iris, drv_t_scn_scipy_two_stage)"
   ]
  },
  {
   "cell_type": "markdown",
   "metadata": {
    "collapsed": true
   },
   "source": [
    "## Conclusion Remarks: Iris regrid results are more close to Scipy coastline correction interpolation results."
   ]
  },
  {
   "cell_type": "markdown",
   "metadata": {},
   "source": [
    "## 1.3 Iris regrid intergrates with coastline correction"
   ]
  },
  {
   "cell_type": "code",
   "execution_count": 47,
   "metadata": {
    "collapsed": true
   },
   "outputs": [],
   "source": [
    "def two_stage_interp(cube_aps3, cube_aps2, lsm_src, lsm_tgt, **args):\n",
    "    \"\"\"\n",
    "    Do two stages interpolation (land & sea) seperately and then\n",
    "    integrate the results together.\n",
    "    ------\n",
    "    Input:\n",
    "        cube_aps3: the source cube with APS3 grid;\n",
    "        cube_aps2: the target cube with APS2 grid;\n",
    "        lsm_src: land/sea mask cube from source grids\n",
    "        lsm_src: land/sea mask cube from target grids\n",
    "        land_aps3(or aps2)_indx: land index for a grid;\n",
    "        sea_aps3(or aps2)_indx: sea index for a grid;\n",
    "    Output:\n",
    "        drv_cube_land_aps2: an updated regridded cube with integrated data\n",
    "                            of both land and sea although named by land.\n",
    "    \"\"\"\n",
    "    # Get the land and sea index for both grids\n",
    "    land_aps3_indx, sea_aps3_indx = get_land_sea_index(lsm_src)\n",
    "    land_aps2_indx, sea_aps2_indx = get_land_sea_index(lsm_tgt)\n",
    "    \n",
    "    # Mask the APS3 sea points\n",
    "    cube_land_aps3 = transform_cube_by_masked_index(cube_aps3, sea_aps3_indx)\n",
    "    # Mask the APS3 land points\n",
    "    cube_sea_aps3 = transform_cube_by_masked_index(cube_aps3, land_aps3_indx)\n",
    "    # Mask the APS2 sea points\n",
    "    cube_land_aps2 = transform_cube_by_masked_index(cube_aps2, sea_aps2_indx)\n",
    "    # Mask the APS2 land points\n",
    "    cube_sea_aps2 = transform_cube_by_masked_index(cube_aps2, land_aps2_indx)\n",
    "\n",
    "    # Derive the cube_aps2 from aps3\n",
    "    drv_cube_land_aps2 = cube_land_aps3.regrid(\n",
    "                            cube_land_aps2, iris.analysis.Linear())\n",
    "    drv_cube_sea_aps2 = cube_sea_aps3.regrid(\n",
    "                            cube_sea_aps2, iris.analysis.Linear())\n",
    "\n",
    "    # Combine the land & sea data together\n",
    "    combined_data = drv_cube_land_aps2.data\n",
    "    combined_data = np.where(sea_aps2_indx,\n",
    "                             drv_cube_sea_aps2.data, combined_data)\n",
    "    # update the cube with integrated data\n",
    "    drv_cube_land_aps2.data = combined_data\n",
    "\n",
    "    return drv_cube_land_aps2"
   ]
  },
  {
   "cell_type": "code",
   "execution_count": 48,
   "metadata": {
    "collapsed": true
   },
   "outputs": [],
   "source": [
    "drv_t_scn_iris_two_stage = two_stage_interp(t_scn_aps3, topo_aps2, lsm_aps3, lsm_aps2)"
   ]
  },
  {
   "cell_type": "code",
   "execution_count": 49,
   "metadata": {},
   "outputs": [
    {
     "name": "stdout",
     "output_type": "stream",
     "text": [
      "             Iris_regridded_data                                           Iris_two_step_regrid\n"
     ]
    },
    {
     "data": {
      "image/png": "[encoded data removed]",
      "text/plain": [
       "<matplotlib.figure.Figure at 0x7f22782dca50>"
      ]
     },
     "metadata": {},
     "output_type": "display_data"
    }
   ],
   "source": [
    "plot_two_cubes_in_same_scale(drv_t_scn_iris, drv_t_scn_iris_two_stage, \"Iris_regridded_data\", \"Iris_two_step_regrid\")"
   ]
  },
  {
   "cell_type": "code",
   "execution_count": 50,
   "metadata": {},
   "outputs": [
    {
     "name": "stdout",
     "output_type": "stream",
     "text": [
      "\n",
      "Entropy: 0.0\n",
      "Expected entropy: 0.02\n",
      "Index  -/x   Delta     Target   Expected value   Actual Value\n",
      "  0     -   0.000000  0.000100    300.883449      300.883449\n",
      "  1     -   0.000000  0.000100    300.663825      300.663825\n",
      "  2     -   0.000000  0.000100    300.707161      300.707161\n",
      "  3     -   0.000000  0.000100    300.956410      300.956410\n",
      "  4     -   0.000000  0.000100    300.089694      300.089694\n",
      "  5     -   0.000000  0.000100    300.683599      300.683599\n",
      "  6     -   0.000000  0.000100    297.489447      297.489447\n",
      "  7     -   0.000000  0.000100    299.266202      299.266202\n",
      "  8     -   0.000000  0.000100    300.675807      300.675807\n"
     ]
    }
   ],
   "source": [
    "show_difference(drv_t_scn_iris, drv_t_scn_iris_two_stage)"
   ]
  },
  {
   "cell_type": "code",
   "execution_count": null,
   "metadata": {
    "collapsed": true
   },
   "outputs": [],
   "source": [
    ""
   ]
  }
 ],
 "metadata": {
  "kernelspec": {
   "display_name": "Python 2",
   "language": "python",
   "name": "python2"
  },
  "language_info": {
   "codemirror_mode": {
    "name": "ipython",
    "version": 2.0
   },
   "file_extension": ".py",
   "mimetype": "text/x-python",
   "name": "python",
   "nbconvert_exporter": "python",
   "pygments_lexer": "ipython2",
   "version": "2.7.13"
  }
 },
 "nbformat": 4,
 "nbformat_minor": 0
}