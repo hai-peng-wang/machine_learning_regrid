{
 "cells": [
  {
   "cell_type": "markdown",
   "metadata": {},
   "source": [
    "# This note book will illustrate the Iris regridding algorithms used. For a small sampling combined land-sea area, the temperature phenomena are regridded from APS3 grids to APS2 grids for testing."
   ]
  },
  {
   "cell_type": "markdown",
   "metadata": {},
   "source": [
    "## The idea to be tested:\n",
    "# How about Iris Regrid algorithm by applying coastline correction?"
   ]
  },
  {
   "cell_type": "code",
   "execution_count": 1,
   "metadata": {
    "collapsed": true
   },
   "outputs": [],
   "source": [
    "import iris\n",
    "import sys"
   ]
  },
  {
   "cell_type": "code",
   "execution_count": 3,
   "metadata": {
    "collapsed": true
   },
   "outputs": [],
   "source": [
    "sys.path.append('/data/hwang/mds-gfe/mds-gfe-regridder')"
   ]
  },
  {
   "cell_type": "markdown",
   "metadata": {},
   "source": [
    "### This is loading metadata from a sample testing area retrieving from APS3 UM files."
   ]
  },
  {
   "cell_type": "code",
   "execution_count": 4,
   "metadata": {
    "collapsed": true
   },
   "outputs": [],
   "source": [
    "from mds_gfe_regrid.tests.model_tools.mds_regrid_test import *"
   ]
  },
  {
   "cell_type": "code",
   "execution_count": 5,
   "metadata": {
    "collapsed": true
   },
   "outputs": [],
   "source": [
    "topo_aps2 = empty_3d_cube_aps2(\n",
    "    surface_alt_aps2_data, 'surface_altitude', 'm', 'm01s00i033')\n",
    "topo_aps3 = empty_3d_cube_aps3(\n",
    "    surface_alt_aps3_data, 'surface_altitude', 'm', 'm01s00i033')\n",
    "lsm_aps2 = empty_3d_cube_aps2(\n",
    "    lsm_aps2_data, 'land_area_fraction', '1', )\n",
    "lsm_aps3 = empty_3d_cube_aps3(\n",
    "    lsm_aps3_data, 'land_area_fraction', '1')\n",
    "t_scn_aps3 = empty_3d_cube_aps3(\n",
    "    t_scn_aps3_data, 'air_temperature', 'K')\n",
    "dpt_scn_aps3 = empty_3d_cube_aps3(\n",
    "    dpt_scn_aps3_data, 'dew_point_temperature', 'K', 'm01s03i250')\n",
    "sfc_prs_aps3 = empty_3d_cube_aps3(\n",
    "    sfc_prs_aps3_data, 'air_pressure_at_sea_level', 'Pa')"
   ]
  },
  {
   "cell_type": "code",
   "execution_count": 6,
   "metadata": {},
   "outputs": [
    {
     "name": "stdout",
     "output_type": "stream",
     "text": [
      "[[1 1 0 0 0 0]\n",
      " [1 1 1 0 0 0]\n",
      " [1 1 1 1 0 0]\n",
      " [1 1 1 1 0 0]\n",
      " [1 1 1 1 0 0]\n",
      " [1 1 1 1 0 0]]\n"
     ]
    }
   ],
   "source": [
    "print(lsm_aps3.data)"
   ]
  },
  {
   "cell_type": "code",
   "execution_count": 7,
   "metadata": {},
   "outputs": [
    {
     "name": "stdout",
     "output_type": "stream",
     "text": [
      "[[ 1.  0.  0.]\n",
      " [ 1.  1.  0.]\n",
      " [ 1.  1.  0.]]\n"
     ]
    }
   ],
   "source": [
    "print(lsm_aps2.data)"
   ]
  },
  {
   "cell_type": "code",
   "execution_count": 8,
   "metadata": {},
   "outputs": [
    {
     "name": "stdout",
     "output_type": "stream",
     "text": [
      "[[  30.79901695   24.64077759    0.            0.            0.            0.        ]\n",
      " [  40.51713181   57.62937927   44.1620636     0.            0.            0.        ]\n",
      " [  61.04179001   77.5438385    68.0868454    27.50967216    0.            0.        ]\n",
      " [ 197.31484985  109.88461304   81.08721161   47.29803085    0.            0.        ]\n",
      " [ 500.52633667  204.61886597   96.57264709   57.00541687    0.            0.        ]\n",
      " [ 801.8571167   337.81097412  131.99372864   66.28527832    0.            0.        ]]\n"
     ]
    }
   ],
   "source": [
    "print(topo_aps3.data)"
   ]
  },
  {
   "cell_type": "code",
   "execution_count": 12,
   "metadata": {
    "collapsed": true
   },
   "outputs": [],
   "source": [
    "from mds_gfe_regrid.model_tools.iris_tools import *"
   ]
  },
  {
   "cell_type": "code",
   "execution_count": 13,
   "metadata": {
    "collapsed": true
   },
   "outputs": [],
   "source": [
    "def show_difference(cube_a, cube_b, accuracy=None, entropy=None):\n",
    "    import numpy as np\n",
    "    from numpy.testing import assert_array_less\n",
    "    \n",
    "    result = cube_a.data.flatten()\n",
    "    expected = cube_b.data.flatten()\n",
    "    \n",
    "    if accuracy is None:\n",
    "        accuracy = np.repeat(0.0001, len(result))\n",
    "    if entropy is None:\n",
    "        entropy = 0.02\n",
    "    # Now assert the data is as expected.\n",
    "    delta = np.abs(result - expected)\n",
    "    msg = ('\\nEntropy: {}\\nExpected entropy: {}\\n'\n",
    "           'Index  -/x   Delta     Target   Expected value   Actual Value'\n",
    "           ''.format(delta.sum(), entropy))\n",
    "    template = '\\n{0:3}     {1:2}  {2:6f}  {3:6f}    {4:6f}      {5:6f}'\n",
    "\n",
    "    for i, (r_del, t_del, r, t) in enumerate(zip(delta, accuracy,\n",
    "                                                 result, expected)):\n",
    "        msg += template.format(i, '-' if r_del < t_del else 'x',\n",
    "                               r_del, t_del,\n",
    "                               t, r)\n",
    "    # Ensure each accuracy component falls below the target.\n",
    "    assert_array_less(delta, accuracy, msg)\n",
    "    # Ensure that our entropy is close to the expected one.\n",
    "    # If this fails because the result is now smaller than expected, good!\n",
    "    # It means we can tighten the expected entropy *AND* the target delta.\n",
    "    if np.abs(entropy - delta.sum()) > 0.001:\n",
    "        print(msg)"
   ]
  },
  {
   "cell_type": "markdown",
   "metadata": {},
   "source": [
    "## 1. Idea how Iris regrid intergrates with coastline correction: \n",
    "### starting with ideas from GFE coastline correction"
   ]
  },
  {
   "cell_type": "code",
   "execution_count": 14,
   "metadata": {
    "collapsed": true
   },
   "outputs": [],
   "source": [
    "def plot_two_cubes_in_same_scale(origin_cube, derived_cube, label_origin='Origin_UM', label_derived='Regridded_Data'):\n",
    "    import matplotlib.pyplot as plt\n",
    "    import iris.quickplot as qplt\n",
    "    \n",
    "    fig = plt.figure(figsize=(18, 12))\n",
    "\n",
    "    fig.add_subplot(221)\n",
    "    cm = qplt.pcolormesh(origin_cube)    \n",
    "    plt.gca().coastlines()\n",
    "\n",
    "    fig.add_subplot(222)\n",
    "    qplt.pcolormesh(derived_cube, cmap=cm.cmap, norm=cm.norm)\n",
    "    plt.gca().coastlines()\n",
    "\n",
    "    print(\"             {}                                           {}\".format(label_origin, label_derived))\n",
    "\n",
    "    plt.show()"
   ]
  },
  {
   "cell_type": "code",
   "execution_count": 67,
   "metadata": {
    "collapsed": true
   },
   "outputs": [],
   "source": [
    "import numpy as np\n",
    "def land_classify(land_grid, land_lats, land_lons, classify_latlons):\n",
    "    \"\"\"\n",
    "    Classify surface types of a grid based on a binary True/False land mask.\n",
    "    :param land_grid: numpy ndarray of bool, True where surface type is land (I x J)\n",
    "    :param land_lats: numpy ndarray of land mask latitudes (I)\n",
    "    :param land_lons: numpy ndarray of land mask longitudes (J)\n",
    "    :param classify_latlons: numpy ndarray of latitude and longitude points to classify (N x 2)\n",
    "    :return: numpy ndarray of classifications (N)\n",
    "    \"\"\"\n",
    "    is_land = np.bool_(find_maskpts(classify_latlons, land_grid, land_lats, land_lons))\n",
    "    return is_land"
   ]
  },
  {
   "cell_type": "code",
   "execution_count": 77,
   "metadata": {
    "collapsed": true
   },
   "outputs": [],
   "source": [
    "from scipy.interpolate import RegularGridInterpolator\n",
    "def find_maskpts(sample_latlons, mask, mask_lats, mask_lons):\n",
    "    \"\"\"\n",
    "    Nearest neighbour sample at points in a (land mask) grid.\n",
    "    :param sample_latlons: numpy ndarray of latitudes and longitudes (N x 2)\n",
    "    :param mask: numpy ndarray land mask (I x J)\n",
    "    :param mask_lats: numpy ndarray of land mask latitudes (I)\n",
    "    :param mask_lons: numpy ndarray of land mask longitudes (J)\n",
    "    :return: numpy ndarray of point samples\n",
    "    \"\"\"\n",
    "    mask_rg_interp = RegularGridInterpolator(\n",
    "                        (mask_lats, mask_lons), mask, method='linear',\n",
    "                        bounds_error=False, fill_value=0.0)\n",
    "    samples = mask_rg_interp(sample_latlons)\n",
    "    return samples"
   ]
  },
  {
   "cell_type": "code",
   "execution_count": 69,
   "metadata": {
    "collapsed": true
   },
   "outputs": [],
   "source": [
    "mask_lats = cube_land_aps3.coord('latitude').points\n",
    "mask_lons = cube_land_aps3.coord('longitude').points"
   ]
  },
  {
   "cell_type": "code",
   "execution_count": 78,
   "metadata": {
    "collapsed": true
   },
   "outputs": [],
   "source": [
    "samples = find_maskpts(tgrid, cube_land_aps3.data, mask_lats, mask_lons)"
   ]
  },
  {
   "cell_type": "code",
   "execution_count": 74,
   "metadata": {},
   "outputs": [
    {
     "name": "stdout",
     "output_type": "stream",
     "text": [
      "[[[  6.328125  81.211053]\n",
      "  [  6.328125  81.562616]\n",
      "  [  6.328125  81.914179]]\n",
      "\n",
      " [[  6.5625    81.211053]\n",
      "  [  6.5625    81.562616]\n",
      "  [  6.5625    81.914179]]\n",
      "\n",
      " [[  6.796875  81.211053]\n",
      "  [  6.796875  81.562616]\n",
      "  [  6.796875  81.914179]]]\n"
     ]
    }
   ],
   "source": [
    "print(tgrid)"
   ]
  },
  {
   "cell_type": "code",
   "execution_count": 89,
   "metadata": {},
   "outputs": [
    {
     "name": "stdout",
     "output_type": "stream",
     "text": [
      "300.609375\n"
     ]
    }
   ],
   "source": [
    "print((300.859375 + 300.4375 +300.53125)/3)"
   ]
  },
  {
   "cell_type": "code",
   "execution_count": 90,
   "metadata": {},
   "outputs": [
    {
     "name": "stdout",
     "output_type": "stream",
     "text": [
      "300.6640625\n"
     ]
    }
   ],
   "source": [
    "print((300.859375 + 300.4375 +300.53125 +300.828125)/4)"
   ]
  },
  {
   "cell_type": "code",
   "execution_count": 79,
   "metadata": {},
   "outputs": [
    {
     "name": "stdout",
     "output_type": "stream",
     "text": [
      "[[ 300.88344903  300.66382534  300.70716069]\n",
      " [ 300.95641012  300.08969424  300.68359893]\n",
      " [ 297.48944652  299.26620242  300.67580714]]\n"
     ]
    }
   ],
   "source": [
    "print(samples)"
   ]
  },
  {
   "cell_type": "code",
   "execution_count": 72,
   "metadata": {},
   "outputs": [
    {
     "name": "stdout",
     "output_type": "stream",
     "text": [
      "[[ 300.88344903  300.66382534  300.70716069]\n",
      " [ 300.95641012  300.08969424  300.68359893]\n",
      " [ 297.48944652  299.26620242  300.67580714]]\n"
     ]
    }
   ],
   "source": [
    "print(output_data)"
   ]
  },
  {
   "cell_type": "code",
   "execution_count": 80,
   "metadata": {
    "collapsed": true
   },
   "outputs": [],
   "source": [
    "land_samples = find_maskpts(land_tgrid, cube_land_aps3.data, mask_lats, mask_lons)"
   ]
  },
  {
   "cell_type": "code",
   "execution_count": 81,
   "metadata": {},
   "outputs": [
    {
     "name": "stdout",
     "output_type": "stream",
     "text": [
      "[[    300.88344903  181824.73315112  182765.56538432]\n",
      " [    300.95641012     300.08969424  188528.55177533]\n",
      " [    297.48944652     299.26620242  194408.82833643]]\n"
     ]
    }
   ],
   "source": [
    "print(land_samples)"
   ]
  },
  {
   "cell_type": "code",
   "execution_count": 83,
   "metadata": {
    "collapsed": true
   },
   "outputs": [],
   "source": [
    "mask_lats_sea = cube_sea_aps3.coord('latitude').points\n",
    "mask_lons_sea = cube_sea_aps3.coord('longitude').points"
   ]
  },
  {
   "cell_type": "code",
   "execution_count": 84,
   "metadata": {},
   "outputs": [
    {
     "name": "stdout",
     "output_type": "stream",
     "text": [
      "[ 6.26953125  6.38671875  6.50390625  6.62109375  6.73828125  6.85546875]\n"
     ]
    }
   ],
   "source": [
    "print(mask_lats_sea)"
   ]
  },
  {
   "cell_type": "code",
   "execution_count": 85,
   "metadata": {},
   "outputs": [
    {
     "name": "stdout",
     "output_type": "stream",
     "text": [
      "[[-- -- 300.859375 300.4375 300.640625 300.8125]\n",
      " [-- -- -- 300.53125 300.578125 300.796875]\n",
      " [-- -- -- -- 300.640625 300.71875]\n",
      " [-- -- -- -- 300.71875 300.65625]\n",
      " [-- -- -- -- 300.71875 300.65625]\n",
      " [-- -- -- -- 300.59375 300.734375]]\n"
     ]
    }
   ],
   "source": [
    "print(cube_sea_aps3.data)"
   ]
  },
  {
   "cell_type": "code",
   "execution_count": 86,
   "metadata": {},
   "outputs": [
    {
     "name": "stdout",
     "output_type": "stream",
     "text": [
      "[[[-- --]\n",
      "  [6.328125 81.562616]\n",
      "  [6.328125 81.914179]]\n",
      "\n",
      " [[-- --]\n",
      "  [-- --]\n",
      "  [6.5625 81.914179]]\n",
      "\n",
      " [[-- --]\n",
      "  [-- --]\n",
      "  [6.796875 81.914179]]]\n"
     ]
    }
   ],
   "source": [
    "print(sea_tgrid)"
   ]
  },
  {
   "cell_type": "code",
   "execution_count": 103,
   "metadata": {},
   "outputs": [
    {
     "name": "stdout",
     "output_type": "stream",
     "text": [
      "[[ True  True False False False False]\n",
      " [ True  True  True False False False]\n",
      " [ True  True  True  True False False]\n",
      " [ True  True  True  True False False]\n",
      " [ True  True  True  True False False]\n",
      " [ True  True  True  True False False]]\n"
     ]
    }
   ],
   "source": [
    "print(sea_aps3_indx)"
   ]
  },
  {
   "cell_type": "code",
   "execution_count": 108,
   "metadata": {},
   "outputs": [
    {
     "ename": "ValueError",
     "evalue": "There are 2 point arrays, but values has 1 dimensions",
     "output_type": "error",
     "traceback": [
      "\u001b[0;31m---------------------------------------------------------------------------\u001b[0m",
      "\u001b[0;31mValueError\u001b[0m                                Traceback (most recent call last)",
      "\u001b[0;32m<ipython-input-108-18b71b542a03>\u001b[0m in \u001b[0;36m<module>\u001b[0;34m()\u001b[0m\n\u001b[0;32m----> 1\u001b[0;31m \u001b[0msea_samples\u001b[0m \u001b[0;34m=\u001b[0m \u001b[0mfind_maskpts\u001b[0m\u001b[0;34m(\u001b[0m\u001b[0msea_tgrid\u001b[0m\u001b[0;34m,\u001b[0m \u001b[0mt_scn_aps3\u001b[0m\u001b[0;34m.\u001b[0m\u001b[0mdata\u001b[0m\u001b[0;34m[\u001b[0m\u001b[0mland_aps3_indx\u001b[0m\u001b[0;34m]\u001b[0m\u001b[0;34m,\u001b[0m \u001b[0mmask_lats\u001b[0m\u001b[0;34m,\u001b[0m \u001b[0mmask_lons\u001b[0m\u001b[0;34m)\u001b[0m\u001b[0;34m\u001b[0m\u001b[0m\n\u001b[0m",
      "\u001b[0;32m<ipython-input-77-d213294270e9>\u001b[0m in \u001b[0;36mfind_maskpts\u001b[0;34m(sample_latlons, mask, mask_lats, mask_lons)\u001b[0m\n\u001b[1;32m     11\u001b[0m     mask_rg_interp = RegularGridInterpolator(\n\u001b[1;32m     12\u001b[0m                         \u001b[0;34m(\u001b[0m\u001b[0mmask_lats\u001b[0m\u001b[0;34m,\u001b[0m \u001b[0mmask_lons\u001b[0m\u001b[0;34m)\u001b[0m\u001b[0;34m,\u001b[0m \u001b[0mmask\u001b[0m\u001b[0;34m,\u001b[0m \u001b[0mmethod\u001b[0m\u001b[0;34m=\u001b[0m\u001b[0;34m'linear'\u001b[0m\u001b[0;34m,\u001b[0m\u001b[0;34m\u001b[0m\u001b[0m\n\u001b[0;32m---> 13\u001b[0;31m                         bounds_error=False, fill_value=0.0)\n\u001b[0m\u001b[1;32m     14\u001b[0m     \u001b[0msamples\u001b[0m \u001b[0;34m=\u001b[0m \u001b[0mmask_rg_interp\u001b[0m\u001b[0;34m(\u001b[0m\u001b[0msample_latlons\u001b[0m\u001b[0;34m)\u001b[0m\u001b[0;34m\u001b[0m\u001b[0m\n\u001b[1;32m     15\u001b[0m     \u001b[0;32mreturn\u001b[0m \u001b[0msamples\u001b[0m\u001b[0;34m\u001b[0m\u001b[0m\n",
      "\u001b[0;32m/data/hwang/conda/miniconda3/envs/pre-proc-py2/lib/python2.7/site-packages/scipy/interpolate/interpolate.pyc\u001b[0m in \u001b[0;36m__init__\u001b[0;34m(self, points, values, method, bounds_error, fill_value)\u001b[0m\n\u001b[1;32m   2353\u001b[0m         \u001b[0;32mif\u001b[0m \u001b[0mlen\u001b[0m\u001b[0;34m(\u001b[0m\u001b[0mpoints\u001b[0m\u001b[0;34m)\u001b[0m \u001b[0;34m>\u001b[0m \u001b[0mvalues\u001b[0m\u001b[0;34m.\u001b[0m\u001b[0mndim\u001b[0m\u001b[0;34m:\u001b[0m\u001b[0;34m\u001b[0m\u001b[0m\n\u001b[1;32m   2354\u001b[0m             raise ValueError(\"There are %d point arrays, but values has %d \"\n\u001b[0;32m-> 2355\u001b[0;31m                              \"dimensions\" % (len(points), values.ndim))\n\u001b[0m\u001b[1;32m   2356\u001b[0m \u001b[0;34m\u001b[0m\u001b[0m\n\u001b[1;32m   2357\u001b[0m         \u001b[0;32mif\u001b[0m \u001b[0mhasattr\u001b[0m\u001b[0;34m(\u001b[0m\u001b[0mvalues\u001b[0m\u001b[0;34m,\u001b[0m \u001b[0;34m'dtype'\u001b[0m\u001b[0;34m)\u001b[0m \u001b[0;32mand\u001b[0m \u001b[0mhasattr\u001b[0m\u001b[0;34m(\u001b[0m\u001b[0mvalues\u001b[0m\u001b[0;34m,\u001b[0m \u001b[0;34m'astype'\u001b[0m\u001b[0;34m)\u001b[0m\u001b[0;34m:\u001b[0m\u001b[0;34m\u001b[0m\u001b[0m\n",
      "\u001b[0;31mValueError\u001b[0m: There are 2 point arrays, but values has 1 dimensions"
     ]
    }
   ],
   "source": [
    "sea_samples = find_maskpts(sea_tgrid, t_scn_aps3.data[land_aps3_indx], mask_lats, mask_lons)"
   ]
  },
  {
   "cell_type": "code",
   "execution_count": 105,
   "metadata": {},
   "outputs": [
    {
     "name": "stdout",
     "output_type": "stream",
     "text": [
      "[ 300.859375  300.4375    300.640625  300.8125    300.53125   300.578125\n",
      "  300.796875  300.640625  300.71875   300.71875   300.65625   300.71875\n",
      "  300.65625   300.59375   300.734375]\n"
     ]
    }
   ],
   "source": [
    "print(sea_samples)"
   ]
  },
  {
   "cell_type": "code",
   "execution_count": 10,
   "metadata": {},
   "outputs": [
    {
     "name": "stdout",
     "output_type": "stream",
     "text": [
      "[[ 300.0625    299.1875    300.859375  300.4375    300.640625  300.8125  ]\n",
      " [ 300.734375  303.546875  300.828125  300.53125   300.578125  300.796875]\n",
      " [ 302.0625    301.078125  300.703125  299.90625   300.640625  300.71875 ]\n",
      " [ 300.796875  299.890625  299.703125  300.046875  300.71875   300.65625 ]\n",
      " [ 297.078125  298.875     299.09375   300.078125  300.71875   300.65625 ]\n",
      " [ 296.125     297.875     298.5625    299.328125  300.59375   300.734375]]\n"
     ]
    }
   ],
   "source": [
    "print(t_scn_aps3.data)"
   ]
  },
  {
   "cell_type": "code",
   "execution_count": null,
   "metadata": {
    "collapsed": true
   },
   "outputs": [],
   "source": [
    "try:\n",
    "    from sklearn.neighbors.kd_tree import KDTree\n",
    "except ImportError as _:\n",
    "    from scipy.spatial.ckdtree import cKDTree as KDTree"
   ]
  },
  {
   "cell_type": "code",
   "execution_count": null,
   "metadata": {
    "collapsed": true
   },
   "outputs": [],
   "source": [
    "distances, indexes = sampler.nearest_input_pts(in_latlons, out_latlons, k=2)"
   ]
  },
  {
   "cell_type": "markdown",
   "metadata": {},
   "source": [
    "## 2. Start to use iris intermal function/method to do coastline correction"
   ]
  },
  {
   "cell_type": "code",
   "execution_count": 15,
   "metadata": {
    "collapsed": true
   },
   "outputs": [],
   "source": [
    "from iris.analysis._scipy_interpolate import _RegularGridInterpolator"
   ]
  },
  {
   "cell_type": "code",
   "execution_count": 16,
   "metadata": {
    "collapsed": true
   },
   "outputs": [],
   "source": [
    "lon_aps2 = topo_aps2.coord('longitude').points\n",
    "lat_aps2 = topo_aps2.coord('latitude').points\n",
    "lon_aps3 = topo_aps3.coord('longitude').points\n",
    "lat_aps3 = topo_aps3.coord('latitude').points"
   ]
  },
  {
   "cell_type": "code",
   "execution_count": 322,
   "metadata": {},
   "outputs": [
    {
     "name": "stdout",
     "output_type": "stream",
     "text": [
      "[ 81.211053  81.562616  81.914179]\n"
     ]
    }
   ],
   "source": [
    "print(lon_aps2)"
   ]
  },
  {
   "cell_type": "code",
   "execution_count": 17,
   "metadata": {
    "collapsed": true
   },
   "outputs": [],
   "source": [
    "interpolator_linear = _RegularGridInterpolator([lat_aps3, lon_aps3], t_scn_aps3.data,\n",
    "                                             method='linear',\n",
    "                                             bounds_error=False,\n",
    "                                             fill_value=None)"
   ]
  },
  {
   "cell_type": "code",
   "execution_count": 18,
   "metadata": {
    "collapsed": true
   },
   "outputs": [],
   "source": [
    "interpolator_nearest = _RegularGridInterpolator([lat_aps3, lon_aps3], t_scn_aps3.data,\n",
    "                                             method='nearest',\n",
    "                                             bounds_error=False,\n",
    "                                             fill_value=None)"
   ]
  },
  {
   "cell_type": "code",
   "execution_count": 19,
   "metadata": {
    "collapsed": true
   },
   "outputs": [],
   "source": [
    "xv, yv = np.meshgrid(lon_aps2, lat_aps2)"
   ]
  },
  {
   "cell_type": "code",
   "execution_count": 20,
   "metadata": {
    "collapsed": true
   },
   "outputs": [],
   "source": [
    "tgrid = np.dstack((yv, xv))"
   ]
  },
  {
   "cell_type": "code",
   "execution_count": 21,
   "metadata": {},
   "outputs": [
    {
     "name": "stdout",
     "output_type": "stream",
     "text": [
      "[[[  6.328125  81.211053]\n",
      "  [  6.328125  81.562616]\n",
      "  [  6.328125  81.914179]]\n",
      "\n",
      " [[  6.5625    81.211053]\n",
      "  [  6.5625    81.562616]\n",
      "  [  6.5625    81.914179]]\n",
      "\n",
      " [[  6.796875  81.211053]\n",
      "  [  6.796875  81.562616]\n",
      "  [  6.796875  81.914179]]]\n"
     ]
    }
   ],
   "source": [
    "print(tgrid)"
   ]
  },
  {
   "cell_type": "code",
   "execution_count": 23,
   "metadata": {
    "collapsed": true
   },
   "outputs": [],
   "source": [
    "weights = interpolator_linear.compute_interp_weights(tgrid)"
   ]
  },
  {
   "cell_type": "code",
   "execution_count": 24,
   "metadata": {},
   "outputs": [
    {
     "name": "stdout",
     "output_type": "stream",
     "text": [
      "((3, 3, 2), 'linear', <9x36 sparse matrix of type '<type 'numpy.float64'>'\n",
      "\twith 36 stored elements in Compressed Sparse Row format>, None, array([False, False, False, False, False, False, False, False, False], dtype=bool))\n"
     ]
    }
   ],
   "source": [
    "print(weights)"
   ]
  },
  {
   "cell_type": "code",
   "execution_count": 26,
   "metadata": {
    "collapsed": true
   },
   "outputs": [],
   "source": [
    "output_data = interpolator_linear.interp_using_pre_computed_weights(weights)"
   ]
  },
  {
   "cell_type": "code",
   "execution_count": 27,
   "metadata": {},
   "outputs": [
    {
     "name": "stdout",
     "output_type": "stream",
     "text": [
      "[[ 300.88344903  300.66382534  300.70716069]\n",
      " [ 300.95641012  300.08969424  300.68359893]\n",
      " [ 297.48944652  299.26620242  300.67580714]]\n"
     ]
    }
   ],
   "source": [
    "print(output_data)"
   ]
  },
  {
   "cell_type": "code",
   "execution_count": 93,
   "metadata": {},
   "outputs": [
    {
     "name": "stdout",
     "output_type": "stream",
     "text": [
      "[[[-- --]\n",
      "  [6.328125 81.562616]\n",
      "  [6.328125 81.914179]]\n",
      "\n",
      " [[-- --]\n",
      "  [-- --]\n",
      "  [6.5625 81.914179]]\n",
      "\n",
      " [[-- --]\n",
      "  [-- --]\n",
      "  [6.796875 81.914179]]]\n"
     ]
    }
   ],
   "source": [
    "print(sea_tgrid)"
   ]
  },
  {
   "cell_type": "code",
   "execution_count": 98,
   "metadata": {
    "collapsed": true
   },
   "outputs": [],
   "source": [
    "sea_weights = sea_interpolator.compute_interp_weights(sea_tgrid)"
   ]
  },
  {
   "cell_type": "code",
   "execution_count": 99,
   "metadata": {
    "collapsed": true
   },
   "outputs": [],
   "source": [
    "output_data_sea = sea_interpolator.interp_using_pre_computed_weights(sea_weights)"
   ]
  },
  {
   "cell_type": "code",
   "execution_count": 100,
   "metadata": {},
   "outputs": [
    {
     "name": "stdout",
     "output_type": "stream",
     "text": [
      "[[ 182497.37520204     300.66382534     300.70716069]\n",
      " [ 186552.88301578  187330.1335001      300.68359893]\n",
      " [ 191003.20853386  192742.34635685     300.67580714]]\n"
     ]
    }
   ],
   "source": [
    "print(output_data_sea)"
   ]
  },
  {
   "cell_type": "markdown",
   "metadata": {},
   "source": [
    "### 2.1 Now Using index land sea to check the difference"
   ]
  },
  {
   "cell_type": "code",
   "execution_count": 28,
   "metadata": {
    "collapsed": true
   },
   "outputs": [],
   "source": [
    "land_aps3_indx, sea_aps3_indx = get_land_sea_index(lsm_aps3)\n",
    "land_aps2_indx, sea_aps2_indx = get_land_sea_index(lsm_aps2)\n"
   ]
  },
  {
   "cell_type": "code",
   "execution_count": 34,
   "metadata": {
    "collapsed": true
   },
   "outputs": [],
   "source": [
    "# Mask the APS3 sea points\n",
    "cube_land_aps3 = transform_cube_by_masked_index(t_scn_aps3, land_aps3_indx)\n",
    "# Mask the APS3 land points\n",
    "cube_sea_aps3 = transform_cube_by_masked_index(t_scn_aps3, sea_aps3_indx)\n"
   ]
  },
  {
   "cell_type": "code",
   "execution_count": 35,
   "metadata": {},
   "outputs": [
    {
     "name": "stdout",
     "output_type": "stream",
     "text": [
      "[[300.0625 299.1875 -- -- -- --]\n",
      " [300.734375 303.546875 300.828125 -- -- --]\n",
      " [302.0625 301.078125 300.703125 299.90625 -- --]\n",
      " [300.796875 299.890625 299.703125 300.046875 -- --]\n",
      " [297.078125 298.875 299.09375 300.078125 -- --]\n",
      " [296.125 297.875 298.5625 299.328125 -- --]]\n"
     ]
    }
   ],
   "source": [
    "print(cube_land_aps3.data)"
   ]
  },
  {
   "cell_type": "code",
   "execution_count": 36,
   "metadata": {
    "collapsed": true
   },
   "outputs": [],
   "source": [
    "# Mask the APS2 sea points\n",
    "cube_land_aps2 = transform_cube_by_masked_index(topo_aps2, land_aps2_indx)\n",
    "# Mask the APS2 land points\n",
    "cube_sea_aps2 = transform_cube_by_masked_index(topo_aps2, sea_aps2_indx)"
   ]
  },
  {
   "cell_type": "code",
   "execution_count": 37,
   "metadata": {
    "scrolled": true
   },
   "outputs": [
    {
     "data": {
      "text/plain": [
       "(numpy.ndarray, (3, 3, 2))"
      ]
     },
     "execution_count": 37,
     "metadata": {},
     "output_type": "execute_result"
    }
   ],
   "source": [
    "type(tgrid), tgrid.shape"
   ]
  },
  {
   "cell_type": "code",
   "execution_count": 38,
   "metadata": {},
   "outputs": [
    {
     "name": "stdout",
     "output_type": "stream",
     "text": [
      "[[False  True  True]\n",
      " [False False  True]\n",
      " [False False  True]] (3, 3)\n"
     ]
    }
   ],
   "source": [
    "print(land_aps2_indx), land_aps2_indx.shape"
   ]
  },
  {
   "cell_type": "code",
   "execution_count": 39,
   "metadata": {
    "collapsed": true
   },
   "outputs": [],
   "source": [
    "rowmask = land_aps2_indx\n",
    "xmask=np.stack((rowmask,rowmask),-1)  # column stack"
   ]
  },
  {
   "cell_type": "code",
   "execution_count": 40,
   "metadata": {
    "collapsed": true
   },
   "outputs": [],
   "source": [
    "land_tgrid = np.ma.masked_array(tgrid, mask = xmask)"
   ]
  },
  {
   "cell_type": "code",
   "execution_count": 41,
   "metadata": {},
   "outputs": [
    {
     "name": "stdout",
     "output_type": "stream",
     "text": [
      "[[[6.328125 81.211053]\n",
      "  [-- --]\n",
      "  [-- --]]\n",
      "\n",
      " [[6.5625 81.211053]\n",
      "  [6.5625 81.562616]\n",
      "  [-- --]]\n",
      "\n",
      " [[6.796875 81.211053]\n",
      "  [6.796875 81.562616]\n",
      "  [-- --]]]\n"
     ]
    }
   ],
   "source": [
    "print(land_tgrid)"
   ]
  },
  {
   "cell_type": "code",
   "execution_count": 43,
   "metadata": {
    "collapsed": true
   },
   "outputs": [],
   "source": [
    "land_weights = interpolator_linear.compute_interp_weights(land_tgrid)"
   ]
  },
  {
   "cell_type": "code",
   "execution_count": 44,
   "metadata": {},
   "outputs": [
    {
     "name": "stdout",
     "output_type": "stream",
     "text": [
      "((3, 3, 2), 'linear', <9x36 sparse matrix of type '<type 'numpy.float64'>'\n",
      "\twith 36 stored elements in Compressed Sparse Row format>, None, array([False, False, False, False, False, False, False, False, False], dtype=bool))\n"
     ]
    }
   ],
   "source": [
    "print(land_weights)"
   ]
  },
  {
   "cell_type": "code",
   "execution_count": 45,
   "metadata": {
    "collapsed": true
   },
   "outputs": [],
   "source": [
    "rowmask = land_aps3_indx\n",
    "mask_aps3 = np.stack((rowmask,rowmask),-1)  # column stack"
   ]
  },
  {
   "cell_type": "code",
   "execution_count": 46,
   "metadata": {
    "collapsed": true
   },
   "outputs": [],
   "source": [
    "xv, yv = np.meshgrid(lon_aps3, lat_aps3)\n",
    "tgrid_aps3 = np.dstack((yv, xv))"
   ]
  },
  {
   "cell_type": "code",
   "execution_count": 47,
   "metadata": {
    "collapsed": true
   },
   "outputs": [],
   "source": [
    "land_tgrid_aps3 = np.ma.masked_array(tgrid_aps3, mask = mask_aps3)"
   ]
  },
  {
   "cell_type": "code",
   "execution_count": 48,
   "metadata": {
    "scrolled": true
   },
   "outputs": [
    {
     "name": "stdout",
     "output_type": "stream",
     "text": [
      "[[[6.26953125 81.12304688]\n",
      "  [6.26953125 81.29882812]\n",
      "  [-- --]\n",
      "  [-- --]\n",
      "  [-- --]\n",
      "  [-- --]]\n",
      "\n",
      " [[6.38671875 81.12304688]\n",
      "  [6.38671875 81.29882812]\n",
      "  [6.38671875 81.47460938]\n",
      "  [-- --]\n",
      "  [-- --]\n",
      "  [-- --]]\n",
      "\n",
      " [[6.50390625 81.12304688]\n",
      "  [6.50390625 81.29882812]\n",
      "  [6.50390625 81.47460938]\n",
      "  [6.50390625 81.65039062]\n",
      "  [-- --]\n",
      "  [-- --]]\n",
      "\n",
      " [[6.62109375 81.12304688]\n",
      "  [6.62109375 81.29882812]\n",
      "  [6.62109375 81.47460938]\n",
      "  [6.62109375 81.65039062]\n",
      "  [-- --]\n",
      "  [-- --]]\n",
      "\n",
      " [[6.73828125 81.12304688]\n",
      "  [6.73828125 81.29882812]\n",
      "  [6.73828125 81.47460938]\n",
      "  [6.73828125 81.65039062]\n",
      "  [-- --]\n",
      "  [-- --]]\n",
      "\n",
      " [[6.85546875 81.12304688]\n",
      "  [6.85546875 81.29882812]\n",
      "  [6.85546875 81.47460938]\n",
      "  [6.85546875 81.65039062]\n",
      "  [-- --]\n",
      "  [-- --]]]\n"
     ]
    }
   ],
   "source": [
    "print(land_tgrid_aps3)"
   ]
  },
  {
   "cell_type": "code",
   "execution_count": 49,
   "metadata": {
    "collapsed": true
   },
   "outputs": [],
   "source": [
    "land_interpolator = _RegularGridInterpolator((lat_aps3, lon_aps3), cube_land_aps3.data,\n",
    "                                             method='linear',\n",
    "                                             bounds_error=False,\n",
    "                                             fill_value=None)"
   ]
  },
  {
   "cell_type": "code",
   "execution_count": 97,
   "metadata": {
    "collapsed": true
   },
   "outputs": [],
   "source": [
    "sea_interpolator = _RegularGridInterpolator((lat_aps3, lon_aps3), cube_sea_aps3.data,\n",
    "                                             method='linear',\n",
    "                                             bounds_error=True,\n",
    "                                             fill_value=np.nan)"
   ]
  },
  {
   "cell_type": "code",
   "execution_count": 126,
   "metadata": {},
   "outputs": [
    {
     "name": "stdout",
     "output_type": "stream",
     "text": [
      "[[-- -- 300.859375 300.4375 300.640625 300.8125]\n",
      " [-- -- -- 300.53125 300.578125 300.796875]\n",
      " [-- -- -- -- 300.640625 300.71875]\n",
      " [-- -- -- -- 300.71875 300.65625]\n",
      " [-- -- -- -- 300.71875 300.65625]\n",
      " [-- -- -- -- 300.59375 300.734375]]\n"
     ]
    }
   ],
   "source": [
    "print(cube_sea_aps3.data)"
   ]
  },
  {
   "cell_type": "code",
   "execution_count": 56,
   "metadata": {
    "collapsed": true
   },
   "outputs": [],
   "source": [
    "land_weights_tgt = land_interpolator.compute_interp_weights(land_tgrid)"
   ]
  },
  {
   "cell_type": "code",
   "execution_count": 57,
   "metadata": {},
   "outputs": [
    {
     "name": "stdout",
     "output_type": "stream",
     "text": [
      "((3, 3, 2), 'linear', <9x36 sparse matrix of type '<type 'numpy.float64'>'\n",
      "\twith 36 stored elements in Compressed Sparse Row format>, None, array([False, False, False, False, False, False, False, False, False], dtype=bool))\n"
     ]
    }
   ],
   "source": [
    "print(land_weights_tgt)"
   ]
  },
  {
   "cell_type": "code",
   "execution_count": 58,
   "metadata": {
    "collapsed": true
   },
   "outputs": [],
   "source": [
    "land_output_data = land_interpolator.interp_using_pre_computed_weights(land_weights_tgt)"
   ]
  },
  {
   "cell_type": "code",
   "execution_count": 59,
   "metadata": {},
   "outputs": [
    {
     "name": "stdout",
     "output_type": "stream",
     "text": [
      "[[    300.88344903  181824.73315112  182765.56538432]\n",
      " [    300.95641012     300.08969424  188528.55177533]\n",
      " [    297.48944652     299.26620242  194408.82833643]]\n"
     ]
    }
   ],
   "source": [
    "print(land_output_data)"
   ]
  },
  {
   "cell_type": "code",
   "execution_count": 60,
   "metadata": {
    "collapsed": true
   },
   "outputs": [],
   "source": [
    "# Do the sea points\n",
    "rowmask = sea_aps2_indx\n",
    "sea_mask=np.stack((rowmask,rowmask),-1)  # column stack"
   ]
  },
  {
   "cell_type": "code",
   "execution_count": 61,
   "metadata": {},
   "outputs": [
    {
     "name": "stdout",
     "output_type": "stream",
     "text": [
      "[[[ True  True]\n",
      "  [False False]\n",
      "  [False False]]\n",
      "\n",
      " [[ True  True]\n",
      "  [ True  True]\n",
      "  [False False]]\n",
      "\n",
      " [[ True  True]\n",
      "  [ True  True]\n",
      "  [False False]]]\n"
     ]
    }
   ],
   "source": [
    "print(sea_mask)"
   ]
  },
  {
   "cell_type": "code",
   "execution_count": 62,
   "metadata": {
    "collapsed": true
   },
   "outputs": [],
   "source": [
    "sea_tgrid = np.ma.masked_array(tgrid, mask = sea_mask)"
   ]
  },
  {
   "cell_type": "code",
   "execution_count": 63,
   "metadata": {},
   "outputs": [
    {
     "name": "stdout",
     "output_type": "stream",
     "text": [
      "[[[-- --]\n",
      "  [6.328125 81.562616]\n",
      "  [6.328125 81.914179]]\n",
      "\n",
      " [[-- --]\n",
      "  [-- --]\n",
      "  [6.5625 81.914179]]\n",
      "\n",
      " [[-- --]\n",
      "  [-- --]\n",
      "  [6.796875 81.914179]]]\n"
     ]
    }
   ],
   "source": [
    "print(sea_tgrid)"
   ]
  },
  {
   "cell_type": "code",
   "execution_count": 64,
   "metadata": {
    "collapsed": true
   },
   "outputs": [],
   "source": [
    "sea_weights = sea_interpolator.compute_interp_weights(sea_tgrid)"
   ]
  },
  {
   "cell_type": "code",
   "execution_count": 122,
   "metadata": {},
   "outputs": [
    {
     "name": "stdout",
     "output_type": "stream",
     "text": [
      "((3, 3, 2), 'linear', <9x36 sparse matrix of type '<type 'numpy.float64'>'\n",
      "\twith 36 stored elements in Compressed Sparse Row format>, None, array([False, False, False, False, False, False, False, False, False], dtype=bool))\n"
     ]
    }
   ],
   "source": [
    "print(sea_weights)"
   ]
  },
  {
   "cell_type": "code",
   "execution_count": 65,
   "metadata": {
    "collapsed": true
   },
   "outputs": [],
   "source": [
    "sea_output_data = sea_interpolator.interp_using_pre_computed_weights(sea_weights)"
   ]
  },
  {
   "cell_type": "code",
   "execution_count": 66,
   "metadata": {},
   "outputs": [
    {
     "name": "stdout",
     "output_type": "stream",
     "text": [
      "[[ 182497.37520204     300.66382534     300.70716069]\n",
      " [ 186552.88301578  187330.1335001      300.68359893]\n",
      " [ 191003.20853386  192742.34635685     300.67580714]]\n"
     ]
    }
   ],
   "source": [
    "print(sea_output_data)"
   ]
  },
  {
   "cell_type": "code",
   "execution_count": 124,
   "metadata": {
    "collapsed": true
   },
   "outputs": [],
   "source": [
    "coords = np.array([[[50.7, -3.5],\n",
    "                                [50.6, -3.5]],\n",
    "                               [[50.7, -3.1],\n",
    "                                [50.6, -3.1]]])"
   ]
  },
  {
   "cell_type": "code",
   "execution_count": 125,
   "metadata": {},
   "outputs": [
    {
     "ename": "ValueError",
     "evalue": "One of the requested xi is out of bounds in dimension 0",
     "output_type": "error",
     "traceback": [
      "\u001b[0;31m---------------------------------------------------------------------------\u001b[0m",
      "\u001b[0;31mValueError\u001b[0m                                Traceback (most recent call last)",
      "\u001b[0;32m<ipython-input-125-247401b97742>\u001b[0m in \u001b[0;36m<module>\u001b[0;34m()\u001b[0m\n\u001b[0;32m----> 1\u001b[0;31m \u001b[0mtest\u001b[0m \u001b[0;34m=\u001b[0m \u001b[0msea_interpolator\u001b[0m\u001b[0;34m.\u001b[0m\u001b[0mcompute_interp_weights\u001b[0m\u001b[0;34m(\u001b[0m\u001b[0mcoords\u001b[0m\u001b[0;34m)\u001b[0m\u001b[0;34m\u001b[0m\u001b[0m\n\u001b[0m",
      "\u001b[0;32m/data/hwang/conda/miniconda3/envs/pre-proc-py2/lib/python2.7/site-packages/iris/analysis/_scipy_interpolate.pyc\u001b[0m in \u001b[0;36mcompute_interp_weights\u001b[0;34m(self, xi, method)\u001b[0m\n\u001b[1;32m    199\u001b[0m                                       np.all(p <= self.grid[i][-1])):\n\u001b[1;32m    200\u001b[0m                     raise ValueError(\"One of the requested xi is out of \"\n\u001b[0;32m--> 201\u001b[0;31m                                      \"bounds in dimension %d\" % i)\n\u001b[0m\u001b[1;32m    202\u001b[0m \u001b[0;34m\u001b[0m\u001b[0m\n\u001b[1;32m    203\u001b[0m         \u001b[0mmethod\u001b[0m \u001b[0;34m=\u001b[0m \u001b[0mself\u001b[0m\u001b[0;34m.\u001b[0m\u001b[0mmethod\u001b[0m \u001b[0;32mif\u001b[0m \u001b[0mmethod\u001b[0m \u001b[0;32mis\u001b[0m \u001b[0mNone\u001b[0m \u001b[0;32melse\u001b[0m \u001b[0mmethod\u001b[0m\u001b[0;34m\u001b[0m\u001b[0m\n",
      "\u001b[0;31mValueError\u001b[0m: One of the requested xi is out of bounds in dimension 0"
     ]
    }
   ],
   "source": [
    "test = sea_interpolator.compute_interp_weights(coords)"
   ]
  },
  {
   "cell_type": "code",
   "execution_count": null,
   "metadata": {
    "collapsed": true
   },
   "outputs": [],
   "source": []
  },
  {
   "cell_type": "code",
   "execution_count": null,
   "metadata": {
    "collapsed": true
   },
   "outputs": [],
   "source": [
    "type(sea_output_data)"
   ]
  },
  {
   "cell_type": "code",
   "execution_count": null,
   "metadata": {
    "collapsed": true
   },
   "outputs": [],
   "source": [
    "sea_output_data = np.ma.masked_array(sea_output_data, mask=sea_aps2_indx)"
   ]
  },
  {
   "cell_type": "code",
   "execution_count": null,
   "metadata": {
    "collapsed": true
   },
   "outputs": [],
   "source": [
    "land_weights = land_interpolator.compute_interp_weights(land_tgrid)"
   ]
  },
  {
   "cell_type": "code",
   "execution_count": null,
   "metadata": {
    "collapsed": true
   },
   "outputs": [],
   "source": [
    "land_output_data = land_interpolator.interp_using_pre_computed_weights(land_weights)"
   ]
  },
  {
   "cell_type": "code",
   "execution_count": null,
   "metadata": {
    "collapsed": true
   },
   "outputs": [],
   "source": [
    "print(land_output_data)"
   ]
  },
  {
   "cell_type": "code",
   "execution_count": null,
   "metadata": {
    "collapsed": true
   },
   "outputs": [],
   "source": [
    "combined_data = np.where(land_aps2_indx, sea_output_data, land_output_data)"
   ]
  },
  {
   "cell_type": "code",
   "execution_count": null,
   "metadata": {
    "collapsed": true
   },
   "outputs": [],
   "source": [
    "print(combined_data)"
   ]
  },
  {
   "cell_type": "code",
   "execution_count": 109,
   "metadata": {
    "collapsed": true
   },
   "outputs": [],
   "source": [
    "def show_data_difference(datum_a, datum_b, accuracy=None, entropy=None):\n",
    "    import numpy as np\n",
    "    from numpy.testing import assert_array_less\n",
    "    \n",
    "    result = datum_a.flatten()\n",
    "    expected = datum_b.flatten()\n",
    "    \n",
    "    if accuracy is None:\n",
    "        accuracy = np.repeat(0.0001, len(result))\n",
    "    if entropy is None:\n",
    "        entropy = 0.02\n",
    "    # Now assert the data is as expected.\n",
    "    delta = np.abs(result - expected)\n",
    "    msg = ('\\nEntropy: {}\\nExpected entropy: {}\\n'\n",
    "           'Index  -/x   Delta     Target   Expected value   Actual Value'\n",
    "           ''.format(delta.sum(), entropy))\n",
    "    template = '\\n{0:3}     {1:2}  {2:6f}  {3:6f}    {4:6f}      {5:6f}'\n",
    "\n",
    "    for i, (r_del, t_del, r, t) in enumerate(zip(delta, accuracy,\n",
    "                                                 result, expected)):\n",
    "        msg += template.format(i, '-' if r_del < t_del else 'x',\n",
    "                               r_del, t_del,\n",
    "                               t, r)\n",
    "    # Ensure each accuracy component falls below the target.\n",
    "    assert_array_less(delta, accuracy, msg)\n",
    "    # Ensure that our entropy is close to the expected one.\n",
    "    # If this fails because the result is now smaller than expected, good!\n",
    "    # It means we can tighten the expected entropy *AND* the target delta.\n",
    "    if np.abs(entropy - delta.sum()) > 0.001:\n",
    "        print(msg)"
   ]
  },
  {
   "cell_type": "code",
   "execution_count": null,
   "metadata": {
    "collapsed": true,
    "scrolled": true
   },
   "outputs": [],
   "source": [
    "show_data_difference(combined_data, drv_t_scn_iris.data)"
   ]
  },
  {
   "cell_type": "markdown",
   "metadata": {},
   "source": [
    "## 3. Now pull everything together"
   ]
  },
  {
   "cell_type": "code",
   "execution_count": null,
   "metadata": {
    "collapsed": true
   },
   "outputs": [],
   "source": [
    "%reload_ext autoreload"
   ]
  },
  {
   "cell_type": "code",
   "execution_count": 118,
   "metadata": {
    "collapsed": true
   },
   "outputs": [],
   "source": [
    "regridder = MdsRegridder(topo_aps3, topo_aps2, lsm_aps3, lsm_aps2)"
   ]
  },
  {
   "cell_type": "code",
   "execution_count": 119,
   "metadata": {
    "collapsed": true,
    "scrolled": true
   },
   "outputs": [],
   "source": [
    "t_scn_by_iris_cc_list = regridder._regrid_iris_coastline_correction(t_scn_aps3)"
   ]
  },
  {
   "cell_type": "code",
   "execution_count": 120,
   "metadata": {},
   "outputs": [
    {
     "name": "stdout",
     "output_type": "stream",
     "text": [
      "air_temperature / (K)               (latitude: 3; longitude: 3)\n",
      "     Dimension coordinates:\n",
      "          latitude                           x             -\n",
      "          longitude                          -             x\n",
      "     Scalar coordinates:\n",
      "          time: 1970-01-01 00:00:00\n"
     ]
    }
   ],
   "source": [
    "[t_scn_by_iris_cc]= t_scn_by_iris_cc_list.extract('air_temperature')\n",
    "print(t_scn_by_iris_cc)"
   ]
  },
  {
   "cell_type": "code",
   "execution_count": 121,
   "metadata": {},
   "outputs": [
    {
     "name": "stdout",
     "output_type": "stream",
     "text": [
      "[[ 300.88344903  300.66382534  300.70716069]\n",
      " [ 300.95641012  300.08969424  300.68359893]\n",
      " [ 297.48944652  299.26620242  300.67580714]]\n"
     ]
    }
   ],
   "source": [
    "print(t_scn_by_iris_cc.data)"
   ]
  },
  {
   "cell_type": "code",
   "execution_count": 116,
   "metadata": {},
   "outputs": [
    {
     "name": "stdout",
     "output_type": "stream",
     "text": [
      "[[ 182497.37520204     300.66382534     300.70716069]\n",
      " [ 186552.88301578  187330.1335001      300.68359893]\n",
      " [ 191003.20853386  192742.34635685     300.67580714]]\n"
     ]
    }
   ],
   "source": [
    "print(output_data_sea)"
   ]
  },
  {
   "cell_type": "markdown",
   "metadata": {},
   "source": [
    "## 4. Validate somehow: Need to find the nearest coastline observation points"
   ]
  },
  {
   "cell_type": "code",
   "execution_count": 132,
   "metadata": {
    "collapsed": true
   },
   "outputs": [],
   "source": [
    "def get_grid_vector(lat, lon):\n",
    "    \"\"\"\n",
    "    Convert input lat, lon (nparray) into grid_mesh for scipy interpolate;\n",
    "    First step to prepare for scipy interpolation.\n",
    "    \"\"\"\n",
    "    import numpy as np\n",
    "    lat_mesh, lon_mesh = np.meshgrid(lat, lon)\n",
    "    lat_vec = np.ravel(lat_mesh)\n",
    "    lon_vec = np.ravel(lon_mesh)\n",
    "    return lat_vec, lon_vec\n",
    "\n",
    "def get_grid_points(lat, lon):\n",
    "    \"\"\"\n",
    "    Convert input lat, lon (nparray) into grid_points for scipy interpolate.\n",
    "    \"\"\"\n",
    "    lat_vec, lon_vec = get_grid_vector(lat, lon)\n",
    "    grid_points = np.vstack((lat_vec, lon_vec)).T\n",
    "    return grid_points"
   ]
  },
  {
   "cell_type": "code",
   "execution_count": 127,
   "metadata": {
    "collapsed": true
   },
   "outputs": [],
   "source": [
    "def interpolate_cube_by_scipy(src_cube, src_grid_cube, tgt_grid_cube, method='linear'):\n",
    "    \"\"\"\n",
    "    Use Scipy to interpolate input cube (source data) to target grid.\n",
    "    ------\n",
    "    Input:\n",
    "        src_cube: the metadata cube on src_grids\n",
    "        src_grid_cube: a cube with source grids\n",
    "        tgt_grid_cube: a cube with target grids\n",
    "        method: the interpolate method used by scipy RegularGridInterpolator\n",
    "                only available \"linear\" & \"nearest\"\n",
    "    Output:\n",
    "        tgt_data: the interpolated data on target grids.\n",
    "    \"\"\"\n",
    "    import scipy.interpolate as interpolator\n",
    "\n",
    "    # Need prepare grid_points and vestor for scipy interpolator\n",
    "    src_data = src_cube.data\n",
    "    src_data_vec = np.ravel(src_data)\n",
    "    \n",
    "    # lat_src or lat_tgt: the latitude 1d np.array from source or target grids\n",
    "    # lon_src or lon_tgt: the longitude 1d np.array from source or target grids\n",
    "    lat_src = src_grid_cube.coord('latitude').points\n",
    "    lon_src = src_grid_cube.coord('longitude').points\n",
    "    \n",
    "    lat_tgt = tgt_grid_cube.coord('latitude').points\n",
    "    lon_tgt = tgt_grid_cube.coord('longitude').points\n",
    "    \n",
    "    grid_points_src = get_grid_points(lat_src, lon_src)\n",
    "    lat_tgt_vec, lon_tgt_vec = get_grid_vector(lat_tgt, lon_tgt)\n",
    "    \n",
    "    # Define the interpolator\n",
    "    if method == 'linear':\n",
    "        scipy_interp = interpolator.LinearNDInterpolator(grid_points_src, src_data_vec)\n",
    "    elif method == 'nearest':\n",
    "        scipy_interp = interpolator.NearestNDInterpolator(grid_points_src, src_data_vec)\n",
    "    else:\n",
    "        raise ValueError(\"Only linear and nearest interpolations are available!\")\n",
    "    # Derive\n",
    "    tgt_data = scipy_interp(lat_tgt_vec, lon_tgt_vec)\n",
    "    # Need reshape back to 2d\n",
    "    tgt_data = tgt_data.reshape(len(lat_tgt), len(lon_tgt))\n",
    "    \n",
    "    tgt_cube = create_derive_cube(src_cube, tgt_grid_cube)\n",
    "    tgt_cube.data = tgt_data\n",
    "    return tgt_cube"
   ]
  },
  {
   "cell_type": "code",
   "execution_count": 253,
   "metadata": {
    "collapsed": true
   },
   "outputs": [],
   "source": [
    "def interpolate_by_scipy(src_data, lat_src, lon_src, lat_tgt, lon_tgt, method='linear'):\n",
    "    \"\"\"\n",
    "    Use Scipy to interpolate input source data to target grid.\n",
    "    ------\n",
    "    Input:\n",
    "        src_data: the metadata on src_grids\n",
    "        lat_src or lat_tgt: the latitude 1d np.array from source or target grids\n",
    "        lon_src or lon_tgt: the longitude 1d np.array from source or target grids\n",
    "        method: the interpolate method used by scipy RegularGridInterpolator\n",
    "                only available \"linear\" & \"nearest\"\n",
    "    Output:\n",
    "        tgt_data: the interpolated data on target grids.\n",
    "    \"\"\"\n",
    "    import scipy.interpolate as interpolator\n",
    "\n",
    "    # Need prepare grid_points and vestor for scipy interpolator\n",
    "    src_data_vec = np.ravel(src_data)\n",
    "    grid_points_src = get_grid_points(lat_src, lon_src)\n",
    "    lat_tgt_vec, lon_tgt_vec = get_grid_vector(lat_tgt, lon_tgt)\n",
    "    \n",
    "    # Define the interpolator\n",
    "    if method == 'linear':\n",
    "        scipy_interp = interpolator.LinearNDInterpolator(grid_points_src, src_data_vec)\n",
    "    elif method == 'nearest':\n",
    "        scipy_interp = interpolator.NearestNDInterpolator(grid_points_src, src_data_vec)\n",
    "    else:\n",
    "        raise ValueError(\"Only linear and nearest interpolations are available!\")\n",
    "    # Derive\n",
    "    tgt_data = scipy_interp(lat_tgt_vec, lon_tgt_vec)\n",
    "    # Need reshape back to 2d\n",
    "    tgt_data = tgt_data.reshape(len(lat_tgt), len(lon_tgt))\n",
    "    return tgt_data"
   ]
  },
  {
   "cell_type": "code",
   "execution_count": 130,
   "metadata": {},
   "outputs": [
    {
     "name": "stdout",
     "output_type": "stream",
     "text": [
      "[[-- 0.0 0.0]\n",
      " [-- -- 0.0]\n",
      " [-- -- 0.0]]\n"
     ]
    }
   ],
   "source": [
    "print(cube_sea_aps2.data)"
   ]
  },
  {
   "cell_type": "code",
   "execution_count": 133,
   "metadata": {
    "collapsed": true
   },
   "outputs": [],
   "source": [
    "test_sea = interpolate_cube_by_scipy(cube_sea_aps3, cube_sea_aps3, cube_sea_aps2)"
   ]
  },
  {
   "cell_type": "code",
   "execution_count": 134,
   "metadata": {},
   "outputs": [
    {
     "name": "stdout",
     "output_type": "stream",
     "text": [
      "[[ 301.80512897  300.69529197  300.69530223]\n",
      " [ 300.9757273   300.37434009  300.64848906]\n",
      " [ 297.47593081  299.21058541  300.62505178]]\n"
     ]
    }
   ],
   "source": [
    "print(test_sea.data)"
   ]
  },
  {
   "cell_type": "code",
   "execution_count": 150,
   "metadata": {
    "collapsed": true
   },
   "outputs": [],
   "source": [
    "test_land = interpolate_cube_by_scipy(cube_land_aps3, lsm_aps3, lsm_aps2)"
   ]
  },
  {
   "cell_type": "code",
   "execution_count": 151,
   "metadata": {},
   "outputs": [
    {
     "name": "stdout",
     "output_type": "stream",
     "text": [
      "[[ 301.80512897  300.69529197  300.69530223]\n",
      " [ 300.9757273   300.37434009  300.64848906]\n",
      " [ 297.47593081  299.21058541  300.62505178]]\n"
     ]
    }
   ],
   "source": [
    "print(test_land.data)"
   ]
  },
  {
   "cell_type": "code",
   "execution_count": 138,
   "metadata": {},
   "outputs": [
    {
     "name": "stdout",
     "output_type": "stream",
     "text": [
      "[[ 300.88344903  300.66382534  300.70716069]\n",
      " [ 300.95641012  300.08969424  300.68359893]\n",
      " [ 297.48944652  299.26620242  300.67580714]]\n"
     ]
    }
   ],
   "source": [
    "print(output_data)"
   ]
  },
  {
   "cell_type": "code",
   "execution_count": 141,
   "metadata": {},
   "outputs": [
    {
     "name": "stdout",
     "output_type": "stream",
     "text": [
      "[[ True  True False False False False]\n",
      " [ True  True  True False False False]\n",
      " [ True  True  True  True False False]\n",
      " [ True  True  True  True False False]\n",
      " [ True  True  True  True False False]\n",
      " [ True  True  True  True False False]]\n"
     ]
    }
   ],
   "source": [
    "print(sea_aps3_indx)"
   ]
  },
  {
   "cell_type": "code",
   "execution_count": 147,
   "metadata": {},
   "outputs": [
    {
     "data": {
      "text/plain": [
       "array([ 300.859375,  300.4375  ,  300.640625,  300.8125  ,  300.53125 ,\n",
       "        300.578125,  300.796875,  300.640625,  300.71875 ,  300.71875 ,\n",
       "        300.65625 ,  300.71875 ,  300.65625 ,  300.59375 ,  300.734375])"
      ]
     },
     "execution_count": 147,
     "metadata": {},
     "output_type": "execute_result"
    }
   ],
   "source": [
    "# This is producing the sea data due to indx setup\n",
    "t_scn_aps3.data[land_aps3_indx]"
   ]
  },
  {
   "cell_type": "code",
   "execution_count": 143,
   "metadata": {},
   "outputs": [
    {
     "data": {
      "text/plain": [
       "array([[ 300.0625  ,  299.1875  ,  300.859375,  300.4375  ,  300.640625,\n",
       "         300.8125  ],\n",
       "       [ 300.734375,  303.546875,  300.828125,  300.53125 ,  300.578125,\n",
       "         300.796875],\n",
       "       [ 302.0625  ,  301.078125,  300.703125,  299.90625 ,  300.640625,\n",
       "         300.71875 ],\n",
       "       [ 300.796875,  299.890625,  299.703125,  300.046875,  300.71875 ,\n",
       "         300.65625 ],\n",
       "       [ 297.078125,  298.875   ,  299.09375 ,  300.078125,  300.71875 ,\n",
       "         300.65625 ],\n",
       "       [ 296.125   ,  297.875   ,  298.5625  ,  299.328125,  300.59375 ,\n",
       "         300.734375]])"
      ]
     },
     "execution_count": 143,
     "metadata": {},
     "output_type": "execute_result"
    }
   ],
   "source": [
    "t_scn_aps3_data"
   ]
  },
  {
   "cell_type": "code",
   "execution_count": 148,
   "metadata": {},
   "outputs": [
    {
     "ename": "ValueError",
     "evalue": "Require cube data with shape (6, 6), got (15,).",
     "output_type": "error",
     "traceback": [
      "\u001b[0;31m---------------------------------------------------------------------------\u001b[0m",
      "\u001b[0;31mValueError\u001b[0m                                Traceback (most recent call last)",
      "\u001b[0;32m<ipython-input-148-35bc61e73ec6>\u001b[0m in \u001b[0;36m<module>\u001b[0;34m()\u001b[0m\n\u001b[1;32m      1\u001b[0m \u001b[0mcube_sea\u001b[0m \u001b[0;34m=\u001b[0m \u001b[0mt_scn_aps3\u001b[0m\u001b[0;34m.\u001b[0m\u001b[0mcopy\u001b[0m\u001b[0;34m(\u001b[0m\u001b[0;34m)\u001b[0m\u001b[0;34m\u001b[0m\u001b[0m\n\u001b[0;32m----> 2\u001b[0;31m \u001b[0mcube_sea\u001b[0m\u001b[0;34m.\u001b[0m\u001b[0mdata\u001b[0m \u001b[0;34m=\u001b[0m \u001b[0mt_scn_aps3\u001b[0m\u001b[0;34m.\u001b[0m\u001b[0mdata\u001b[0m\u001b[0;34m[\u001b[0m\u001b[0mland_aps3_indx\u001b[0m\u001b[0;34m]\u001b[0m\u001b[0;34m\u001b[0m\u001b[0m\n\u001b[0m",
      "\u001b[0;32m/data/hwang/conda/miniconda3/envs/pre-proc-py2/lib/python2.7/site-packages/iris/cube.pyc\u001b[0m in \u001b[0;36mdata\u001b[0;34m(self, value)\u001b[0m\n\u001b[1;32m   1711\u001b[0m             \u001b[0;32mif\u001b[0m \u001b[0mself\u001b[0m\u001b[0;34m.\u001b[0m\u001b[0mshape\u001b[0m \u001b[0;32mor\u001b[0m \u001b[0mdata\u001b[0m\u001b[0;34m.\u001b[0m\u001b[0mshape\u001b[0m \u001b[0;34m!=\u001b[0m \u001b[0;34m(\u001b[0m\u001b[0;36m1\u001b[0m\u001b[0;34m,\u001b[0m\u001b[0;34m)\u001b[0m\u001b[0;34m:\u001b[0m\u001b[0;34m\u001b[0m\u001b[0m\n\u001b[1;32m   1712\u001b[0m                 raise ValueError('Require cube data with shape %r, got '\n\u001b[0;32m-> 1713\u001b[0;31m                                  '%r.' % (self.shape, data.shape))\n\u001b[0m\u001b[1;32m   1714\u001b[0m \u001b[0;34m\u001b[0m\u001b[0m\n\u001b[1;32m   1715\u001b[0m         \u001b[0mself\u001b[0m\u001b[0;34m.\u001b[0m\u001b[0m_my_data\u001b[0m \u001b[0;34m=\u001b[0m \u001b[0mdata\u001b[0m\u001b[0;34m\u001b[0m\u001b[0m\n",
      "\u001b[0;31mValueError\u001b[0m: Require cube data with shape (6, 6), got (15,)."
     ]
    }
   ],
   "source": [
    "cube_sea = t_scn_aps3.copy()\n",
    "cube_sea.data = t_scn_aps3.data[land_aps3_indx]"
   ]
  },
  {
   "cell_type": "code",
   "execution_count": 234,
   "metadata": {
    "collapsed": true
   },
   "outputs": [],
   "source": [
    "def produce_land_sea_index(lsm_cube):\n",
    "    \"\"\"\n",
    "    Return the land_indx and sea_indx from a given lsm_cube.\n",
    "    Note: this method is not for mask\n",
    "    \"\"\"\n",
    "    # Need to be true for the sea points\n",
    "    sea_index = (lsm_cube.data == 0)\n",
    "    # The land points \n",
    "    land_index = (lsm_cube.data != 0)\n",
    "    return land_index, sea_index"
   ]
  },
  {
   "cell_type": "code",
   "execution_count": 235,
   "metadata": {
    "collapsed": true
   },
   "outputs": [],
   "source": [
    "land_indx_src, sea_indx_src = produce_land_sea_index(lsm_aps3)"
   ]
  },
  {
   "cell_type": "code",
   "execution_count": 237,
   "metadata": {},
   "outputs": [
    {
     "name": "stdout",
     "output_type": "stream",
     "text": [
      "[[False False  True  True  True  True]\n",
      " [False False False  True  True  True]\n",
      " [False False False False  True  True]\n",
      " [False False False False  True  True]\n",
      " [False False False False  True  True]\n",
      " [False False False False  True  True]]\n"
     ]
    }
   ],
   "source": [
    "print(sea_indx_src)"
   ]
  },
  {
   "cell_type": "code",
   "execution_count": 238,
   "metadata": {
    "collapsed": true
   },
   "outputs": [],
   "source": [
    "src_sea_data = t_scn_aps3.data[sea_indx_src]"
   ]
  },
  {
   "cell_type": "code",
   "execution_count": 239,
   "metadata": {},
   "outputs": [
    {
     "name": "stdout",
     "output_type": "stream",
     "text": [
      "[ 300.859375  300.4375    300.640625  300.8125    300.53125   300.578125\n",
      "  300.796875  300.640625  300.71875   300.71875   300.65625   300.71875\n",
      "  300.65625   300.59375   300.734375]\n"
     ]
    }
   ],
   "source": [
    "print(src_sea_data)"
   ]
  },
  {
   "cell_type": "code",
   "execution_count": 240,
   "metadata": {
    "collapsed": true
   },
   "outputs": [],
   "source": [
    "src_grid_cube = topo_aps3\n",
    "lat_src = src_grid_cube.coord('latitude').points\n",
    "lon_src = src_grid_cube.coord('longitude').points\n"
   ]
  },
  {
   "cell_type": "code",
   "execution_count": 242,
   "metadata": {
    "collapsed": true
   },
   "outputs": [],
   "source": [
    "grid_points_src = get_grid_points(lat_src, lon_src)"
   ]
  },
  {
   "cell_type": "code",
   "execution_count": 243,
   "metadata": {
    "collapsed": true
   },
   "outputs": [],
   "source": [
    "src_cube = t_scn_aps3\n",
    "src_data = src_cube.data\n",
    "src_data_vec = np.ravel(src_data)"
   ]
  },
  {
   "cell_type": "code",
   "execution_count": 247,
   "metadata": {},
   "outputs": [
    {
     "data": {
      "text/plain": [
       "array([ 300.0625  ,  299.1875  ,  300.859375,  300.4375  ,  300.640625,\n",
       "        300.8125  ,  300.734375,  303.546875,  300.828125,  300.53125 ,\n",
       "        300.578125,  300.796875,  302.0625  ,  301.078125,  300.703125,\n",
       "        299.90625 ,  300.640625,  300.71875 ,  300.796875,  299.890625,\n",
       "        299.703125,  300.046875,  300.71875 ,  300.65625 ,  297.078125,\n",
       "        298.875   ,  299.09375 ,  300.078125,  300.71875 ,  300.65625 ,\n",
       "        296.125   ,  297.875   ,  298.5625  ,  299.328125,  300.59375 ,\n",
       "        300.734375])"
      ]
     },
     "execution_count": 247,
     "metadata": {},
     "output_type": "execute_result"
    }
   ],
   "source": [
    "src_data_vec"
   ]
  },
  {
   "cell_type": "code",
   "execution_count": 248,
   "metadata": {},
   "outputs": [
    {
     "data": {
      "text/plain": [
       "masked_array(data =\n",
       " [[300.0625 299.1875 -- -- -- --]\n",
       " [300.734375 303.546875 300.828125 -- -- --]\n",
       " [302.0625 301.078125 300.703125 299.90625 -- --]\n",
       " [300.796875 299.890625 299.703125 300.046875 -- --]\n",
       " [297.078125 298.875 299.09375 300.078125 -- --]\n",
       " [296.125 297.875 298.5625 299.328125 -- --]],\n",
       "             mask =\n",
       " [[False False  True  True  True  True]\n",
       " [False False False  True  True  True]\n",
       " [False False False False  True  True]\n",
       " [False False False False  True  True]\n",
       " [False False False False  True  True]\n",
       " [False False False False  True  True]],\n",
       "       fill_value = 1e+20)"
      ]
     },
     "execution_count": 248,
     "metadata": {},
     "output_type": "execute_result"
    }
   ],
   "source": [
    "cube_land_aps3.data"
   ]
  },
  {
   "cell_type": "code",
   "execution_count": 249,
   "metadata": {
    "collapsed": true
   },
   "outputs": [],
   "source": [
    "cube_src_land_data = np.where(lsm_aps3_data ==0, np.nan, t_scn_aps3_data)"
   ]
  },
  {
   "cell_type": "code",
   "execution_count": 250,
   "metadata": {},
   "outputs": [
    {
     "name": "stdout",
     "output_type": "stream",
     "text": [
      "[[ 300.0625    299.1875           nan         nan         nan         nan]\n",
      " [ 300.734375  303.546875  300.828125         nan         nan         nan]\n",
      " [ 302.0625    301.078125  300.703125  299.90625          nan         nan]\n",
      " [ 300.796875  299.890625  299.703125  300.046875         nan         nan]\n",
      " [ 297.078125  298.875     299.09375   300.078125         nan         nan]\n",
      " [ 296.125     297.875     298.5625    299.328125         nan         nan]]\n"
     ]
    }
   ],
   "source": [
    "print(cube_src_land_data)"
   ]
  },
  {
   "cell_type": "code",
   "execution_count": 251,
   "metadata": {
    "collapsed": true
   },
   "outputs": [],
   "source": [
    "src_sea_indx = np.where(np.in1d(src_data_vec, cube_src_land_data))"
   ]
  },
  {
   "cell_type": "code",
   "execution_count": 252,
   "metadata": {},
   "outputs": [
    {
     "data": {
      "text/plain": [
       "(array([ 0,  1,  6,  7,  8, 11, 12, 13, 14, 15, 18, 19, 20, 21, 24, 25, 26,\n",
       "        27, 30, 31, 32, 33, 35]),)"
      ]
     },
     "execution_count": 252,
     "metadata": {},
     "output_type": "execute_result"
    }
   ],
   "source": [
    "src_sea_indx"
   ]
  },
  {
   "cell_type": "code",
   "execution_count": 159,
   "metadata": {
    "scrolled": true
   },
   "outputs": [
    {
     "name": "stdout",
     "output_type": "stream",
     "text": [
      "[[[  6.26953125  81.12304688]\n",
      "  [  6.26953125  81.29882812]\n",
      "  [  6.26953125  81.47460938]\n",
      "  [  6.26953125  81.65039062]\n",
      "  [  6.26953125  81.82617188]\n",
      "  [  6.26953125  82.00195312]]\n",
      "\n",
      " [[  6.38671875  81.12304688]\n",
      "  [  6.38671875  81.29882812]\n",
      "  [  6.38671875  81.47460938]\n",
      "  [  6.38671875  81.65039062]\n",
      "  [  6.38671875  81.82617188]\n",
      "  [  6.38671875  82.00195312]]\n",
      "\n",
      " [[  6.50390625  81.12304688]\n",
      "  [  6.50390625  81.29882812]\n",
      "  [  6.50390625  81.47460938]\n",
      "  [  6.50390625  81.65039062]\n",
      "  [  6.50390625  81.82617188]\n",
      "  [  6.50390625  82.00195312]]\n",
      "\n",
      " [[  6.62109375  81.12304688]\n",
      "  [  6.62109375  81.29882812]\n",
      "  [  6.62109375  81.47460938]\n",
      "  [  6.62109375  81.65039062]\n",
      "  [  6.62109375  81.82617188]\n",
      "  [  6.62109375  82.00195312]]\n",
      "\n",
      " [[  6.73828125  81.12304688]\n",
      "  [  6.73828125  81.29882812]\n",
      "  [  6.73828125  81.47460938]\n",
      "  [  6.73828125  81.65039062]\n",
      "  [  6.73828125  81.82617188]\n",
      "  [  6.73828125  82.00195312]]\n",
      "\n",
      " [[  6.85546875  81.12304688]\n",
      "  [  6.85546875  81.29882812]\n",
      "  [  6.85546875  81.47460938]\n",
      "  [  6.85546875  81.65039062]\n",
      "  [  6.85546875  81.82617188]\n",
      "  [  6.85546875  82.00195312]]]\n"
     ]
    }
   ],
   "source": [
    "print(tgrid_aps3)"
   ]
  },
  {
   "cell_type": "code",
   "execution_count": 160,
   "metadata": {
    "collapsed": true
   },
   "outputs": [],
   "source": [
    "grid_points_src_sea = tgrid_aps3[sea_index_src]"
   ]
  },
  {
   "cell_type": "code",
   "execution_count": 161,
   "metadata": {},
   "outputs": [
    {
     "name": "stdout",
     "output_type": "stream",
     "text": [
      "[[  6.26953125  81.47460938]\n",
      " [  6.26953125  81.65039062]\n",
      " [  6.26953125  81.82617188]\n",
      " [  6.26953125  82.00195312]\n",
      " [  6.38671875  81.65039062]\n",
      " [  6.38671875  81.82617188]\n",
      " [  6.38671875  82.00195312]\n",
      " [  6.50390625  81.82617188]\n",
      " [  6.50390625  82.00195312]\n",
      " [  6.62109375  81.82617188]\n",
      " [  6.62109375  82.00195312]\n",
      " [  6.73828125  81.82617188]\n",
      " [  6.73828125  82.00195312]\n",
      " [  6.85546875  81.82617188]\n",
      " [  6.85546875  82.00195312]]\n"
     ]
    }
   ],
   "source": [
    "print(grid_points_src_sea)"
   ]
  },
  {
   "cell_type": "code",
   "execution_count": 165,
   "metadata": {},
   "outputs": [
    {
     "data": {
      "text/plain": [
       "(15, 2)"
      ]
     },
     "execution_count": 165,
     "metadata": {},
     "output_type": "execute_result"
    }
   ],
   "source": [
    "grid_points_src_sea.shape"
   ]
  },
  {
   "cell_type": "code",
   "execution_count": 166,
   "metadata": {},
   "outputs": [
    {
     "data": {
      "text/plain": [
       "(30,)"
      ]
     },
     "execution_count": 166,
     "metadata": {},
     "output_type": "execute_result"
    }
   ],
   "source": [
    "np.ravel(grid_points_src_sea).shape"
   ]
  },
  {
   "cell_type": "code",
   "execution_count": 167,
   "metadata": {
    "collapsed": true
   },
   "outputs": [],
   "source": [
    "import scipy.interpolate as interpolator\n",
    "scipy_interp = interpolator.LinearNDInterpolator(grid_points_src_sea, src_data_vec_sea)"
   ]
  },
  {
   "cell_type": "code",
   "execution_count": 168,
   "metadata": {},
   "outputs": [
    {
     "name": "stdout",
     "output_type": "stream",
     "text": [
      "[[[  6.328125  81.211053]\n",
      "  [  6.328125  81.562616]\n",
      "  [  6.328125  81.914179]]\n",
      "\n",
      " [[  6.5625    81.211053]\n",
      "  [  6.5625    81.562616]\n",
      "  [  6.5625    81.914179]]\n",
      "\n",
      " [[  6.796875  81.211053]\n",
      "  [  6.796875  81.562616]\n",
      "  [  6.796875  81.914179]]]\n"
     ]
    }
   ],
   "source": [
    "# Here the tgrid is tgrid_aps2 (or namely grid_tgt)\n",
    "print(tgrid)"
   ]
  },
  {
   "cell_type": "code",
   "execution_count": 170,
   "metadata": {
    "collapsed": true
   },
   "outputs": [],
   "source": [
    "land_index_tgt, sea_index_tgt = produce_land_sea_index(lsm_aps2)"
   ]
  },
  {
   "cell_type": "code",
   "execution_count": 171,
   "metadata": {
    "collapsed": true
   },
   "outputs": [],
   "source": [
    "grid_points_tgt_sea = tgrid[sea_index_tgt]"
   ]
  },
  {
   "cell_type": "code",
   "execution_count": 172,
   "metadata": {},
   "outputs": [
    {
     "name": "stdout",
     "output_type": "stream",
     "text": [
      "[[  6.328125  81.562616]\n",
      " [  6.328125  81.914179]\n",
      " [  6.5625    81.914179]\n",
      " [  6.796875  81.914179]]\n"
     ]
    }
   ],
   "source": [
    "print(grid_points_tgt_sea)"
   ]
  },
  {
   "cell_type": "code",
   "execution_count": 174,
   "metadata": {
    "collapsed": true
   },
   "outputs": [],
   "source": [
    "test_point = scipy_interp(6.328125, 81.562616)"
   ]
  },
  {
   "cell_type": "code",
   "execution_count": 175,
   "metadata": {},
   "outputs": [
    {
     "name": "stdout",
     "output_type": "stream",
     "text": [
      "300.6950341\n"
     ]
    }
   ],
   "source": [
    "print(test_point)"
   ]
  },
  {
   "cell_type": "code",
   "execution_count": 176,
   "metadata": {
    "collapsed": true
   },
   "outputs": [],
   "source": [
    "test_sea_results = scipy_interp(grid_points_tgt_sea)"
   ]
  },
  {
   "cell_type": "code",
   "execution_count": 177,
   "metadata": {},
   "outputs": [
    {
     "name": "stdout",
     "output_type": "stream",
     "text": [
      "[ 300.6950341   300.69545748  300.64848928  300.6250932 ]\n"
     ]
    }
   ],
   "source": [
    "print(test_sea_results)"
   ]
  },
  {
   "cell_type": "code",
   "execution_count": 178,
   "metadata": {},
   "outputs": [
    {
     "name": "stdout",
     "output_type": "stream",
     "text": [
      "[[ 182497.37520204     300.66382534     300.70716069]\n",
      " [ 186552.88301578  187330.1335001      300.68359893]\n",
      " [ 191003.20853386  192742.34635685     300.67580714]]\n"
     ]
    }
   ],
   "source": [
    "print(output_data_sea)"
   ]
  },
  {
   "cell_type": "code",
   "execution_count": 180,
   "metadata": {},
   "outputs": [
    {
     "name": "stdout",
     "output_type": "stream",
     "text": [
      "[[ 301.80512897  300.69529197  300.69530223]\n",
      " [ 300.9757273   300.37434009  300.64848906]\n",
      " [ 297.47593081  299.21058541  300.62505178]]\n"
     ]
    }
   ],
   "source": [
    "print(test_sea.data)"
   ]
  },
  {
   "cell_type": "markdown",
   "metadata": {},
   "source": [
    "## Now new implementation for testing"
   ]
  },
  {
   "cell_type": "code",
   "execution_count": 192,
   "metadata": {
    "collapsed": true
   },
   "outputs": [],
   "source": [
    "input_cubes = iris.cube.CubeList()"
   ]
  },
  {
   "cell_type": "code",
   "execution_count": 193,
   "metadata": {
    "collapsed": true
   },
   "outputs": [],
   "source": [
    "input_cubes.append(t_scn_aps3)"
   ]
  },
  {
   "cell_type": "code",
   "execution_count": 275,
   "metadata": {
    "collapsed": true
   },
   "outputs": [],
   "source": [
    "def scipy_interpolate_cube_by_index(src_cube, lsm_index, tgt_grid_cube, method='linear'):\n",
    "    \"\"\"\n",
    "    Use Scipy to interpolate input cube (source data) to target grid.\n",
    "    ------\n",
    "    Input:\n",
    "        src_cube: the metadata cube on src_grids\n",
    "        src_grid_cube: a cube with source grids\n",
    "        tgt_grid_cube: a cube with target grids\n",
    "        method: the interpolate method used by scipy RegularGridInterpolator\n",
    "                only available \"linear\" & \"nearest\"\n",
    "    Output:\n",
    "        tgt_data: the interpolated data on target grids.\n",
    "    \"\"\"\n",
    "    import scipy.interpolate as interpolator\n",
    "\n",
    "    # Need prepare grid_points and vestor for scipy interpolator\n",
    "    src_data = src_cube.data\n",
    "    src_data_vec = np.ravel(src_data)\n",
    "    \n",
    "    # lat_src or lat_tgt: the latitude 1d np.array from source or target grids\n",
    "    # lon_src or lon_tgt: the longitude 1d np.array from source or target grids\n",
    "    lat_src = src_cube.coord('latitude').points\n",
    "    lon_src = src_cube.coord('longitude').points\n",
    "    \n",
    "    lat_tgt = tgt_grid_cube.coord('latitude').points\n",
    "    lon_tgt = tgt_grid_cube.coord('longitude').points\n",
    "    \n",
    "    grid_points_src = get_grid_points(lat_src, lon_src)\n",
    "    lat_tgt_vec, lon_tgt_vec = get_grid_vector(lat_tgt, lon_tgt)\n",
    "    \n",
    "    # Define the interpolator\n",
    "    if method == 'linear':\n",
    "        scipy_interp = interpolator.LinearNDInterpolator(grid_points_src, src_data_vec)\n",
    "    elif method == 'nearest':\n",
    "        scipy_interp = interpolator.NearestNDInterpolator(grid_points_src, src_data_vec)\n",
    "    else:\n",
    "        raise ValueError(\"Only linear and nearest interpolations are available!\")\n",
    "    # Derive\n",
    "    tgt_data = scipy_interp(lat_tgt_vec, lon_tgt_vec)\n",
    "    # Need reshape back to 2d\n",
    "    tgt_data = tgt_data.reshape(len(lat_tgt), len(lon_tgt))\n",
    "    \n",
    "    tgt_cube = create_derive_cube(src_cube, tgt_grid_cube)\n",
    "    tgt_cube.data = tgt_data\n",
    "    return tgt_cube"
   ]
  },
  {
   "cell_type": "code",
   "execution_count": 318,
   "metadata": {
    "collapsed": true
   },
   "outputs": [],
   "source": [
    "class MdsRegridder(object):\n",
    "    \"\"\"\n",
    "    Regrid the cubes with a range of optional algorithms.\n",
    "    \"\"\"\n",
    "    def __init__(self, src_topo, tgt_topo,\n",
    "                 src_lsm=None, tgt_lsm=None):\n",
    "        \"\"\"\n",
    "        src_topo: a cube of source topograph (required)\n",
    "        tgt_topo: a cube of target topograph (required)\n",
    "        src_lsm: a cube of source land binary mask (optional)\n",
    "        tgt_lsm: a cube of target land binary mask (optional)\n",
    "        \"\"\"\n",
    "        self.src_topo = src_topo\n",
    "        self.tgt_topo = tgt_topo\n",
    "\n",
    "        # calculate dz cube for height adjustment\n",
    "        self.drv_tgt_topo = regrid_cube_by_scheme(\n",
    "                                self.src_topo, self.tgt_topo, 'linear')\n",
    "        self.dz = self.drv_tgt_topo - self.tgt_topo\n",
    "\n",
    "        if src_lsm and tgt_lsm:\n",
    "            # Providing both lsm are available\n",
    "            self.src_lsm = src_lsm\n",
    "            self.tgt_lsm = tgt_lsm\n",
    "            self.src_lsm_land_indx, self.src_lsm_sea_indx = \\\n",
    "                get_land_sea_index(self.src_lsm)\n",
    "            self.tgt_lsm_land_indx, self.tgt_lsm_sea_indx = \\\n",
    "                get_land_sea_index(self.tgt_lsm)\n",
    "                \n",
    "    def _regrid_iris_coastline_correction(\n",
    "            self, input_cubes, algorithm='linear'):\n",
    "        \"\"\"\n",
    "        Use iris.analysis._interpolate for coastline correction and\n",
    "        then combine with Iris.regrid;\n",
    "        For 'area-weighted', use '_regrid_iris_two_stage' for 'cc'.\n",
    "         ------\n",
    "        Args:\n",
    "            input_cubes: the source input cubes\n",
    "            algorithm: a string descrbing the regridding scheme used,\n",
    "                       i.e. only \"linear\" and \"nearest\"\n",
    "        Returns:\n",
    "            The interpolated cube with coastline correction.\n",
    "        \"\"\"\n",
    "        # kafka_log, full_log = getLoggers()\n",
    "        # If the input is only a param_cube, turn it into CubeList\n",
    "        if not isinstance(input_cubes, iris.cube.CubeList):\n",
    "            input_cube_list = iris.cube.CubeList([])\n",
    "            input_cube_list.append(input_cubes)\n",
    "            input_cubes = input_cube_list\n",
    "\n",
    "        regridded_cubes = iris.cube.CubeList([])\n",
    "\n",
    "        if self.src_lsm is None or self.tgt_lsm is None:\n",
    "            raise ValueError(\"Need land/sea mask to initialize MdsRegridder!\")\n",
    "\n",
    "        for cube in input_cubes:\n",
    "         for cube in input_cubes:\n",
    "            #full_log.info(\"Processing \" + cube.name())\n",
    "            # Masked the APS3 sea points\n",
    "            cube_src_land = transform_cube_by_masked_index(\n",
    "                cube, self.src_lsm_land_indx)\n",
    "            # Masked the APS3 land points\n",
    "            cube_src_sea = transform_cube_by_masked_index(\n",
    "                cube, self.src_lsm_sea_indx)\n",
    "\n",
    "            # interp with land/sea indexed data\n",
    "            cube_tgt_land = interpolate_cube_by_scipy(\n",
    "                cube_src_land, self.src_topo, self.tgt_topo)\n",
    "            cube_tgt_sea = interpolate_cube_by_scipy(\n",
    "                cube_src_sea, self.src_topo, self.tgt_topo)\n",
    "\n",
    "            combined_data = np.where(self.tgt_lsm_land_indx,\n",
    "                                     cube_tgt_sea.data,\n",
    "                                     cube_tgt_land.data)\n",
    "\n",
    "            drv_cube = cube_tgt_land.copy()\n",
    "            drv_cube.data = combined_data\n",
    "\n",
    "            regridded_cubes.append(drv_cube)\n",
    "\n",
    "        return regridded_cubes\n",
    "           \n",
    "            \n",
    "            \n",
    "            # full_log.info(\"Processing \" + cube.name())\n",
    "            # Masked the APS3 sea points\n",
    "            #cube_src_land = cube.copy()\n",
    "            #cube_src_land.data = np.where(\n",
    "            #    self.src_lsm.data == 0, np.nan, cube.data)\n",
    "            # Masked the APS3 land points\n",
    "            #cube_src_sea = cube.copy()\n",
    "            #cube_src_sea.data = np.where(\n",
    "            #    self.src_lsm.data != 0, np.nan, cube.data)\n",
    "\n",
    "            # Get src/tgt lat, lon\n",
    "            #lat_src, lon_src = get_cube_grid_points(self.src_lsm)\n",
    "            #lat_tgt, lon_tgt = get_cube_grid_points(self.tgt_lsm)\n",
    "            \n",
    "            # interp with land/sea indexed data\n",
    "            #cube_tgt_land_data = interpolate_by_scipy(\n",
    "            #    cube_src_land_data, lat_src, lon_src, lat_tgt, lon_tgt, method=algorithm)\n",
    "            #cube_tgt_sea_data = interpolate_by_scipy(\n",
    "            #    cube_src_sea_data, lat_src, lon_src, lat_tgt, lon_tgt, method=algorithm)\n",
    "\n",
    "            #cube_tgt_land = scipy_interpolate_cube_by_index(\n",
    "            #    cube_src_land, self.src_lsm, self.tgt_topo, method=algorithm)\n",
    "            #cube_tgt_sea_data = scipy_interpolate_cube_by_index(\n",
    "            #    cube_src_sea, self.src_lsm, self.tgt_topo, method=algorithm)\n",
    "            \n",
    "            #import pdb;pdb.set_trace()\n",
    "            #combined_data = np.where(self.tgt_lsm_land_indx,\n",
    "            #                         cube_tgt_sea.data,\n",
    "            #                         cube_tgt_land.data)\n",
    "\n",
    "            #drv_cube = create_derive_cube(cube, self.tgt_topo)\n",
    "            \n",
    "            # Masked the APS3 sea points\n",
    "            #cube_src_land = transform_cube_by_masked_index(\n",
    "            #    cube, self.src_lsm_land_indx)\n",
    "            # Masked the APS3 land points\n",
    "            #cube_src_sea = transform_cube_by_masked_index(\n",
    "            #    cube, self.src_lsm_sea_indx)\n",
    "\n",
    "            # interp with land/sea indexed data\n",
    "            #cube_tgt_land = interpolate_cube_by_scipy(\n",
    "            #    cube_src_land, self.src_topo, self.tgt_topo)\n",
    "            #cube_tgt_sea = interpolate_cube_by_scipy(\n",
    "            #    cube_src_sea, self.src_topo, self.tgt_topo)\n",
    "\n",
    "            #combined_data = np.where(self.tgt_lsm_land_indx,\n",
    "            #                         cube_tgt_sea.data,\n",
    "            #                         cube_tgt_land.data)\n",
    "\n",
    "            #drv_cube = cube_tgt_land.copy()\n",
    "            \n",
    "            \n",
    "            #drv_cube.data = combined_data\n",
    "\n",
    "            #regridded_cubes.append(drv_cube)\n",
    "\n",
    "        #return regridded_cubes"
   ]
  },
  {
   "cell_type": "code",
   "execution_count": 315,
   "metadata": {
    "collapsed": true
   },
   "outputs": [],
   "source": [
    "%reload_ext autoreload"
   ]
  },
  {
   "cell_type": "code",
   "execution_count": 279,
   "metadata": {
    "collapsed": true
   },
   "outputs": [],
   "source": [
    "regridder = MdsRegridder(topo_aps3, topo_aps2, lsm_aps3, lsm_aps2)"
   ]
  },
  {
   "cell_type": "code",
   "execution_count": 280,
   "metadata": {
    "collapsed": true,
    "scrolled": true
   },
   "outputs": [],
   "source": [
    "regridded_cubes = regridder._regrid_iris_coastline_correction(input_cubes)"
   ]
  },
  {
   "cell_type": "code",
   "execution_count": 281,
   "metadata": {},
   "outputs": [
    {
     "name": "stdout",
     "output_type": "stream",
     "text": [
      "0: air_temperature / (K)               (latitude: 3; longitude: 3)\n"
     ]
    }
   ],
   "source": [
    "print(regridded_cubes)"
   ]
  },
  {
   "cell_type": "code",
   "execution_count": 282,
   "metadata": {},
   "outputs": [
    {
     "name": "stdout",
     "output_type": "stream",
     "text": [
      "[[ 301.80512897  300.69529197  300.69530223]\n",
      " [ 300.9757273   300.37434009  300.64848906]\n",
      " [ 297.47593081  299.21058541  300.62505178]]\n"
     ]
    }
   ],
   "source": [
    "test_t = regridded_cubes[0]\n",
    "print(test_t.data)"
   ]
  },
  {
   "cell_type": "code",
   "execution_count": 207,
   "metadata": {},
   "outputs": [
    {
     "name": "stdout",
     "output_type": "stream",
     "text": [
      "[[ 301.80512897  300.69529197  300.69530223]\n",
      " [ 300.9757273   300.37434009  300.64848906]\n",
      " [ 297.47593081  299.21058541  300.62505178]]\n"
     ]
    }
   ],
   "source": [
    "test_t = regridded_cubes[0]\n",
    "print(test_t.data)"
   ]
  },
  {
   "cell_type": "code",
   "execution_count": 196,
   "metadata": {},
   "outputs": [
    {
     "name": "stdout",
     "output_type": "stream",
     "text": [
      "[[ 300.88344903  300.66382534  300.70716069]\n",
      " [ 300.95641012  300.08969424  300.68359893]\n",
      " [ 297.48944652  299.26620242  300.67580714]]\n"
     ]
    }
   ],
   "source": [
    "test_t = regridded_cubes[0]\n",
    "print(test_t.data)"
   ]
  },
  {
   "cell_type": "code",
   "execution_count": 208,
   "metadata": {},
   "outputs": [
    {
     "name": "stdout",
     "output_type": "stream",
     "text": [
      "> <ipython-input-202-3c50a3db7ca9>(70)_regrid_iris_coastline_correction()\n",
      "-> combined_data = np.where(self.tgt_lsm_land_indx,\n",
      "(Pdb) cube_src_sea.data\n",
      "masked_array(data =\n",
      " [[-- -- 300.859375 300.4375 300.640625 300.8125]\n",
      " [-- -- -- 300.53125 300.578125 300.796875]\n",
      " [-- -- -- -- 300.640625 300.71875]\n",
      " [-- -- -- -- 300.71875 300.65625]\n",
      " [-- -- -- -- 300.71875 300.65625]\n",
      " [-- -- -- -- 300.59375 300.734375]],\n",
      "             mask =\n",
      " [[ True  True False False False False]\n",
      " [ True  True  True False False False]\n",
      " [ True  True  True  True False False]\n",
      " [ True  True  True  True False False]\n",
      " [ True  True  True  True False False]\n",
      " [ True  True  True  True False False]],\n",
      "       fill_value = 1e+20)\n",
      "\n",
      "(Pdb) cube_src_land.data\n",
      "masked_array(data =\n",
      " [[300.0625 299.1875 -- -- -- --]\n",
      " [300.734375 303.546875 300.828125 -- -- --]\n",
      " [302.0625 301.078125 300.703125 299.90625 -- --]\n",
      " [300.796875 299.890625 299.703125 300.046875 -- --]\n",
      " [297.078125 298.875 299.09375 300.078125 -- --]\n",
      " [296.125 297.875 298.5625 299.328125 -- --]],\n",
      "             mask =\n",
      " [[False False  True  True  True  True]\n",
      " [False False False  True  True  True]\n",
      " [False False False False  True  True]\n",
      " [False False False False  True  True]\n",
      " [False False False False  True  True]\n",
      " [False False False False  True  True]],\n",
      "       fill_value = 1e+20)\n",
      "\n",
      "(Pdb) cube_tgt_land = interpolate_cube_by_scipy(cube_src_land, self.src_topo, self.tgt_topo)\n",
      "(Pdb) c\n"
     ]
    }
   ],
   "source": [
    "regridded_cubes = regridder._regrid_iris_coastline_correction(input_cubes)"
   ]
  },
  {
   "cell_type": "markdown",
   "metadata": {},
   "source": [
    "### Validate from um aps3 inputs"
   ]
  },
  {
   "cell_type": "code",
   "execution_count": 283,
   "metadata": {
    "collapsed": true
   },
   "outputs": [],
   "source": [
    "um_files = [\"/data/hwang/mds_data/incoming/APS3/umglaa_20170205T12_slv_003\",\n",
    "            \"/data/hwang/mds_data/incoming/APS3/umglaa_20170205T12_cld_003\",\n",
    "            \"/data/hwang/mds_data/incoming/APS3/umglaa_20170205T12_spec_003\",]"
   ]
  },
  {
   "cell_type": "code",
   "execution_count": 284,
   "metadata": {
    "collapsed": true
   },
   "outputs": [],
   "source": [
    "cubes_aps = iris.load(um_files)"
   ]
  },
  {
   "cell_type": "code",
   "execution_count": 285,
   "metadata": {},
   "outputs": [
    {
     "name": "stdout",
     "output_type": "stream",
     "text": [
      "air_temperature / (K)               (latitude: 1536; longitude: 2048)\n",
      "     Dimension coordinates:\n",
      "          latitude                           x                -\n",
      "          longitude                          -                x\n",
      "     Scalar coordinates:\n",
      "          forecast_period: 1.0 hours\n",
      "          forecast_reference_time: 2017-02-05 12:00:00\n",
      "          height: 1.5 m\n",
      "          time: 2017-02-05 13:00:00\n",
      "     Attributes:\n",
      "          STASH: m01s03i236\n",
      "          source: Data from Met Office Unified Model\n",
      "          um_version: 10.6\n"
     ]
    }
   ],
   "source": [
    "test_t_um_aps3 = get_screen_param_from_cube_list(cubes_aps, 'air_temperature')\n",
    "print(test_t_um_aps3)"
   ]
  },
  {
   "cell_type": "code",
   "execution_count": 288,
   "metadata": {
    "collapsed": true,
    "scrolled": true
   },
   "outputs": [],
   "source": [
    "file_2 = \"/data/hwang/mds_data/incoming/qwxbjva_pa003_2016120100_utc_fc.um\"\n",
    "out_grids = iris.load(file_2)"
   ]
  },
  {
   "cell_type": "code",
   "execution_count": 289,
   "metadata": {
    "collapsed": true
   },
   "outputs": [],
   "source": [
    "topo_um_aps3 = get_topo_cube(cubes_aps)\n",
    "lsm_um_aps3= get_lsm_cube(cubes_aps)"
   ]
  },
  {
   "cell_type": "code",
   "execution_count": 290,
   "metadata": {},
   "outputs": [
    {
     "name": "stdout",
     "output_type": "stream",
     "text": [
      "surface_altitude / (m)              (latitude: 1536; longitude: 2048)\n",
      "     Dimension coordinates:\n",
      "          latitude                           x                -\n",
      "          longitude                          -                x\n",
      "     Scalar coordinates:\n",
      "          forecast_period: 1.0 hours\n",
      "          forecast_reference_time: 2017-02-05 12:00:00\n",
      "          time: 2017-02-05 13:00:00\n",
      "     Attributes:\n",
      "          STASH: m01s00i033\n",
      "          source: Data from Met Office Unified Model\n",
      "          um_version: 10.6\n",
      "land_binary_mask / (1)              (latitude: 1536; longitude: 2048)\n",
      "     Dimension coordinates:\n",
      "          latitude                           x                -\n",
      "          longitude                          -                x\n",
      "     Scalar coordinates:\n",
      "          forecast_period: 1.0 hours\n",
      "          forecast_reference_time: 2017-02-05 12:00:00\n",
      "          time: 2017-02-05 13:00:00\n",
      "     Attributes:\n",
      "          STASH: m01s00i030\n",
      "          source: Data from Met Office Unified Model\n",
      "          um_version: 10.6\n"
     ]
    }
   ],
   "source": [
    "print(topo_um_aps3)\n",
    "print(lsm_um_aps3)"
   ]
  },
  {
   "cell_type": "code",
   "execution_count": 291,
   "metadata": {
    "collapsed": true
   },
   "outputs": [],
   "source": [
    "topo_um_aps2 = get_topo_cube(out_grids)\n",
    "lsm_um_aps2= get_lsm_cube(out_grids)"
   ]
  },
  {
   "cell_type": "code",
   "execution_count": 292,
   "metadata": {},
   "outputs": [
    {
     "name": "stdout",
     "output_type": "stream",
     "text": [
      "surface_altitude / (m)              (latitude: 769; longitude: 1024)\n",
      "     Dimension coordinates:\n",
      "          latitude                           x               -\n",
      "          longitude                          -               x\n",
      "     Scalar coordinates:\n",
      "          forecast_period: 3.0 hours\n",
      "          forecast_reference_time: 2016-12-01 00:00:00\n",
      "          time: 2016-12-01 03:00:00\n",
      "     Attributes:\n",
      "          STASH: m01s00i033\n",
      "          source: Data from Met Office Unified Model\n",
      "          um_version: 8.2\n",
      "land_binary_mask / (1)              (latitude: 769; longitude: 1024)\n",
      "     Dimension coordinates:\n",
      "          latitude                           x               -\n",
      "          longitude                          -               x\n",
      "     Scalar coordinates:\n",
      "          forecast_period: 3.0 hours\n",
      "          forecast_reference_time: 2016-12-01 00:00:00\n",
      "          time: 2016-12-01 03:00:00\n",
      "     Attributes:\n",
      "          STASH: m01s00i030\n",
      "          source: Data from Met Office Unified Model\n",
      "          um_version: 8.2\n"
     ]
    }
   ],
   "source": [
    "print(topo_um_aps2)\n",
    "print(lsm_um_aps2)"
   ]
  },
  {
   "cell_type": "code",
   "execution_count": 319,
   "metadata": {
    "collapsed": true
   },
   "outputs": [],
   "source": [
    "mds_regridder = MdsRegridder(topo_um_aps3, topo_um_aps2, lsm_um_aps3, lsm_um_aps2)"
   ]
  },
  {
   "cell_type": "code",
   "execution_count": 320,
   "metadata": {},
   "outputs": [
    {
     "name": "stdout",
     "output_type": "stream",
     "text": [
      "0: air_temperature / (K)               (latitude: 769; longitude: 1024)\n"
     ]
    }
   ],
   "source": [
    "%timeit\n",
    "test_regridded_t = mds_regridder._regrid_iris_coastline_correction(test_t_um_aps3)\n",
    "print(test_regridded_t)"
   ]
  },
  {
   "cell_type": "code",
   "execution_count": 296,
   "metadata": {
    "collapsed": true
   },
   "outputs": [],
   "source": [
    "from mds_gfe_regrid.model_tools.mds_regrid import MdsRegridder"
   ]
  },
  {
   "cell_type": "code",
   "execution_count": 297,
   "metadata": {
    "collapsed": true
   },
   "outputs": [],
   "source": [
    "mds_regridder = MdsRegridder(topo_um_aps3, topo_um_aps2, lsm_um_aps3, lsm_um_aps2)"
   ]
  },
  {
   "cell_type": "code",
   "execution_count": 298,
   "metadata": {},
   "outputs": [
    {
     "name": "stderr",
     "output_type": "stream",
     "text": [
      "2017-10-02 05:13:51,117  INFO Regridder Processing air_temperature\n"
     ]
    },
    {
     "name": "stdout",
     "output_type": "stream",
     "text": [
      "0: air_temperature / (K)               (latitude: 769; longitude: 1024)\n"
     ]
    }
   ],
   "source": [
    "test_t_linear = mds_regridder._regrid(test_t_um_aps3)\n",
    "print(test_t_linear)"
   ]
  },
  {
   "cell_type": "code",
   "execution_count": 302,
   "metadata": {},
   "outputs": [
    {
     "data": {
      "text/plain": [
       "array([[        nan,         nan,         nan, ..., -0.30859375,\n",
       "        -0.2109375 , -0.30078125],\n",
       "       [-0.3203125 , -0.15625   , -0.30859375, ..., -0.640625  ,\n",
       "        -0.734375  , -0.5625    ],\n",
       "       [-0.71484375, -0.67578125, -0.80859375, ...,  0.6484375 ,\n",
       "         0.6953125 ,  0.6796875 ],\n",
       "       ..., \n",
       "       [ 0.1796875 ,  0.11328125, -0.140625  , ...,  0.6171875 ,\n",
       "         0.8515625 ,  0.92578125],\n",
       "       [ 0.1875    , -0.0625    , -0.0546875 , ...,  0.77734375,\n",
       "         0.78515625,  0.875     ],\n",
       "       [ 0.109375  ,  0.        ,  0.328125  , ..., -0.01953125,\n",
       "        -0.0234375 ,         nan]])"
      ]
     },
     "execution_count": 302,
     "metadata": {},
     "output_type": "execute_result"
    }
   ],
   "source": [
    "test_t_linear[0].data - test_regridded_t[0].data"
   ]
  },
  {
   "cell_type": "code",
   "execution_count": 304,
   "metadata": {},
   "outputs": [
    {
     "data": {
      "text/plain": [
       "array([[False, False, False, ..., False, False, False],\n",
       "       [False, False, False, ..., False, False, False],\n",
       "       [False, False, False, ..., False, False, False],\n",
       "       ..., \n",
       "       [False, False, False, ..., False, False, False],\n",
       "       [False, False, False, ..., False, False, False],\n",
       "       [False, False, False, ..., False, False, False]], dtype=bool)"
      ]
     },
     "execution_count": 304,
     "metadata": {},
     "output_type": "execute_result"
    }
   ],
   "source": [
    "np.isnan(test_t_linear[0].data)"
   ]
  },
  {
   "cell_type": "code",
   "execution_count": 305,
   "metadata": {},
   "outputs": [
    {
     "data": {
      "text/plain": [
       "array([[ True,  True,  True, ..., False, False, False],\n",
       "       [False, False, False, ..., False, False, False],\n",
       "       [False, False, False, ..., False, False, False],\n",
       "       ..., \n",
       "       [False, False, False, ..., False, False, False],\n",
       "       [False, False, False, ..., False, False, False],\n",
       "       [False, False, False, ..., False, False,  True]], dtype=bool)"
      ]
     },
     "execution_count": 305,
     "metadata": {},
     "output_type": "execute_result"
    }
   ],
   "source": [
    "np.isnan(test_regridded_t[0].data)"
   ]
  },
  {
   "cell_type": "code",
   "execution_count": 306,
   "metadata": {
    "collapsed": true
   },
   "outputs": [],
   "source": [
    "def plot_two_cubes_in_same_scale(origin_cube, derived_cube, label_origin='Origin_UM', label_derived='Regridded_Data'):\n",
    "    import matplotlib.pyplot as plt\n",
    "    import iris.quickplot as qplt\n",
    "    \n",
    "    fig = plt.figure(figsize=(18, 12))\n",
    "\n",
    "    fig.add_subplot(221)\n",
    "    cm = qplt.pcolormesh(origin_cube)    \n",
    "    plt.gca().coastlines()\n",
    "\n",
    "    fig.add_subplot(222)\n",
    "    qplt.pcolormesh(derived_cube, cmap=cm.cmap, norm=cm.norm)\n",
    "    plt.gca().coastlines()\n",
    "\n",
    "    print(\"             {}                                           {}\".format(label_origin, label_derived))\n",
    "\n",
    "    plt.show()"
   ]
  },
  {
   "cell_type": "code",
   "execution_count": 308,
   "metadata": {},
   "outputs": [
    {
     "name": "stderr",
     "output_type": "stream",
     "text": [
      "/data/hwang/conda/miniconda3/envs/pre-proc-py2/lib/python2.7/site-packages/cartopy/mpl/geoaxes.py:1539: RuntimeWarning: invalid value encountered in greater\n",
      "  to_mask = ((np.abs(dx_horizontal) > np.pi / 2) |\n"
     ]
    },
    {
     "name": "stdout",
     "output_type": "stream",
     "text": [
      "             Coastline Correction                                           Linear\n"
     ]
    },
    {
     "data": {
      "image/png": "[encoded data removed]",
      "text/plain": [
       "<matplotlib.figure.Figure at 0x7f84d6e68c90>"
      ]
     },
     "metadata": {},
     "output_type": "display_data"
    },
    {
     "name": "stderr",
     "output_type": "stream",
     "text": [
      "/data/hwang/conda/miniconda3/envs/pre-proc-py2/lib/python2.7/site-packages/matplotlib/colors.py:581: RuntimeWarning: invalid value encountered in less\n",
      "  cbook._putmask(xa, xa < 0.0, -1)\n"
     ]
    },
    {
     "data": {
      "image/png": "[encoded data removed]",
      "text/plain": [
       "<matplotlib.figure.Figure at 0x7f84c8ea8410>"
      ]
     },
     "metadata": {},
     "output_type": "display_data"
    }
   ],
   "source": [
    "plot_two_cubes_in_same_scale(test_regridded_t[0], test_t_linear[0], \n",
    "                             label_origin='Coastline Correction', label_derived='Linear')"
   ]
  },
  {
   "cell_type": "code",
   "execution_count": 321,
   "metadata": {},
   "outputs": [
    {
     "name": "stdout",
     "output_type": "stream",
     "text": [
      "             Linear                                           Coastline Correction\n"
     ]
    },
    {
     "data": {
      "image/png": "[encoded data removed]",
      "text/plain": [
       "<matplotlib.figure.Figure at 0x7f84d8603910>"
      ]
     },
     "metadata": {},
     "output_type": "display_data"
    }
   ],
   "source": [
    "plot_two_cubes_in_same_scale(test_t_linear[0], test_regridded_t[0], \n",
    "                             label_origin='Linear', \n",
    "                             label_derived='Coastline Correction')"
   ]
  },
  {
   "cell_type": "code",
   "execution_count": null,
   "metadata": {
    "collapsed": true
   },
   "outputs": [],
   "source": []
  }
 ],
 "metadata": {
  "kernelspec": {
   "display_name": "Python 2",
   "language": "python",
   "name": "python2"
  },
  "language_info": {
   "codemirror_mode": {
    "name": "ipython",
    "version": 2
   },
   "file_extension": ".py",
   "mimetype": "text/x-python",
   "name": "python",
   "nbconvert_exporter": "python",
   "pygments_lexer": "ipython2",
   "version": "2.7.13"
  }
 },
 "nbformat": 4,
 "nbformat_minor": 2
}
