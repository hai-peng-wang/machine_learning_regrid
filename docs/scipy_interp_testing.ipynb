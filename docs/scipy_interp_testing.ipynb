{
 "cells": [
  {
   "cell_type": "code",
   "execution_count": 1,
   "metadata": {
    "collapsed": true
   },
   "outputs": [],
   "source": [
    "import scipy.interpolate as spint\n",
    "import scipy.spatial.qhull as qhull\n",
    "import numpy as np\n",
    "\n",
    "def interp_weights(xy, uv, d=2):\n",
    "    tri = qhull.Delaunay(xy)\n",
    "    simplex = tri.find_simplex(uv)\n",
    "    vertices = np.take(tri.simplices, simplex, axis=0)\n",
    "    temp = np.take(tri.transform, simplex, axis=0)\n",
    "    delta = uv - temp[:, d]\n",
    "    bary = np.einsum('njk,nk->nj', temp[:, :d, :], delta)\n",
    "    return vertices, np.hstack((bary, 1 - bary.sum(axis=1, keepdims=True)))\n",
    "\n",
    "def interpolate(values, vtx, wts):\n",
    "    return np.einsum('nj,nj->n', np.take(values, vtx), wts)\n",
    "    \n",
    "def produce_land_sea_bool(lsm_cube):\n",
    "    \"\"\"    Return the land_bool and sea_bool from a given lsm_cube.\n",
    "    Note: this method is not for mask; but for true value to be reserved\n",
    "    \"\"\"\n",
    "    # Need to be true for the sea points\n",
    "    sea_bool = (lsm_cube.data == 0)\n",
    "    # The land points\n",
    "    land_bool = (lsm_cube.data != 0)\n",
    "    return land_bool, sea_bool"
   ]
  },
  {
   "cell_type": "code",
   "execution_count": 10,
   "metadata": {
    "collapsed": true
   },
   "outputs": [],
   "source": [
    "import numpy as np\n",
    "\n",
    "# The sample data is taken from a place includes both water and sea\n",
    "# (coastline at somewhere in Sri Lanka)\n",
    "# For APS2, the index points lsm_aps2.data[411:415, 231:234], shape=(4, 3)\n",
    "lsm_tgt_data = np.array(\n",
    "    [[1, 0, 0],\n",
    "     [1, 1, 0],\n",
    "     [1, 1, 0],\n",
    "     [1, 1, 0]])"
   ]
  },
  {
   "cell_type": "code",
   "execution_count": 9,
   "metadata": {
    "collapsed": false
   },
   "outputs": [],
   "source": [
    "# For APS3, the index points lsm_aps3.data[821:829, 461:467], shape=(8, 6)\n",
    "lsm_src_data = np.array(\n",
    "      [[1, 1, 0, 0, 0, 0],\n",
    "       [1, 1, 1, 0, 0, 0],\n",
    "       [1, 1, 1, 1, 0, 0],\n",
    "       [1, 1, 1, 1, 0, 0],\n",
    "       [1, 1, 1, 1, 0, 0],\n",
    "       [1, 1, 1, 1, 0, 0],\n",
    "       [1, 1, 1, 1, 1, 0],\n",
    "       [1, 1, 1, 1, 1, 0]])"
   ]
  },
  {
   "cell_type": "code",
   "execution_count": 8,
   "metadata": {
    "collapsed": true
   },
   "outputs": [],
   "source": [
    "cube_data = np.array(\n",
    "     [[300.0625, 299.1875, 300.859375, 300.4375, 300.640625, 300.8125],\n",
    "      [300.734375, 303.546875, 300.828125, 300.53125, 300.578125, 300.796875],\n",
    "      [302.0625, 301.078125, 300.703125, 299.90625, 300.640625, 300.71875],\n",
    "      [300.796875, 299.890625, 299.703125, 300.046875, 300.71875, 300.65625],\n",
    "      [297.078125, 298.875, 299.09375, 300.078125, 300.71875, 300.65625],\n",
    "      [296.125, 297.875, 298.5625, 299.328125, 300.59375, 300.734375],\n",
    "      [294.953125, 296.90625, 298.125, 298.828125, 298.671875, 300.765625],\n",
    "      [296.578125, 297.375, 297.171875, 298.34375, 297.65625, 300.75]])"
   ]
  },
  {
   "cell_type": "code",
   "execution_count": 6,
   "metadata": {
    "collapsed": true
   },
   "outputs": [],
   "source": [
    "lat_tgt = np.array([6.328125, 6.5625, 6.796875, 7.03125])\n",
    "lon_tgt = np.array([81.211053, 81.562616, 81.914179])"
   ]
  },
  {
   "cell_type": "code",
   "execution_count": 7,
   "metadata": {
    "collapsed": true
   },
   "outputs": [],
   "source": [
    "lat_src = np.array([6.26953125, 6.38671875, 6.50390625, 6.62109375,\n",
    "                         6.73828125, 6.85546875, 6.97265625, 7.08984375])\n",
    "lon_src = np.array([81.12304688, 81.29882812, 81.47460938,\n",
    "                          81.65039062, 81.82617188, 82.00195312])"
   ]
  },
  {
   "cell_type": "code",
   "execution_count": 11,
   "metadata": {
    "collapsed": true
   },
   "outputs": [],
   "source": [
    "cube_src_sea_data = np.where((lsm_src_data==0), cube_data, np.nan)\n",
    "cube_src_land_data = np.where((lsm_src_data!=0), cube_data, np.nan)"
   ]
  },
  {
   "cell_type": "code",
   "execution_count": 12,
   "metadata": {
    "collapsed": false
   },
   "outputs": [
    {
     "name": "stdout",
     "output_type": "stream",
     "text": [
      "[[ 300.0625    299.1875           nan         nan         nan         nan]\n",
      " [ 300.734375  303.546875  300.828125         nan         nan         nan]\n",
      " [ 302.0625    301.078125  300.703125  299.90625          nan         nan]\n",
      " [ 300.796875  299.890625  299.703125  300.046875         nan         nan]\n",
      " [ 297.078125  298.875     299.09375   300.078125         nan         nan]\n",
      " [ 296.125     297.875     298.5625    299.328125         nan         nan]\n",
      " [ 294.953125  296.90625   298.125     298.828125  298.671875         nan]\n",
      " [ 296.578125  297.375     297.171875  298.34375   297.65625          nan]]\n"
     ]
    }
   ],
   "source": [
    "print(cube_src_land_data)"
   ]
  },
  {
   "cell_type": "code",
   "execution_count": 13,
   "metadata": {
    "collapsed": false
   },
   "outputs": [
    {
     "name": "stdout",
     "output_type": "stream",
     "text": [
      "[[        nan         nan  300.859375  300.4375    300.640625  300.8125  ]\n",
      " [        nan         nan         nan  300.53125   300.578125  300.796875]\n",
      " [        nan         nan         nan         nan  300.640625  300.71875 ]\n",
      " [        nan         nan         nan         nan  300.71875   300.65625 ]\n",
      " [        nan         nan         nan         nan  300.71875   300.65625 ]\n",
      " [        nan         nan         nan         nan  300.59375   300.734375]\n",
      " [        nan         nan         nan         nan         nan  300.765625]\n",
      " [        nan         nan         nan         nan         nan  300.75    ]]\n"
     ]
    }
   ],
   "source": [
    "print(cube_src_sea_data)"
   ]
  },
  {
   "cell_type": "code",
   "execution_count": 14,
   "metadata": {
    "collapsed": true
   },
   "outputs": [],
   "source": [
    "xv, yv = np.meshgrid(lon_tgt, lat_tgt)\n",
    "grid_tgt = np.dstack((yv, xv))"
   ]
  },
  {
   "cell_type": "code",
   "execution_count": 15,
   "metadata": {
    "collapsed": false
   },
   "outputs": [
    {
     "name": "stdout",
     "output_type": "stream",
     "text": [
      "[[[  6.328125  81.211053]\n",
      "  [  6.328125  81.562616]\n",
      "  [  6.328125  81.914179]]\n",
      "\n",
      " [[  6.5625    81.211053]\n",
      "  [  6.5625    81.562616]\n",
      "  [  6.5625    81.914179]]\n",
      "\n",
      " [[  6.796875  81.211053]\n",
      "  [  6.796875  81.562616]\n",
      "  [  6.796875  81.914179]]\n",
      "\n",
      " [[  7.03125   81.211053]\n",
      "  [  7.03125   81.562616]\n",
      "  [  7.03125   81.914179]]]\n"
     ]
    }
   ],
   "source": [
    "print(grid_tgt)"
   ]
  },
  {
   "cell_type": "code",
   "execution_count": 16,
   "metadata": {
    "collapsed": true
   },
   "outputs": [],
   "source": [
    "xv, yv = np.meshgrid(lon_src, lat_src)\n",
    "grid_src = np.dstack((yv, xv))"
   ]
  },
  {
   "cell_type": "code",
   "execution_count": 21,
   "metadata": {
    "collapsed": true
   },
   "outputs": [],
   "source": [
    "bool_land_src = (lsm_src_data!=0)\n",
    "bool_sea_src = (lsm_src_data==0)"
   ]
  },
  {
   "cell_type": "code",
   "execution_count": 22,
   "metadata": {
    "collapsed": false
   },
   "outputs": [
    {
     "name": "stdout",
     "output_type": "stream",
     "text": [
      "[[False False  True  True  True  True]\n",
      " [False False False  True  True  True]\n",
      " [False False False False  True  True]\n",
      " [False False False False  True  True]\n",
      " [False False False False  True  True]\n",
      " [False False False False  True  True]\n",
      " [False False False False False  True]\n",
      " [False False False False False  True]]\n"
     ]
    }
   ],
   "source": [
    "print(bool_sea_src)"
   ]
  },
  {
   "cell_type": "code",
   "execution_count": 23,
   "metadata": {
    "collapsed": true
   },
   "outputs": [],
   "source": [
    "bool_land_tgt = (lsm_tgt_data!=0)\n",
    "bool_sea_tgt = (lsm_tgt_data==0)"
   ]
  },
  {
   "cell_type": "code",
   "execution_count": 24,
   "metadata": {
    "collapsed": false
   },
   "outputs": [
    {
     "name": "stdout",
     "output_type": "stream",
     "text": [
      "[[False  True  True]\n",
      " [False False  True]\n",
      " [False False  True]\n",
      " [False False  True]]\n"
     ]
    }
   ],
   "source": [
    "print(bool_sea_tgt)"
   ]
  },
  {
   "cell_type": "code",
   "execution_count": 25,
   "metadata": {
    "collapsed": true
   },
   "outputs": [],
   "source": [
    "# xy is the source grid\n",
    "xy = grid_src[bool_sea_src]\n",
    "# uv is the target grid\n",
    "uv = grid_tgt[bool_sea_tgt]"
   ]
  },
  {
   "cell_type": "code",
   "execution_count": 26,
   "metadata": {
    "collapsed": false
   },
   "outputs": [
    {
     "data": {
      "text/plain": [
       "(17, 2)"
      ]
     },
     "execution_count": 26,
     "metadata": {},
     "output_type": "execute_result"
    }
   ],
   "source": [
    "xy.shape"
   ]
  },
  {
   "cell_type": "code",
   "execution_count": 27,
   "metadata": {
    "collapsed": false
   },
   "outputs": [
    {
     "data": {
      "text/plain": [
       "(5, 2)"
      ]
     },
     "execution_count": 27,
     "metadata": {},
     "output_type": "execute_result"
    }
   ],
   "source": [
    "uv.shape"
   ]
  },
  {
   "cell_type": "code",
   "execution_count": 28,
   "metadata": {
    "collapsed": false
   },
   "outputs": [],
   "source": [
    "vtx, wts = interp_weights(xy, uv)"
   ]
  },
  {
   "cell_type": "code",
   "execution_count": 29,
   "metadata": {
    "collapsed": true
   },
   "outputs": [],
   "source": [
    "# 'values' is the coastline points to be interpolate\n",
    "values = cube_src_sea_data"
   ]
  },
  {
   "cell_type": "code",
   "execution_count": 30,
   "metadata": {
    "collapsed": true
   },
   "outputs": [],
   "source": [
    "out_value_sea = interpolate(values, vtx, wts)"
   ]
  },
  {
   "cell_type": "code",
   "execution_count": 31,
   "metadata": {
    "collapsed": false
   },
   "outputs": [
    {
     "name": "stdout",
     "output_type": "stream",
     "text": [
      "[ nan  nan  nan  nan  nan]\n"
     ]
    }
   ],
   "source": [
    "print(out_value_sea)"
   ]
  },
  {
   "cell_type": "code",
   "execution_count": 32,
   "metadata": {
    "collapsed": true
   },
   "outputs": [],
   "source": [
    "# xy is the source grid\n",
    "xy = grid_src[bool_land_src]\n",
    "# uv is the target grid\n",
    "uv = grid_tgt[bool_land_tgt]\n",
    "\n",
    "vtx, wts = interp_weights(xy, uv)\n",
    "\n",
    "values = cube_src_land_data\n",
    "\n",
    "out_value_land = interpolate(values, vtx, wts)"
   ]
  },
  {
   "cell_type": "code",
   "execution_count": 33,
   "metadata": {
    "collapsed": false
   },
   "outputs": [
    {
     "name": "stdout",
     "output_type": "stream",
     "text": [
      "[          nan           nan  302.80289337           nan           nan\n",
      "           nan           nan]\n"
     ]
    }
   ],
   "source": [
    "print(out_value_land)"
   ]
  },
  {
   "cell_type": "code",
   "execution_count": 34,
   "metadata": {
    "collapsed": true
   },
   "outputs": [],
   "source": [
    "def _closest_points_index(point, grid):\n",
    "    \"\"\"\n",
    "    Produce the bool index for node (lat, lon) on source grid nodes\n",
    "    :param point: a target grid point [lat, lon] not on the source grid\n",
    "    :param grid: an input source grid\n",
    "    :return: the bool value (index) on those nearest points to the point\n",
    "    \"\"\"\n",
    "    deltas = np.abs(grid - point)\n",
    "    # the grid has shape (i, j, k) i.e. (8, 6, 2) for sample testing area\n",
    "    dist_2 = np.einsum('ijk,ijk->ij', deltas, deltas)\n",
    "    # Index be true if the distance is minimum\n",
    "    index_bool = (dist_2 == np.min(dist_2))\n",
    "    return index_bool"
   ]
  },
  {
   "cell_type": "code",
   "execution_count": 35,
   "metadata": {
    "collapsed": true
   },
   "outputs": [],
   "source": [
    "pnt_tgt_sea = grid_tgt[bool_sea_tgt]"
   ]
  },
  {
   "cell_type": "code",
   "execution_count": 36,
   "metadata": {
    "collapsed": false
   },
   "outputs": [
    {
     "name": "stdout",
     "output_type": "stream",
     "text": [
      "[[  6.328125  81.562616]\n",
      " [  6.328125  81.914179]\n",
      " [  6.5625    81.914179]\n",
      " [  6.796875  81.914179]\n",
      " [  7.03125   81.914179]]\n"
     ]
    }
   ],
   "source": [
    "print(pnt_tgt_sea)"
   ]
  },
  {
   "cell_type": "code",
   "execution_count": 37,
   "metadata": {
    "collapsed": false
   },
   "outputs": [
    {
     "name": "stdout",
     "output_type": "stream",
     "text": [
      "[[  6.26953125  81.47460938]\n",
      " [  6.26953125  81.65039062]\n",
      " [  6.26953125  81.82617188]\n",
      " [  6.26953125  82.00195312]\n",
      " [  6.38671875  81.65039062]\n",
      " [  6.38671875  81.82617188]\n",
      " [  6.38671875  82.00195312]\n",
      " [  6.50390625  81.82617188]\n",
      " [  6.50390625  82.00195312]\n",
      " [  6.62109375  81.82617188]\n",
      " [  6.62109375  82.00195312]\n",
      " [  6.73828125  81.82617188]\n",
      " [  6.73828125  82.00195312]\n",
      " [  6.85546875  81.82617188]\n",
      " [  6.85546875  82.00195312]\n",
      " [  6.97265625  82.00195312]\n",
      " [  7.08984375  82.00195312]]\n"
     ]
    }
   ],
   "source": [
    "pnt_src_sea = grid_src[bool_sea_src]\n",
    "print(pnt_src_sea)"
   ]
  },
  {
   "cell_type": "code",
   "execution_count": 39,
   "metadata": {
    "collapsed": false
   },
   "outputs": [
    {
     "ename": "ValueError",
     "evalue": "operands could not be broadcast together with shapes (17,2) (5,2) ",
     "output_type": "error",
     "traceback": [
      "\u001b[0;31m---------------------------------------------------------------------------\u001b[0m",
      "\u001b[0;31mValueError\u001b[0m                                Traceback (most recent call last)",
      "\u001b[0;32m<ipython-input-39-59976c28f85c>\u001b[0m in \u001b[0;36m<module>\u001b[0;34m()\u001b[0m\n\u001b[0;32m----> 1\u001b[0;31m \u001b[0mindex_bool_sea_tgt\u001b[0m \u001b[0;34m=\u001b[0m \u001b[0m_closest_points_index\u001b[0m\u001b[0;34m(\u001b[0m\u001b[0mpnt_tgt_sea\u001b[0m\u001b[0;34m,\u001b[0m \u001b[0mpnt_src_sea\u001b[0m\u001b[0;34m)\u001b[0m\u001b[0;34m\u001b[0m\u001b[0m\n\u001b[0m",
      "\u001b[0;32m<ipython-input-34-5ea642cc8c7f>\u001b[0m in \u001b[0;36m_closest_points_index\u001b[0;34m(point, grid)\u001b[0m\n\u001b[1;32m      6\u001b[0m     \u001b[0;34m:\u001b[0m\u001b[0;32mreturn\u001b[0m\u001b[0;34m:\u001b[0m \u001b[0mthe\u001b[0m \u001b[0mbool\u001b[0m \u001b[0mvalue\u001b[0m \u001b[0;34m(\u001b[0m\u001b[0mindex\u001b[0m\u001b[0;34m)\u001b[0m \u001b[0mon\u001b[0m \u001b[0mthose\u001b[0m \u001b[0mnearest\u001b[0m \u001b[0mpoints\u001b[0m \u001b[0mto\u001b[0m \u001b[0mthe\u001b[0m \u001b[0mpoint\u001b[0m\u001b[0;34m\u001b[0m\u001b[0m\n\u001b[1;32m      7\u001b[0m     \"\"\"\n\u001b[0;32m----> 8\u001b[0;31m     \u001b[0mdeltas\u001b[0m \u001b[0;34m=\u001b[0m \u001b[0mnp\u001b[0m\u001b[0;34m.\u001b[0m\u001b[0mabs\u001b[0m\u001b[0;34m(\u001b[0m\u001b[0mgrid\u001b[0m \u001b[0;34m-\u001b[0m \u001b[0mpoint\u001b[0m\u001b[0;34m)\u001b[0m\u001b[0;34m\u001b[0m\u001b[0m\n\u001b[0m\u001b[1;32m      9\u001b[0m     \u001b[0;31m# the grid has shape (i, j, k) i.e. (8, 6, 2) for sample testing area\u001b[0m\u001b[0;34m\u001b[0m\u001b[0;34m\u001b[0m\u001b[0m\n\u001b[1;32m     10\u001b[0m     \u001b[0mdist_2\u001b[0m \u001b[0;34m=\u001b[0m \u001b[0mnp\u001b[0m\u001b[0;34m.\u001b[0m\u001b[0meinsum\u001b[0m\u001b[0;34m(\u001b[0m\u001b[0;34m'ijk,ijk->ij'\u001b[0m\u001b[0;34m,\u001b[0m \u001b[0mdeltas\u001b[0m\u001b[0;34m,\u001b[0m \u001b[0mdeltas\u001b[0m\u001b[0;34m)\u001b[0m\u001b[0;34m\u001b[0m\u001b[0m\n",
      "\u001b[0;31mValueError\u001b[0m: operands could not be broadcast together with shapes (17,2) (5,2) "
     ]
    }
   ],
   "source": [
    "index_bool_sea_tgt = _closest_points_index(pnt_tgt_sea, pnt_src_sea)"
   ]
  },
  {
   "cell_type": "markdown",
   "metadata": {},
   "source": [
    "# Some ideas:"
   ]
  },
  {
   "cell_type": "code",
   "execution_count": null,
   "metadata": {
    "collapsed": true
   },
   "outputs": [],
   "source": [
    "# Calculate the weight_index for land/sea coastline pnt\n",
    "weight_index = interpolator.compute_interp_weights(tgrid)"
   ]
  },
  {
   "cell_type": "code",
   "execution_count": null,
   "metadata": {
    "collapsed": true
   },
   "outputs": [],
   "source": []
  }
 ],
 "metadata": {
  "anaconda-cloud": {},
  "kernelspec": {
   "display_name": "Python [conda root]",
   "language": "python",
   "name": "conda-root-py"
  },
  "language_info": {
   "codemirror_mode": {
    "name": "ipython",
    "version": 2
   },
   "file_extension": ".py",
   "mimetype": "text/x-python",
   "name": "python",
   "nbconvert_exporter": "python",
   "pygments_lexer": "ipython2",
   "version": "2.7.12"
  }
 },
 "nbformat": 4,
 "nbformat_minor": 1
}
