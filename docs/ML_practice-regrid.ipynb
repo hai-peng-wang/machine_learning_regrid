{
 "cells": [
  {
   "cell_type": "code",
   "execution_count": 2,
   "metadata": {
    "collapsed": true
   },
   "outputs": [],
   "source": [
    "import iris\n",
    "import numpy as np"
   ]
  },
  {
   "cell_type": "code",
   "execution_count": 3,
   "metadata": {},
   "outputs": [],
   "source": [
    "lsm_aps2_data = np.array(\n",
    "        [[1., 0., 0.],\n",
    "         [1., 1., 0.],\n",
    "         [1., 1., 0.]])\n",
    "\n",
    "surface_alt_aps2_data = np.array(\n",
    "        [[40., 0., 0.],\n",
    "         [272.5, 49.5, 0.],\n",
    "         [569., 139.375, 0.]])\n",
    "\n",
    "# For APS3, the index points lsm_aps3.data[821:827, 461:467], shape=(6, 6)\n",
    "lsm_aps3_data = np.array(\n",
    "      [[1, 1, 0, 0, 0, 0],\n",
    "       [1, 1, 1, 0, 0, 0],\n",
    "       [1, 1, 1, 1, 0, 0],\n",
    "       [1, 1, 1, 1, 0, 0],\n",
    "       [1, 1, 1, 1, 0, 0],\n",
    "       [1, 1, 1, 1, 0, 0]])\n",
    "\n",
    "surface_alt_aps3_data = np.array(\n",
    "        [[30.79901695, 24.64077759, 0., 0., 0., 0.],\n",
    "         [40.51713181, 57.62937927, 44.1620636, 0., 0., 0.],\n",
    "         [61.04179001, 77.5438385, 68.0868454, 27.50967216, 0., 0.],\n",
    "         [197.31484985, 109.88461304, 81.08721161, 47.29803085, 0., 0.],\n",
    "         [500.52633667, 204.61886597, 96.57264709, 57.00541687, 0., 0.],\n",
    "         [801.8571167, 337.81097412, 131.99372864, 66.28527832, 0., 0.]])\n"
   ]
  },
  {
   "cell_type": "code",
   "execution_count": 4,
   "metadata": {
    "collapsed": true
   },
   "outputs": [],
   "source": [
    "t_scn_aps3_data = np.array(\n",
    "     [[300.0625, 299.1875, 300.859375, 300.4375, 300.640625, 300.8125],\n",
    "      [300.734375, 303.546875, 300.828125, 300.53125, 300.578125, 300.796875],\n",
    "      [302.0625, 301.078125, 300.703125, 299.90625, 300.640625, 300.71875],\n",
    "      [300.796875, 299.890625, 299.703125, 300.046875, 300.71875, 300.65625],\n",
    "      [297.078125, 298.875, 299.09375, 300.078125, 300.71875, 300.65625],\n",
    "      [296.125, 297.875, 298.5625, 299.328125, 300.59375, 300.734375]])\n",
    "\n",
    "sfc_prs_aps3_data = np.array(\n",
    "      [[1212528., 1212361., 1212363., 1212647., 1212919., 1213073.],\n",
    "       [1212195., 1211922., 1212181., 1212605., 1212950., 1213131.],\n",
    "       [1212043., 1212038., 1212174., 1212588., 1212954., 1213181.],\n",
    "       [1212325., 1212124., 1212306., 1212599., 1212949., 1213226.],\n",
    "       [1212454., 1212399., 1212434., 1212652., 1213012., 1213305.],\n",
    "       [1212653., 1212496., 1212555., 1212774., 1213106., 1213395.]])"
   ]
  },
  {
   "cell_type": "code",
   "execution_count": 5,
   "metadata": {
    "collapsed": true
   },
   "outputs": [],
   "source": [
    "dpt_scn_aps3_data = np.array(\n",
    "    [[293.515625, 294.03125, 294.5625, 294.53125, 294.171875, 294.],\n",
    "     [293.1875, 290.59375, 292.15625, 294.078125, 294.09375, 293.6875],\n",
    "     [292.59375, 291.71875, 291.390625, 291.890625, 293.828125, 293.640625],\n",
    "     [291.25, 291.8125, 291.296875, 291.328125, 293.65625, 293.515625],\n",
    "     [292.03125, 291.734375, 291.515625, 291.015625, 293.296875, 293.359375],\n",
    "     [292.328125, 291.4375, 291.875, 291.3125, 292.90625, 293.171875]])\n",
    "\n",
    "q_scn_aps3_data = np.array(\n",
    "    [[0.17651367, 0.18505859, 0.19091797, 0.19042969, 0.18603516, 0.18383789],\n",
    "     [0.17163086, 0.14355469, 0.16357422, 0.18652344, 0.18603516, 0.18212891],\n",
    "     [0.15844727, 0.15576172, 0.15771484, 0.16333008, 0.18286133, 0.1809082],\n",
    "     [0.15234375, 0.16137695, 0.15820312, 0.15844727, 0.1796875, 0.17797852],\n",
    "     [0.16918945, 0.16381836, 0.16088867, 0.1550293, 0.17578125, 0.17529297],\n",
    "     [0.17333984, 0.16357422, 0.1652832, 0.15771484, 0.17089844, 0.17431641]])"
   ]
  },
  {
   "cell_type": "code",
   "execution_count": 6,
   "metadata": {
    "collapsed": true
   },
   "outputs": [],
   "source": [
    "def empty_3d_cube_aps2(data, name=None, unit=None, stash=None, **kwargs):\n",
    "    \"\"\"\n",
    "    Prepare some iris cubes at APS2 grids for testing\n",
    "    \"\"\"\n",
    "    if data is None:\n",
    "        data = np.empty([2, 2])\n",
    "\n",
    "    cube = Cube(data)\n",
    "\n",
    "    time = AuxCoord([0], 'time', units='hours since epoch')\n",
    "\n",
    "    latitude = DimCoord([6.328125, 6.5625, 6.796875],\n",
    "                        standard_name='latitude', units='degrees')\n",
    "\n",
    "    longitude = DimCoord([81.211053, 81.562616, 81.914179],\n",
    "                         standard_name='longitude', units='degrees')\n",
    "\n",
    "    cube.add_dim_coord(latitude, 0)\n",
    "    cube.add_dim_coord(longitude, 1)\n",
    "    cube.add_aux_coord(time)\n",
    "\n",
    "    if name:\n",
    "        cube.long_name = name\n",
    "    if unit:\n",
    "        cube.units = unit\n",
    "    if stash:\n",
    "        cube.attributes['STASH'] = stash\n",
    "\n",
    "    return cube\n"
   ]
  },
  {
   "cell_type": "code",
   "execution_count": 7,
   "metadata": {
    "collapsed": true
   },
   "outputs": [],
   "source": [
    "def empty_3d_cube_aps3(data, name=None, unit=None, stash=None, **kwargs):\n",
    "    \"\"\"\n",
    "    Prepare some iris cubes at APS3 grids for testing\n",
    "    \"\"\"\n",
    "    if data is None:\n",
    "        data = np.empty([6, 6])\n",
    "\n",
    "    cube = Cube(data)\n",
    "\n",
    "    time = AuxCoord([0], 'time', units='hours since epoch')\n",
    "\n",
    "    latitude = DimCoord([6.26953125, 6.38671875, 6.50390625,\n",
    "                         6.62109375, 6.73828125, 6.85546875],\n",
    "                       \tstandard_name='latitude', units='degrees')\n",
    "\n",
    "    longitude = DimCoord([81.12304688, 81.29882812, 81.47460938,\n",
    "                          81.65039062, 81.82617188, 82.00195312],\n",
    "                         standard_name='longitude', units='degrees')\n",
    "    cube.add_dim_coord(latitude, 0)\n",
    "    cube.add_dim_coord(longitude, 1)\n",
    "    cube.add_aux_coord(time)\n",
    "\n",
    "    if name:\n",
    "        cube.long_name = name\n",
    "    if unit:\n",
    "        cube.units = unit\n",
    "    if stash:\n",
    "        cube.attributes['STASH'] = stash\n",
    "\n",
    "    return cube\n",
    "    "
   ]
  },
  {
   "cell_type": "code",
   "execution_count": 50,
   "metadata": {
    "collapsed": true
   },
   "outputs": [],
   "source": [
    "def interp_by_scipy(src_data, src_grids=src_grids, tgt_grids=tgt_grids, method='linear'):\n",
    "    \"\"\"\n",
    "    Use Scipy to interpolate input source data to target grid.\n",
    "    ------\n",
    "    Input:\n",
    "        src_data: the metadata on src_grids\n",
    "        src_grids: a source grid tuple (1d_x_array, 1d_y_array)\n",
    "        tgt_grids: a target grid tuple (1d_x_array, 1d_y_array)\n",
    "        method: the interpolate method used by scipy RegularGridInterpolator\n",
    "                only available \"linear\" & \"nearest\"\n",
    "    \"\"\"\n",
    "    from itertools import product\n",
    "    from scipy.interpolate import RegularGridInterpolator\n",
    "    # Define the interpolator\n",
    "    scipy_interp = RegularGridInterpolator(\n",
    "            src_grids, src_data, method=method)\n",
    "    # Derive\n",
    "    drv_scipy_data = scipy_interp(\n",
    "            list(product(tgt_grids[0], tgt_grids[1])))\n",
    "    drv_scipy_data = drv_scipy_data.reshape(\n",
    "            len(tgt_grids[0]), len(tgt_grids[1]))\n",
    "    return drv_scipy_data\n"
   ]
  },
  {
   "cell_type": "code",
   "execution_count": 8,
   "metadata": {
    "collapsed": true
   },
   "outputs": [],
   "source": [
    "def two_stage_interp(cube_src, topo_tgt, lsm_src, lsm_tgt, method='linear'):\n",
    "    \"\"\"\n",
    "    Do two stages interpolation (land & sea) seperately and then\n",
    "    integrate the results together by using Scipy Interpolate.\n",
    "    ------\n",
    "    Input:\n",
    "\tcube_src: the phenomenon cube with the source grid;\n",
    "        topo_tgt: the topography cube with the target grid;\n",
    "        lsm_src: land sea mask for the source grid;\n",
    "        lsm_tgt: land sea mask for the target grid;\n",
    "        method: the interpolate method used by scipy RegularGridInterpolator\n",
    "                only available \"linear\" & \"nearest\"\n",
    "    Output:\n",
    "\tdrv_cube: the regridded cube on the target grid\n",
    "                  with integrated data of both land and sea.\n",
    "    \"\"\"\n",
    "    # Get the land and sea index for both grids\n",
    "    land_indx_src, sea_indx_src = get_land_sea_index(lsm_src)\n",
    "    land_indx_tgt, sea_indx_tgt = get_land_sea_index(lsm_tgt)\n",
    "\n",
    "    # Mask the src sea points for land cube\n",
    "    cube_land_src = transform_cube_by_masked_index(cube_src, sea_indx_src)\n",
    "    # Mask the src land points\n",
    "    cube_sea_src = transform_cube_by_masked_index(cube_src, land_indx_src)\n",
    "    # Mask the tgt sea points\n",
    "    topo_land_tgt = transform_cube_by_masked_index(topo_tgt, sea_indx_tgt)\n",
    "    # Mask the tgt land points\n",
    "    topo_sea_tgt = transform_cube_by_masked_index(topo_tgt, land_indx_tgt)\n",
    "\n",
    "    # Get the grids for both source and target\n",
    "    land_grids_src = get_cube_grid_points(cube_land_src)\n",
    "    sea_grids_src = get_cube_grid_points(cube_sea_src)\n",
    "    land_grids_tgt = get_cube_grid_points(topo_land_tgt)\n",
    "    sea_grids_tgt = get_cube_grid_points(topo_sea_tgt)\n",
    "\n",
    "    # Derive the cube_aps2 from aps3\n",
    "    drv_cube_land_data = interp_by_scipy(\n",
    "        cube_land_src.data, land_grids_src, land_grids_tgt, method=method)\n",
    "\n",
    "    drv_cube_sea_data = interp_by_scipy(\n",
    "        cube_sea_src.data, sea_grids_src, sea_grids_tgt, method=method)\n",
    "\n",
    "    # Combine the land & sea data together\n",
    "    drv_cube_tgt = create_derive_cube(cube_src, topo_tgt)\n",
    "    # Update with land data\n",
    "    combined_data = np.where(land_indx_tgt,\n",
    "                             drv_cube_land_data, drv_cube_tgt.data)\n",
    "    # Update with sea data\n",
    "    combined_data = np.where(sea_indx_tgt,\n",
    "                             drv_cube_sea_data, combined_data)\n",
    "    # update the cube with integrated data\n",
    "    drv_cube = update_cube_with_new_data(drv_cube_tgt, combined_data)\n",
    "    return drv_cube\n",
    "\n"
   ]
  },
  {
   "cell_type": "code",
   "execution_count": 10,
   "metadata": {},
   "outputs": [],
   "source": [
    "import unittest\n",
    "class TestMdsRegrid(unittest.TestCase):\n",
    "    def setUp(self):\n",
    "        # Create sample cubes for testing\n",
    "        self.topo_aps2 = empty_3d_cube_aps2(\n",
    "            surface_alt_aps2_data, 'surface_altitude', 'm', 'm01s00i033')\n",
    "        self.topo_aps3 = empty_3d_cube_aps3(\n",
    "            surface_alt_aps3_data, 'surface_altitude', 'm', 'm01s00i033')\n",
    "        self.lsm_aps2 = empty_3d_cube_aps2(\n",
    "            lsm_aps2_data, 'land_area_fraction', '1', )\n",
    "        self.lsm_aps3 = empty_3d_cube_aps3(\n",
    "            lsm_aps3_data, 'land_binary_mask', '1')\n",
    "        self.t_scn_aps3 = empty_3d_cube_aps3(\n",
    "            t_scn_aps3_data, 'air_temperature', 'K')\n",
    "        self.sfc_prs_aps3 = empty_3d_cube_aps3(\n",
    "            sfc_prs_aps3_data, 'air_pressure_at_sea_level', 'Pa')\n",
    "        self.precip_aps3 = empty_3d_cube_aps3(\n",
    "            precip_aps3_data, 'precipitation_amount', 'kg m-2', 'm01s05i226')\n",
    "        self.dpt_scn_aps3 = empty_3d_cube_aps3(\n",
    "            dpt_scn_aps3_data, 'dew_point_temperature', 'K', 'm01s03i250')\n",
    "        self.q_scn_aps3 = empty_3d_cube_aps3(\n",
    "            q_scn_aps3_data, 'specific_humidity', '1', 'm01s03i237')\n",
    "\n",
    "        # For (x, y), it should be (lon, lat) accordingly\n",
    "        self.x_aps2 = self.topo_aps2.coord('longitude').points\n",
    "        self.y_aps2 = self.topo_aps2.coord('latitude').points\n",
    "        self.x_aps3 = self.topo_aps3.coord('longitude').points\n",
    "        self.y_aps3 = self.topo_aps3.coord('latitude').points\n",
    "\n",
    "        # This Iris derived will be used in later\n",
    "        self.drv_t_scn_iris = regrid_cube_by_scheme(\n",
    "                                self.t_scn_aps3, self.topo_aps2,\n",
    "                                scheme='linear')\n",
    "        self.input_cubes = CubeList([])\n",
    "        self.input_cubes.extend(\n",
    "            [self.dpt_scn_aps3, self.sfc_prs_aps3, self.t_scn_aps3])\n",
    "\n",
    "        self.in_grids = CubeList([])\n",
    "        self.in_grids.extend([self.topo_aps3, self.lsm_aps3])\n",
    "        self.out_grids = CubeList([])\n",
    "        self.out_grids.extend([self.topo_aps2, self.lsm_aps2])\n",
    "\n",
    "    def test_regrid_linear_iris(self):\n",
    "        \"\"\"\n",
    "        Test the difference between IRIS and scipy linear regridding\n",
    "        \"\"\"\n",
    "        t_scn_iris_data = self.drv_t_scn_iris.data\n",
    "        # This interpolation is in the original form.\n",
    "        # The \"interp_by_scipy\" is an updated function based on it.\n",
    "        scipy_interp = RegularGridInterpolator(\n",
    "            (self.x_aps3, self.y_aps3), self.t_scn_aps3.data, method='linear')\n",
    "\n",
    "        t_scn_scipy_data = scipy_interp(\n",
    "            list(product(self.x_aps2, self.y_aps2))).reshape(3, 3)\n",
    "\n",
    "        self.assertAlmostEqual(t_scn_iris_data.any(),\n",
    "                               t_scn_scipy_data.any())\n",
    "        \n",
    "    def test_regrid_linear_coastline_iris(self):\n",
    "        \"\"\"\n",
    "        Test the hypothesis that IRIS regridding already applies the coastline\n",
    "        inside its algorithms. Use scipy linear two stage regridding to prove.\n",
    "        \"\"\"\n",
    "        # Calculate Scipy two stage data\n",
    "        drv_t_scn_scipy = two_stage_interp(\n",
    "            self.t_scn_aps3, self.topo_aps2, self.lsm_aps3, self.lsm_aps2)\n",
    "        scipy_results = drv_t_scn_scipy.data\n",
    "        iris_results = self.drv_t_scn_iris.data\n",
    "        assert_almost_equal(iris_results, scipy_results, decimal=2)"
   ]
  },
  {
   "cell_type": "code",
   "execution_count": 13,
   "metadata": {
    "collapsed": true
   },
   "outputs": [],
   "source": [
    "import theano.tensor as T"
   ]
  },
  {
   "cell_type": "code",
   "execution_count": 23,
   "metadata": {
    "collapsed": true
   },
   "outputs": [],
   "source": [
    "x = T.matrix('x')"
   ]
  },
  {
   "cell_type": "code",
   "execution_count": 24,
   "metadata": {
    "collapsed": true
   },
   "outputs": [],
   "source": [
    "out = x + x*10"
   ]
  },
  {
   "cell_type": "code",
   "execution_count": 25,
   "metadata": {
    "collapsed": true
   },
   "outputs": [],
   "source": [
    "f = theano.function([x], out)"
   ]
  },
  {
   "cell_type": "code",
   "execution_count": 18,
   "metadata": {},
   "outputs": [
    {
     "name": "stdout",
     "output_type": "stream",
     "text": [
      "surface_altitude / (m)              (latitude: 769; longitude: 1024)\n",
      "     Dimension coordinates:\n",
      "          latitude                           x               -\n",
      "          longitude                          -               x\n",
      "     Scalar coordinates:\n",
      "          forecast_period: 3 hours\n",
      "          forecast_reference_time: 2016-12-01 00:00:00\n",
      "          time: 2016-12-01 03:00:00\n"
     ]
    }
   ],
   "source": [
    "# some test data\n",
    "[topo_aps2] = cubes_aps2.extract('surface_altitude')\n",
    "print(topo_aps2)"
   ]
  },
  {
   "cell_type": "code",
   "execution_count": 19,
   "metadata": {
    "collapsed": true
   },
   "outputs": [],
   "source": [
    "test_data = topo_aps2.data"
   ]
  },
  {
   "cell_type": "code",
   "execution_count": 26,
   "metadata": {},
   "outputs": [
    {
     "data": {
      "text/plain": [
       "(numpy.ndarray, (769, 1024))"
      ]
     },
     "execution_count": 26,
     "metadata": {},
     "output_type": "execute_result"
    }
   ],
   "source": [
    "type(test_data), test_data.shape"
   ]
  },
  {
   "cell_type": "code",
   "execution_count": 27,
   "metadata": {
    "scrolled": true
   },
   "outputs": [
    {
     "name": "stdout",
     "output_type": "stream",
     "text": [
      "[[ 30542.875  30542.875  30542.875 ...,  30542.875  30542.875  30542.875]\n",
      " [ 30523.625  30526.375  30529.125 ...,  30515.375  30518.125  30520.875]\n",
      " [ 30320.125  30325.625  30331.125 ...,  30305.     30310.5    30314.625]\n",
      " ..., \n",
      " [     0.         0.         0.    ...,      0.         0.         0.   ]\n",
      " [     0.         0.         0.    ...,      0.         0.         0.   ]\n",
      " [     0.         0.         0.    ...,      0.         0.         0.   ]]\n"
     ]
    }
   ],
   "source": [
    "print(f(test_data))"
   ]
  },
  {
   "cell_type": "markdown",
   "metadata": {},
   "source": [
    "## Try Scipy interpolator"
   ]
  },
  {
   "cell_type": "code",
   "execution_count": 28,
   "metadata": {
    "collapsed": true
   },
   "outputs": [],
   "source": [
    "def get_cube_grids(cube):\n",
    "    \"\"\"\n",
    "    Return the (longitude, latitude) as (x, y) grids from an input cube.\n",
    "    Be the same as original cube (lat, lon)\n",
    "    \"\"\"\n",
    "    y = cube.coord('longitude').points\n",
    "    x = cube.coord('latitude').points\n",
    "    return (x, y)"
   ]
  },
  {
   "cell_type": "code",
   "execution_count": 30,
   "metadata": {},
   "outputs": [
    {
     "name": "stdout",
     "output_type": "stream",
     "text": [
      "surface_altitude / (m)              (latitude: 1536; longitude: 2048)\n",
      "     Dimension coordinates:\n",
      "          latitude                           x                -\n",
      "          longitude                          -                x\n",
      "     Scalar coordinates:\n",
      "          forecast_period: 1 hours\n",
      "          forecast_reference_time: 2017-02-05 12:00:00\n",
      "          time: 2017-02-05 13:00:00\n"
     ]
    }
   ],
   "source": [
    "[topo_aps3] = cubes_aps3.extract('surface_altitude')\n",
    "print(topo_aps3)"
   ]
  },
  {
   "cell_type": "code",
   "execution_count": 31,
   "metadata": {
    "collapsed": true
   },
   "outputs": [],
   "source": [
    "src_grids = get_cube_grids(topo_aps3)\n",
    "src_data = topo_aps3.data"
   ]
  },
  {
   "cell_type": "code",
   "execution_count": 32,
   "metadata": {
    "collapsed": true
   },
   "outputs": [],
   "source": [
    "# Use scipy as a interpolator\n",
    "from scipy.interpolate import RegularGridInterpolator    \n",
    "# Define the interpolator \n",
    "scipy_interp = RegularGridInterpolator(src_grids, src_data, method='linear')"
   ]
  },
  {
   "cell_type": "code",
   "execution_count": 35,
   "metadata": {
    "collapsed": true
   },
   "outputs": [],
   "source": [
    "tgt_grids = get_cube_grids(topo_aps2)\n",
    "from itertools import product\n",
    "test_input = list(product(tgt_grids[0], tgt_grids[1]))"
   ]
  },
  {
   "cell_type": "code",
   "execution_count": 38,
   "metadata": {
    "collapsed": true
   },
   "outputs": [],
   "source": [
    "x = theano.shared(topo_aps2)"
   ]
  },
  {
   "cell_type": "code",
   "execution_count": 44,
   "metadata": {
    "collapsed": true
   },
   "outputs": [],
   "source": [
    "x.set_value(topo_aps2.data)"
   ]
  },
  {
   "cell_type": "code",
   "execution_count": 46,
   "metadata": {},
   "outputs": [
    {
     "ename": "Exception",
     "evalue": "sharedvar.value does not exist anymore. Use sharedvar.get_value() or sharedvar.set_value() instead.",
     "output_type": "error",
     "traceback": [
      "\u001b[0;31m---------------------------------------------------------------------------\u001b[0m",
      "\u001b[0;31mException\u001b[0m                                 Traceback (most recent call last)",
      "\u001b[0;32m<ipython-input-46-f530c6c665ff>\u001b[0m in \u001b[0;36m<module>\u001b[0;34m()\u001b[0m\n\u001b[0;32m----> 1\u001b[0;31m \u001b[0mx\u001b[0m\u001b[0;34m.\u001b[0m\u001b[0mvalue\u001b[0m\u001b[0;34m(\u001b[0m\u001b[0;34m)\u001b[0m\u001b[0;34m\u001b[0m\u001b[0m\n\u001b[0m",
      "\u001b[0;32m/data/hwang/conda/miniconda3/envs/pre-proc-py2/lib/python2.7/site-packages/theano/compile/sharedvalue.pyc\u001b[0m in \u001b[0;36m_value_get\u001b[0;34m(self)\u001b[0m\n\u001b[1;32m    200\u001b[0m \u001b[0;34m\u001b[0m\u001b[0m\n\u001b[1;32m    201\u001b[0m     \u001b[0;32mdef\u001b[0m \u001b[0m_value_get\u001b[0m\u001b[0;34m(\u001b[0m\u001b[0mself\u001b[0m\u001b[0;34m)\u001b[0m\u001b[0;34m:\u001b[0m\u001b[0;34m\u001b[0m\u001b[0m\n\u001b[0;32m--> 202\u001b[0;31m         raise Exception(\"sharedvar.value does not exist anymore. Use \"\n\u001b[0m\u001b[1;32m    203\u001b[0m                         \u001b[0;34m\"sharedvar.get_value() or sharedvar.set_value()\"\u001b[0m\u001b[0;34m\u001b[0m\u001b[0m\n\u001b[1;32m    204\u001b[0m                         \" instead.\")\n",
      "\u001b[0;31mException\u001b[0m: sharedvar.value does not exist anymore. Use sharedvar.get_value() or sharedvar.set_value() instead."
     ]
    }
   ],
   "source": [
    "x.value()"
   ]
  },
  {
   "cell_type": "code",
   "execution_count": null,
   "metadata": {
    "collapsed": true
   },
   "outputs": [],
   "source": [
    ">>> import numpy as np\n",
    ">>> from sklearn.preprocessing import FunctionTransformer\n",
    ">>> transformer = FunctionTransformer(np.log1p)\n",
    ">>> X = np.array([[0, 1], [2, 3]])\n",
    ">>> transformer.transform(X)\n",
    "array([[ 0.        ,  0.69314718],\n",
    "       [ 1.09861229,  1.38629436]])"
   ]
  },
  {
   "cell_type": "markdown",
   "metadata": {},
   "source": [
    "### Define a transform function with input being np.array, output also np.array"
   ]
  },
  {
   "cell_type": "code",
   "execution_count": 48,
   "metadata": {
    "collapsed": true
   },
   "outputs": [],
   "source": [
    "regridder_aps3_to_aps2 = iris.analysis.Linear().regridder(topo_aps3, topo_aps2)"
   ]
  },
  {
   "cell_type": "code",
   "execution_count": 49,
   "metadata": {
    "collapsed": true
   },
   "outputs": [],
   "source": [
    "regridder_aps2_to_aps3 = iris.analysis.Linear().regridder(topo_aps2, topo_aps3)"
   ]
  },
  {
   "cell_type": "markdown",
   "metadata": {},
   "source": [
    "### This part is to develop a interp function from scipy (pulled together)"
   ]
  },
  {
   "cell_type": "code",
   "execution_count": 56,
   "metadata": {
    "collapsed": true
   },
   "outputs": [],
   "source": [
    "import scipy.interpolate as interpolator"
   ]
  },
  {
   "cell_type": "code",
   "execution_count": 60,
   "metadata": {
    "collapsed": true
   },
   "outputs": [],
   "source": [
    "import numpy as np"
   ]
  },
  {
   "cell_type": "code",
   "execution_count": 62,
   "metadata": {
    "collapsed": true
   },
   "outputs": [],
   "source": [
    "from itertools import product"
   ]
  },
  {
   "cell_type": "code",
   "execution_count": 68,
   "metadata": {
    "collapsed": true
   },
   "outputs": [],
   "source": [
    "def get_cube_grid_array(cube):\n",
    "    \"\"\"\n",
    "    Return the (longitude, latitude) as (x, y) grids from an input cube.\n",
    "    Be the same as original cube (lat, lon)\n",
    "    \"\"\"\n",
    "    y = cube.coord('longitude').points\n",
    "    x = cube.coord('latitude').points\n",
    "    print(product(x,y))\n",
    "    import pdb; pdb.set_trace()\n",
    "    new_array = np.array(list(product(x, y)))\n",
    "    return new_array.reshape(len(x), len(y))"
   ]
  },
  {
   "cell_type": "code",
   "execution_count": 88,
   "metadata": {
    "collapsed": true
   },
   "outputs": [],
   "source": [
    "lat_src = topo_aps3.coord('latitude').points\n",
    "lon_src = topo_aps3.coord('longitude').points"
   ]
  },
  {
   "cell_type": "code",
   "execution_count": 89,
   "metadata": {
    "collapsed": true
   },
   "outputs": [],
   "source": [
    "lat_tgt = topo_aps2.coord('latitude').points\n",
    "lon_tgt = topo_aps2.coord('longitude').points"
   ]
  },
  {
   "cell_type": "code",
   "execution_count": 91,
   "metadata": {},
   "outputs": [
    {
     "name": "stdout",
     "output_type": "stream",
     "text": [
      "[[  2.77834596e+03   2.77837331e+03   2.77840016e+03 ...,   2.77826344e+03\n",
      "    2.77829079e+03   2.77831862e+03]\n",
      " [  2.77882936e+03   2.77892067e+03   2.77901198e+03 ...,   2.77855641e+03\n",
      "    2.77864723e+03   2.77873854e+03]\n",
      " [  2.77736842e+03   2.77753737e+03   2.77770680e+03 ...,   2.77686256e+03\n",
      "    2.77703102e+03   2.77719948e+03]\n",
      " ..., \n",
      " [ -2.28881836e-04  -2.28881836e-04  -2.28881836e-04 ...,  -2.28881836e-04\n",
      "   -2.28881836e-04  -2.28881836e-04]\n",
      " [ -2.28881836e-04  -2.28881836e-04  -2.28881836e-04 ...,  -2.28881836e-04\n",
      "   -2.28881836e-04  -2.28881836e-04]\n",
      " [ -2.28881836e-04  -2.28881836e-04  -2.28881836e-04 ...,  -2.28881836e-04\n",
      "   -2.28881836e-04  -2.28881836e-04]]\n"
     ]
    }
   ],
   "source": [
    "print(src_data)"
   ]
  },
  {
   "cell_type": "code",
   "execution_count": 90,
   "metadata": {},
   "outputs": [
    {
     "name": "stdout",
     "output_type": "stream",
     "text": [
      "(1536, 2048)\n"
     ]
    }
   ],
   "source": [
    "print(src_data.shape)"
   ]
  },
  {
   "cell_type": "code",
   "execution_count": 92,
   "metadata": {
    "collapsed": true
   },
   "outputs": [],
   "source": [
    "topo_src_vec = np.ravel(src_data)"
   ]
  },
  {
   "cell_type": "code",
   "execution_count": 104,
   "metadata": {
    "collapsed": true
   },
   "outputs": [],
   "source": [
    "def get_grid_vector(lat, lon):\n",
    "    \"\"\"\n",
    "    Convert input lat, lon (nparray) into grid_mesh for scipy interpolate;\n",
    "    First step to prepare for scipy interpolation.\n",
    "    \"\"\"\n",
    "    import numpy as np\n",
    "    lat_mesh, lon_mesh = np.meshgrid(lat, lon)\n",
    "    lat_vec = np.ravel(lat_mesh)\n",
    "    lon_vec = np.ravel(lon_mesh)\n",
    "    return lat_vec, lon_vec"
   ]
  },
  {
   "cell_type": "code",
   "execution_count": 105,
   "metadata": {
    "collapsed": true
   },
   "outputs": [],
   "source": [
    "def get_grid_points(lat, lon):\n",
    "    \"\"\"\n",
    "    Convert input lat, lon (nparray) into grid_points for scipy interpolate.\n",
    "    \"\"\"\n",
    "    lat_vec, lon_vec = get_grid_vector(lat, lon)\n",
    "    grid_points = np.vstack((lat_vec, lon_vec)).T\n",
    "    return grid_points"
   ]
  },
  {
   "cell_type": "code",
   "execution_count": 95,
   "metadata": {
    "collapsed": true
   },
   "outputs": [],
   "source": [
    "grid_points_src = get_grid_points(lat_src, lon_src)\n",
    "grid_points_tgt = get_grid_points(lat_tgt, lon_tgt)"
   ]
  },
  {
   "cell_type": "code",
   "execution_count": 98,
   "metadata": {
    "collapsed": true
   },
   "outputs": [],
   "source": [
    "bl_interp = interpolator.LinearNDInterpolator(grid_points_src, topo_src_vec)"
   ]
  },
  {
   "cell_type": "code",
   "execution_count": 101,
   "metadata": {
    "collapsed": true
   },
   "outputs": [],
   "source": [
    "lat_tgt_mesh, lon_tgt_mesh = np.meshgrid(lat_tgt, lon_tgt)"
   ]
  },
  {
   "cell_type": "code",
   "execution_count": 102,
   "metadata": {
    "collapsed": true
   },
   "outputs": [],
   "source": [
    "lat_tgt_vec = np.ravel(lat_tgt_mesh)\n",
    "lon_tgt_vec = np.ravel(lon_tgt_mesh)"
   ]
  },
  {
   "cell_type": "code",
   "execution_count": 103,
   "metadata": {
    "collapsed": true
   },
   "outputs": [],
   "source": [
    "regrid_results = bl_interp(lat_tgt_vec, lon_tgt_vec)"
   ]
  },
  {
   "cell_type": "code",
   "execution_count": 106,
   "metadata": {},
   "outputs": [
    {
     "name": "stdout",
     "output_type": "stream",
     "text": [
      "(787456,)\n"
     ]
    }
   ],
   "source": [
    "print(regrid_results.shape)"
   ]
  },
  {
   "cell_type": "code",
   "execution_count": 107,
   "metadata": {},
   "outputs": [
    {
     "data": {
      "text/plain": [
       "numpy.ndarray"
      ]
     },
     "execution_count": 107,
     "metadata": {},
     "output_type": "execute_result"
    }
   ],
   "source": [
    "type(regrid_results)"
   ]
  },
  {
   "cell_type": "code",
   "execution_count": 108,
   "metadata": {
    "collapsed": true
   },
   "outputs": [],
   "source": [
    "new_array = regrid_results.reshape(len(lat_tgt), len(lon_tgt))"
   ]
  },
  {
   "cell_type": "code",
   "execution_count": 109,
   "metadata": {},
   "outputs": [
    {
     "data": {
      "text/plain": [
       "(769, 1024)"
      ]
     },
     "execution_count": 109,
     "metadata": {},
     "output_type": "execute_result"
    }
   ],
   "source": [
    "new_array.shape"
   ]
  },
  {
   "cell_type": "markdown",
   "metadata": {},
   "source": [
    "## now pull all together for the scipy interpolator"
   ]
  },
  {
   "cell_type": "code",
   "execution_count": 111,
   "metadata": {
    "collapsed": true
   },
   "outputs": [],
   "source": [
    "def get_grid_vector(lat, lon):\n",
    "    \"\"\"\n",
    "    Convert input lat, lon (nparray) into grid_mesh for scipy interpolate;\n",
    "    First step to prepare for scipy interpolation.\n",
    "    \"\"\"\n",
    "    import numpy as np\n",
    "    lat_mesh, lon_mesh = np.meshgrid(lat, lon)\n",
    "    lat_vec = np.ravel(lat_mesh)\n",
    "    lon_vec = np.ravel(lon_mesh)\n",
    "    return lat_vec, lon_vec\n",
    "\n",
    "def get_grid_points(lat, lon):\n",
    "    \"\"\"\n",
    "    Convert input lat, lon (nparray) into grid_points for scipy interpolate.\n",
    "    \"\"\"\n",
    "    lat_vec, lon_vec = get_grid_vector(lat, lon)\n",
    "    grid_points = np.vstack((lat_vec, lon_vec)).T\n",
    "    return grid_points"
   ]
  },
  {
   "cell_type": "code",
   "execution_count": 112,
   "metadata": {
    "collapsed": true
   },
   "outputs": [],
   "source": [
    "def interpolate_by_scipy(src_data, lat_src, lon_src, lat_tgt, lon_tgt, method='linear'):\n",
    "    \"\"\"\n",
    "    Use Scipy to interpolate input source data to target grid.\n",
    "    ------\n",
    "    Input:\n",
    "        src_data: the metadata on src_grids\n",
    "        lat_src or lat_tgt: the latitude 1d np.array from source or target grids\n",
    "        lon_src or lon_tgt: the longitude 1d np.array from source or target grids\n",
    "        method: the interpolate method used by scipy RegularGridInterpolator\n",
    "                only available \"linear\" & \"nearest\"\n",
    "    Output:\n",
    "        tgt_data: the interpolated data on target grids.\n",
    "    \"\"\"\n",
    "    import scipy.interpolate as interpolator\n",
    "\n",
    "    # Need prepare grid_points and vestor for scipy interpolator\n",
    "    src_data_vec = np.ravel(src_data)\n",
    "    grid_points_src = get_grid_points(lat_src, lon_src)\n",
    "    lat_tgt_vec, lon_tgt_vec = get_grid_vector(lat_tgt, lon_tgt)\n",
    "    \n",
    "    # Define the interpolator\n",
    "    if method == 'linear':\n",
    "        scipy_interp = interpolator.LinearNDInterpolator(grid_points_src, src_data_vec)\n",
    "    elif method == 'nearest':\n",
    "        scipy_interp = interpolator.NearestNDInterpolator(grid_points_src, src_data_vec)\n",
    "    else:\n",
    "        raise ValueError(\"Only linear and nearest interpolations are available!\")\n",
    "    # Derive\n",
    "    tgt_data = scipy_interp(lat_tgt_vec, lon_tgt_vec)\n",
    "    # Need reshape back to 2d\n",
    "    tgt_data = tgt_data.reshape(len(lat_tgt), len(lon_tgt))\n",
    "    return tgt_data"
   ]
  },
  {
   "cell_type": "markdown",
   "metadata": {},
   "source": [
    "# Look like we need modify this function with a simple input only"
   ]
  },
  {
   "cell_type": "code",
   "execution_count": 116,
   "metadata": {
    "collapsed": true
   },
   "outputs": [],
   "source": [
    "def interpolate_by_scipy_linear(src_data):\n",
    "    \"\"\"\n",
    "    Use Scipy to interpolate input source data to target grid.\n",
    "    ------\n",
    "    Input:\n",
    "        src_data: the metadata on src_grids\n",
    "    Output:\n",
    "        tgt_data: the interpolated data on target grids.\n",
    "    Note: the following parameters are required\n",
    "        lat_src or lat_tgt: the latitude 1d np.array from source or target grids\n",
    "        lon_src or lon_tgt: the longitude 1d np.array from source or target grids\n",
    "        method: the interpolate method used by scipy RegularGridInterpolator\n",
    "                only available \"linear\" & \"nearest\"\n",
    "    \"\"\"\n",
    "    import scipy.interpolate as interpolator\n",
    "\n",
    "    # Need prepare grid_points and vestor for scipy interpolator\n",
    "    src_data_vec = np.ravel(src_data)\n",
    "    grid_points_src = get_grid_points(lat_src, lon_src)\n",
    "    lat_tgt_vec, lon_tgt_vec = get_grid_vector(lat_tgt, lon_tgt)\n",
    "    \n",
    "    # Define the interpolator\n",
    "    scipy_interp = interpolator.LinearNDInterpolator(grid_points_src, src_data_vec)\n",
    "    # Derive\n",
    "    tgt_data = scipy_interp(lat_tgt_vec, lon_tgt_vec)\n",
    "    # Need reshape back to 2d\n",
    "    tgt_data = tgt_data.reshape(len(lat_tgt), len(lon_tgt))\n",
    "\n",
    "    return tgt_data"
   ]
  },
  {
   "cell_type": "code",
   "execution_count": 119,
   "metadata": {
    "collapsed": true
   },
   "outputs": [],
   "source": [
    "def interpolate_by_scipy_nearest(src_data):\n",
    "    \"\"\"\n",
    "    Use Scipy to interpolate input source data to target grid.\n",
    "    ------\n",
    "    Input:\n",
    "        src_data: the metadata on src_grids\n",
    "    Output:\n",
    "        tgt_data: the interpolated data on target grids.\n",
    "    Note: the following parameters are required\n",
    "        lat_src or lat_tgt: the latitude 1d np.array from source or target grids\n",
    "        lon_src or lon_tgt: the longitude 1d np.array from source or target grids\n",
    "        method: the interpolate method used by scipy RegularGridInterpolator\n",
    "                only available \"linear\" & \"nearest\"\n",
    "    \"\"\"\n",
    "    import scipy.interpolate as interpolator\n",
    "    global lat_src, lon_src, lat_tgt, lon_tgt\n",
    "    # Need prepare grid_points and vestor for scipy interpolator\n",
    "    src_data_vec = np.ravel(src_data)\n",
    "    grid_points_src = get_grid_points(lat_src, lon_src)\n",
    "    lat_tgt_vec, lon_tgt_vec = get_grid_vector(lat_tgt, lon_tgt)\n",
    "    \n",
    "    # Define the interpolator\n",
    "    scipy_interp = interpolator.NearestNDInterpolator(grid_points_src, src_data_vec)\n",
    "    # Derive\n",
    "    tgt_data = scipy_interp(lat_tgt_vec, lon_tgt_vec)\n",
    "    # Need reshape back to 2d\n",
    "    tgt_data = tgt_data.reshape(len(lat_tgt), len(lon_tgt))\n",
    "\n",
    "    return tgt_data"
   ]
  },
  {
   "cell_type": "markdown",
   "metadata": {},
   "source": [
    "## Now to the sklearn custom "
   ]
  },
  {
   "cell_type": "code",
   "execution_count": 51,
   "metadata": {
    "collapsed": true
   },
   "outputs": [],
   "source": [
    "from sklearn.preprocessing import FunctionTransformer"
   ]
  },
  {
   "cell_type": "code",
   "execution_count": 53,
   "metadata": {},
   "outputs": [
    {
     "name": "stdout",
     "output_type": "stream",
     "text": [
      "air_temperature / (K)               (latitude: 1536; longitude: 2048)\n",
      "     Dimension coordinates:\n",
      "          latitude                           x                -\n",
      "          longitude                          -                x\n",
      "     Scalar coordinates:\n",
      "          forecast_period: 1 hours\n",
      "          forecast_reference_time: 2017-02-05 12:00:00\n",
      "          height: 1.0 m\n",
      "          time: 2017-02-05 13:00:00\n"
     ]
    }
   ],
   "source": [
    "[t_scn] = cubes_aps3.extract('air_temperature')\n",
    "print(t_scn)"
   ]
  },
  {
   "cell_type": "code",
   "execution_count": 54,
   "metadata": {},
   "outputs": [
    {
     "data": {
      "text/plain": [
       "numpy.ndarray"
      ]
     },
     "execution_count": 54,
     "metadata": {},
     "output_type": "execute_result"
    }
   ],
   "source": [
    "X = t_scn.data\n",
    "type(X)"
   ]
  },
  {
   "cell_type": "code",
   "execution_count": 117,
   "metadata": {
    "collapsed": true
   },
   "outputs": [],
   "source": [
    "transformer = FunctionTransformer(interpolate_by_scipy_linear)"
   ]
  },
  {
   "cell_type": "code",
   "execution_count": 118,
   "metadata": {
    "collapsed": true
   },
   "outputs": [],
   "source": [
    "y = transformer.transform(X)"
   ]
  },
  {
   "cell_type": "code",
   "execution_count": 121,
   "metadata": {},
   "outputs": [
    {
     "name": "stdout",
     "output_type": "stream",
     "text": [
      "(769, 1024)\n"
     ]
    }
   ],
   "source": [
    "print(y.shape)"
   ]
  },
  {
   "cell_type": "code",
   "execution_count": 122,
   "metadata": {},
   "outputs": [
    {
     "name": "stdout",
     "output_type": "stream",
     "text": [
      "[[          nan           nan           nan ...,  241.05465817\n",
      "   241.01576473  241.05489563]\n",
      " [ 241.0390317   240.9762269   240.97656743 ...,  241.4220718   241.47554117\n",
      "   241.32105103]\n",
      " [ 241.36656795  241.39096055  241.35902589 ...,  240.02329608\n",
      "   239.99194452  239.95318736]\n",
      " ..., \n",
      " [ 246.20047451  246.15378413  246.24834706 ...,  245.32413282\n",
      "   245.44153005  245.23192709]\n",
      " [ 245.21513835  245.41132899  245.41754148 ...,  244.62729485  244.5176698\n",
      "   244.47910646]\n",
      " [ 244.67984253  244.48707945  244.57115259 ...,  244.8770796   244.81349014\n",
      "            nan]]\n"
     ]
    }
   ],
   "source": [
    "print(y)"
   ]
  }
 ],
 "metadata": {
  "kernelspec": {
   "display_name": "Python 2",
   "language": "python",
   "name": "python2"
  },
  "language_info": {
   "codemirror_mode": {
    "name": "ipython",
    "version": 2
   },
   "file_extension": ".py",
   "mimetype": "text/x-python",
   "name": "python",
   "nbconvert_exporter": "python",
   "pygments_lexer": "ipython2",
   "version": "2.7.13"
  }
 },
 "nbformat": 4,
 "nbformat_minor": 2
}
